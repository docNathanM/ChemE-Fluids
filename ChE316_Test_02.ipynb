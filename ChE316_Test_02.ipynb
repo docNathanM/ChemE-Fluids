{
  "cells": [
    {
      "cell_type": "markdown",
      "metadata": {
        "id": "view-in-github",
        "colab_type": "text"
      },
      "source": [
        "<a href=\"https://colab.research.google.com/github/docNathanM/chemeng316_fluids/blob/main/ChE316_Test_02.ipynb\" target=\"_parent\"><img src=\"https://colab.research.google.com/assets/colab-badge.svg\" alt=\"Open In Colab\"/></a>"
      ]
    },
    {
      "cell_type": "markdown",
      "id": "d90c52c6",
      "metadata": {
        "id": "d90c52c6"
      },
      "source": [
        "# Test 2: ChE 316"
      ]
    },
    {
      "cell_type": "code",
      "execution_count": null,
      "id": "24ca465b",
      "metadata": {
        "id": "24ca465b",
        "outputId": "74f04e9c-3ffb-4f41-eaef-cbec07718748"
      },
      "outputs": [
        {
          "name": "stdout",
          "output_type": "stream",
          "text": [
            "zsh:1: command not found: pip\r\n"
          ]
        },
        {
          "ename": "ModuleNotFoundError",
          "evalue": "No module named 'pint'",
          "output_type": "error",
          "traceback": [
            "\u001b[0;31m---------------------------------------------------------------------------\u001b[0m",
            "\u001b[0;31mModuleNotFoundError\u001b[0m                       Traceback (most recent call last)",
            "Input \u001b[0;32mIn [2]\u001b[0m, in \u001b[0;36m<cell line: 2>\u001b[0;34m()\u001b[0m\n\u001b[1;32m      1\u001b[0m get_ipython()\u001b[38;5;241m.\u001b[39msystem(\u001b[38;5;124m'\u001b[39m\u001b[38;5;124mpip install pint\u001b[39m\u001b[38;5;124m'\u001b[39m)\n\u001b[0;32m----> 2\u001b[0m \u001b[38;5;28;01mfrom\u001b[39;00m \u001b[38;5;21;01mpint\u001b[39;00m \u001b[38;5;28;01mimport\u001b[39;00m UnitRegistry\n\u001b[1;32m      3\u001b[0m ur \u001b[38;5;241m=\u001b[39m UnitRegistry()\n",
            "\u001b[0;31mModuleNotFoundError\u001b[0m: No module named 'pint'"
          ]
        }
      ],
      "source": [
        "!pip install pint\n",
        "from pint import UnitRegistry\n",
        "ur = UnitRegistry()"
      ]
    },
    {
      "cell_type": "code",
      "execution_count": null,
      "id": "09907aa3",
      "metadata": {
        "id": "09907aa3"
      },
      "outputs": [],
      "source": [
        "from CoolProp.CoolProp import PhaseSI, PropsSI"
      ]
    },
    {
      "cell_type": "code",
      "execution_count": null,
      "id": "7f26a9a4",
      "metadata": {
        "id": "7f26a9a4"
      },
      "outputs": [],
      "source": [
        "import numpy as np"
      ]
    },
    {
      "cell_type": "markdown",
      "id": "89ad82fd",
      "metadata": {
        "id": "89ad82fd"
      },
      "source": [
        "## Problem 1\n",
        "For the following situations, describe the direction of momentum flux."
      ]
    },
    {
      "cell_type": "markdown",
      "id": "29b6124e",
      "metadata": {
        "id": "29b6124e"
      },
      "source": [
        "## Problem 2\n",
        "\n",
        "EthylBenzene, C$_8$H$_{10}$, flows at 10 m/s over a boundary surface. A measurement of the boundary layer velocity profile is well estimated by\n",
        "$$ u(y) = 10 \\left[ 1 - e^{-4.605 y / \\delta} \\right] $$\n",
        "where $\\delta = 5$ mm, and the velocity, $u(y)$, has units of m/s. The viscosity for EthylBenzene in this scenario is found to be $\\mu = $ 0.000648 Pa$\\cdot$s.\n",
        "\n",
        "1. Write the definition of wall shear stress, $\\tau_{wall}$.\n",
        "2. Find the velocity gradient, $\\partial u / \\partial y$, by taking the derivative of the given $u(y)$.\n",
        "3. Compute the wall shear stress using the results from (a) and (b). Give you final answer in Pascals.\n"
      ]
    },
    {
      "cell_type": "markdown",
      "id": "1abcbf07",
      "metadata": {
        "id": "1abcbf07"
      },
      "source": [
        "### Given "
      ]
    },
    {
      "cell_type": "code",
      "execution_count": null,
      "id": "085da0f5",
      "metadata": {
        "id": "085da0f5"
      },
      "outputs": [],
      "source": [
        "mu = 0.000648 * ur.Pa * ur.sec\n",
        "U_inf = 10 * ur.meter_per_second\n",
        "delta_mm = 5 * ur.millimeter"
      ]
    },
    {
      "cell_type": "markdown",
      "id": "1d2c56fe",
      "metadata": {
        "id": "1d2c56fe"
      },
      "source": [
        "\n",
        "### 2.1 Shear Stress\n",
        "\n",
        "$$ \\tau_{wall} = -\\mu \\frac{\\partial u}{\\partial y} $$"
      ]
    },
    {
      "cell_type": "markdown",
      "id": "4558af47",
      "metadata": {
        "id": "4558af47"
      },
      "source": [
        "### 2.2 Velocity Gradient\n",
        "\n",
        "$$ \n",
        "\\frac{\\partial u}{\\partial y} = \\frac{\\partial}{\\partial y} \\left[ 10 - 10 e ^{-4.605 y / \\delta} \\right]\\\\\n",
        "\\frac{\\partial u}{\\partial y} = -10\\left[\\frac{-4.605}{\\delta} e ^{-4.605 y / \\delta} \\right]\\\\\n",
        "\\frac{\\partial u}{\\partial y} = \\frac{46.05[\\textrm{m}/\\textrm{s}]}{\\delta[\\textrm{mm}] \\cdot 1[\\textrm{m}]/1000[\\textrm{mm}]} e ^{-4.605 y / \\delta}\n",
        "$$\n",
        "\n"
      ]
    },
    {
      "cell_type": "markdown",
      "id": "da9c3d49",
      "metadata": {
        "id": "da9c3d49"
      },
      "source": [
        "### 2.3 Shear Stress Calculation\n",
        "\n",
        "$$\n",
        "\\left.\\frac{\\partial u}{\\partial y}\\right\\vert_{y=0} = \\frac{46.05[\\textrm{m}/\\textrm{s}]}{\\delta[\\textrm{mm}] \\cdot 1[\\textrm{m}]/1000[\\textrm{mm}]} \n",
        "$$"
      ]
    },
    {
      "cell_type": "code",
      "execution_count": null,
      "id": "e943a15a",
      "metadata": {
        "id": "e943a15a"
      },
      "outputs": [],
      "source": [
        "delta_m = delta_mm.to(ur.meter)\n",
        "dudy_yZero = 46.05 * ur.meter_per_second / delta_m\n",
        "tau_wall = - mu * dudy_yZero "
      ]
    },
    {
      "cell_type": "code",
      "execution_count": null,
      "id": "368728b6",
      "metadata": {
        "id": "368728b6",
        "outputId": "b00507f8-85d6-4780-f5e1-32fb81a8792b"
      },
      "outputs": [
        {
          "data": {
            "text/plain": [
              "'-5.9680800000000005 Pa'"
            ]
          },
          "execution_count": 6,
          "metadata": {},
          "output_type": "execute_result"
        }
      ],
      "source": [
        "f\"{tau_wall.to(ur.Pa):~P}\""
      ]
    },
    {
      "cell_type": "code",
      "execution_count": null,
      "id": "06b498ea",
      "metadata": {
        "id": "06b498ea",
        "outputId": "4292e2f0-a992-4bcc-f727-e1efb43263a7"
      },
      "outputs": [
        {
          "data": {
            "text/plain": [
              "'9210.0 1/s'"
            ]
          },
          "execution_count": 7,
          "metadata": {},
          "output_type": "execute_result"
        }
      ],
      "source": [
        "f\"{dudy_yZero.to(1/ur.second):~P}\""
      ]
    },
    {
      "cell_type": "markdown",
      "id": "531f12cf",
      "metadata": {
        "id": "531f12cf"
      },
      "source": [
        "**ANSWER** $\\tau_{wall} = -5.968$ Pascal\n",
        "\n",
        "*The negative sign says that the momentum flux is in the negative $y$ direction or into the wall.*"
      ]
    },
    {
      "cell_type": "markdown",
      "id": "82de11d9",
      "metadata": {
        "id": "82de11d9"
      },
      "source": [
        "## Problem 3 "
      ]
    },
    {
      "cell_type": "code",
      "execution_count": null,
      "id": "e314cbdb",
      "metadata": {
        "id": "e314cbdb",
        "outputId": "c5986453-ff2c-4a9c-e407-8176373f0510"
      },
      "outputs": [
        {
          "data": {
            "text/plain": [
              "['2.0 in', '0.0508 m']"
            ]
          },
          "execution_count": 8,
          "metadata": {},
          "output_type": "execute_result"
        }
      ],
      "source": [
        "Di = ur.Quantity(2 * ur.inch).to(ur.meter)\n",
        "mu = 0.000648 * ur.Pa * ur.sec\n",
        "rho = 869.6 * ur.kilogram / ur.meter**3\n",
        "[f\"{Di.to(ur.inch):~P}\",\n",
        "f\"{Di:~P}\"]"
      ]
    },
    {
      "cell_type": "code",
      "execution_count": null,
      "id": "68c5aaeb",
      "metadata": {
        "id": "68c5aaeb",
        "outputId": "9128cdbb-5684-4291-fc92-c12215cb83c3"
      },
      "outputs": [
        {
          "data": {
            "text/plain": [
              "'0.15 m³/min'"
            ]
          },
          "execution_count": 9,
          "metadata": {},
          "output_type": "execute_result"
        }
      ],
      "source": [
        "dotVol = 40 * ur.gallon / ur.minute;\n",
        "dotVol_SI = 0.15 * ur.meter**3 / ur.minute # rounding this off\n",
        "f\"{dotVol_SI:~P}\""
      ]
    },
    {
      "cell_type": "code",
      "execution_count": null,
      "id": "fd58a2c0",
      "metadata": {
        "id": "fd58a2c0",
        "outputId": "bf4266cc-2db2-476c-aab3-eee26678ec91"
      },
      "outputs": [
        {
          "data": {
            "text/plain": [
              "'0.0020268299163899908 m²'"
            ]
          },
          "execution_count": 10,
          "metadata": {},
          "output_type": "execute_result"
        }
      ],
      "source": [
        "A = np.pi * Di**2 / 4\n",
        "f\"{A:~P}\""
      ]
    },
    {
      "cell_type": "code",
      "execution_count": null,
      "id": "091af430",
      "metadata": {
        "id": "091af430",
        "outputId": "967a3ccd-11f7-4c06-df47-458689069fd0"
      },
      "outputs": [
        {
          "data": {
            "text/plain": [
              "'1.2334532758687407 mps'"
            ]
          },
          "execution_count": 11,
          "metadata": {},
          "output_type": "execute_result"
        }
      ],
      "source": [
        "Vavg = ur.Quantity(dotVol_SI / A).to(ur.meter_per_second);\n",
        "f\"{Vavg:~P}\""
      ]
    },
    {
      "cell_type": "code",
      "execution_count": null,
      "id": "fb82675a",
      "metadata": {
        "id": "fb82675a",
        "outputId": "7ad8afef-af34-42bc-e767-827a9d45ab4a"
      },
      "outputs": [
        {
          "data": {
            "text/plain": [
              "'84087.40310143396'"
            ]
          },
          "execution_count": 12,
          "metadata": {},
          "output_type": "execute_result"
        }
      ],
      "source": [
        "Re = rho * Vavg * Di / mu;\n",
        "Re.ito(ur.meter/ur.meter)\n",
        "f\"{Re:~P}\""
      ]
    },
    {
      "cell_type": "code",
      "execution_count": null,
      "id": "85535719",
      "metadata": {
        "id": "85535719",
        "outputId": "d1b344bc-a676-4de4-c84c-cf9f84b408ba"
      },
      "outputs": [
        {
          "data": {
            "text/plain": [
              "'6.7429216496112865'"
            ]
          },
          "execution_count": 17,
          "metadata": {},
          "output_type": "execute_result"
        }
      ],
      "source": [
        "k = ur.Quantity(0.00015*ur.feet).to(ur.millimeter) #0.045 * ur.millimeter;\n",
        "kByD = k.to(ur.meter) / Di;\n",
        "Cff = -1.8 * np.log10(6.9/Re + (kByD/3.7)**1.11)\n",
        "ffac = Cff;\n",
        "f\"{ffac:~P}\""
      ]
    },
    {
      "cell_type": "code",
      "execution_count": null,
      "id": "83f449cc",
      "metadata": {
        "id": "83f449cc",
        "outputId": "70b1df9d-205c-4f82-84f8-c6825490bc87"
      },
      "outputs": [
        {
          "data": {
            "text/plain": [
              "'5048.586657778856 mps²'"
            ]
          },
          "execution_count": 18,
          "metadata": {},
          "output_type": "execute_result"
        }
      ],
      "source": [
        "L = 50 * ur.meter\n",
        "delPbyRho_fric = ffac * L / Di * Vavg**2 / 2;\n",
        "f\"{delPbyRho_fric:~P}\""
      ]
    },
    {
      "cell_type": "code",
      "execution_count": null,
      "id": "828864d9",
      "metadata": {
        "id": "828864d9",
        "outputId": "2d2b93d1-4d6f-470c-f352-8436e09f1d61"
      },
      "outputs": [
        {
          "data": {
            "text/plain": [
              "['4390250.957604493 Pa', '636.7520669588404 psi']"
            ]
          },
          "execution_count": 19,
          "metadata": {},
          "output_type": "execute_result"
        }
      ],
      "source": [
        "delP_fric = delPbyRho_fric * rho;\n",
        "delP_fric.ito(ur.Pa)\n",
        "[f\"{delP_fric:~P}\", f\"{delP_fric.to(ur.psi):~P}\"]"
      ]
    },
    {
      "cell_type": "code",
      "execution_count": null,
      "id": "cc48b187",
      "metadata": {
        "id": "cc48b187",
        "outputId": "c38fffed-002c-4620-94a9-30483078b74d"
      },
      "outputs": [
        {
          "data": {
            "text/plain": [
              "['1620.6940035109394 Pa', '0.23506179182214243 psi']"
            ]
          },
          "execution_count": 26,
          "metadata": {},
          "output_type": "execute_result"
        }
      ],
      "source": [
        "k90 = 0.75\n",
        "kTee = 1.0\n",
        "k45 = 0.35\n",
        "kTotal = k90 + kTee + 2*k45\n",
        "delPbyRho_fittings = kTotal * Vavg**2/2\n",
        "delP_fittings = delPbyRho_fittings * rho\n",
        "delP_fittings.ito(ur.Pa)\n",
        "[f\"{delP_fittings:~P}\", f\"{delP_fittings.to(ur.psi):~P}\"]"
      ]
    },
    {
      "cell_type": "code",
      "execution_count": null,
      "id": "e7506d46",
      "metadata": {
        "id": "e7506d46",
        "outputId": "4d6b1a6d-74d3-4989-d725-78cb40ff65d9"
      },
      "outputs": [
        {
          "name": "stdout",
          "output_type": "stream",
          "text": [
            "255662.40000000005 pascal\n"
          ]
        }
      ],
      "source": [
        "delP_g = rho * ur.Quantity(9.8,ur.meter/ur.second**2) * 30 * ur.meter\n",
        "print(delP_g.to(ur.Pa))"
      ]
    },
    {
      "cell_type": "code",
      "execution_count": null,
      "id": "375d9e5b",
      "metadata": {
        "id": "375d9e5b"
      },
      "outputs": [],
      "source": []
    }
  ],
  "metadata": {
    "kernelspec": {
      "display_name": "Python 3 (ipykernel)",
      "language": "python",
      "name": "python3"
    },
    "language_info": {
      "codemirror_mode": {
        "name": "ipython",
        "version": 3
      },
      "file_extension": ".py",
      "mimetype": "text/x-python",
      "name": "python",
      "nbconvert_exporter": "python",
      "pygments_lexer": "ipython3",
      "version": "3.9.12"
    },
    "colab": {
      "provenance": [],
      "toc_visible": true,
      "include_colab_link": true
    }
  },
  "nbformat": 4,
  "nbformat_minor": 5
}