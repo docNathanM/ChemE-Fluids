{
 "cells": [
  {
   "cell_type": "code",
   "execution_count": 1,
   "id": "38efa9ec",
   "metadata": {},
   "outputs": [],
   "source": [
    "from pint import UnitRegistry\n",
    "ur = UnitRegistry()"
   ]
  },
  {
   "cell_type": "code",
   "execution_count": 3,
   "id": "52c728ba",
   "metadata": {},
   "outputs": [],
   "source": [
    "T_K = 300 * ur.degK"
   ]
  },
  {
   "cell_type": "code",
   "execution_count": 5,
   "id": "73c59bbd",
   "metadata": {},
   "outputs": [
    {
     "data": {
      "text/plain": [
       "'996.5130274681047 kg/m³'"
      ]
     },
     "execution_count": 5,
     "metadata": {},
     "output_type": "execute_result"
    }
   ],
   "source": [
    "from CoolProp.CoolProp import PhaseSI, PropsSI\n",
    "\n",
    "rho_kgPerM3 = PropsSI(\"D\",\"T\",T_K.magnitude,\"Q\",0.0,\"Water\") * ur.kilogram / ur.meter **3;\n",
    "f\"{rho_kgPerM3:~P}\""
   ]
  },
  {
   "cell_type": "markdown",
   "id": "fdf5888f",
   "metadata": {},
   "source": []
  }
 ],
 "metadata": {
  "kernelspec": {
   "display_name": "Python 3 (ipykernel)",
   "language": "python",
   "name": "python3"
  },
  "language_info": {
   "codemirror_mode": {
    "name": "ipython",
    "version": 3
   },
   "file_extension": ".py",
   "mimetype": "text/x-python",
   "name": "python",
   "nbconvert_exporter": "python",
   "pygments_lexer": "ipython3",
   "version": "3.9.12"
  }
 },
 "nbformat": 4,
 "nbformat_minor": 5
}
