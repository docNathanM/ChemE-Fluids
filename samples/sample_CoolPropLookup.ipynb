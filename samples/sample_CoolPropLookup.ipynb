{
  "nbformat": 4,
  "nbformat_minor": 0,
  "metadata": {
    "colab": {
      "provenance": [],
      "authorship_tag": "ABX9TyOlbUePoFW/L6S8u58sfZZG",
      "include_colab_link": true
    },
    "kernelspec": {
      "name": "python3",
      "display_name": "Python 3"
    },
    "language_info": {
      "name": "python"
    }
  },
  "cells": [
    {
      "cell_type": "markdown",
      "metadata": {
        "id": "view-in-github",
        "colab_type": "text"
      },
      "source": [
        "<a href=\"https://colab.research.google.com/github/docNathanM/chemeng316_fluids/blob/main/samples/sample_CoolPropLookup.ipynb\" target=\"_parent\"><img src=\"https://colab.research.google.com/assets/colab-badge.svg\" alt=\"Open In Colab\"/></a>"
      ]
    },
    {
      "cell_type": "markdown",
      "source": [
        "# Setup"
      ],
      "metadata": {
        "id": "ykZ3KGNPSb7s"
      }
    },
    {
      "cell_type": "code",
      "execution_count": null,
      "metadata": {
        "id": "24ca465b",
        "outputId": "c8815d52-eb05-4e18-d067-4dde30173196",
        "colab": {
          "base_uri": "https://localhost:8080/"
        }
      },
      "outputs": [
        {
          "output_type": "stream",
          "name": "stdout",
          "text": [
            "Looking in indexes: https://pypi.org/simple, https://us-python.pkg.dev/colab-wheels/public/simple/\n",
            "Collecting pint\n",
            "  Downloading Pint-0.20.1-py3-none-any.whl (269 kB)\n",
            "\u001b[2K     \u001b[90m━━━━━━━━━━━━━━━━━━━━━━━━━━━━━━━━━━━━━━━\u001b[0m \u001b[32m269.5/269.5 kB\u001b[0m \u001b[31m5.0 MB/s\u001b[0m eta \u001b[36m0:00:00\u001b[0m\n",
            "\u001b[?25hInstalling collected packages: pint\n",
            "Successfully installed pint-0.20.1\n"
          ]
        }
      ],
      "source": [
        "!pip install pint\n",
        "from pint import UnitRegistry\n",
        "ur = UnitRegistry()"
      ]
    },
    {
      "cell_type": "code",
      "execution_count": null,
      "metadata": {
        "id": "09907aa3",
        "colab": {
          "base_uri": "https://localhost:8080/"
        },
        "outputId": "c53f54f5-becc-4a0e-e0f2-78a8e25ce162"
      },
      "outputs": [
        {
          "output_type": "stream",
          "name": "stdout",
          "text": [
            "Looking in indexes: https://pypi.org/simple, https://us-python.pkg.dev/colab-wheels/public/simple/\n",
            "Collecting CoolProp\n",
            "  Downloading CoolProp-6.4.3.post1-cp39-cp39-manylinux_2_17_x86_64.manylinux2014_x86_64.whl (6.2 MB)\n",
            "\u001b[2K     \u001b[90m━━━━━━━━━━━━━━━━━━━━━━━━━━━━━━━━━━━━━━━━\u001b[0m \u001b[32m6.2/6.2 MB\u001b[0m \u001b[31m36.1 MB/s\u001b[0m eta \u001b[36m0:00:00\u001b[0m\n",
            "\u001b[?25hInstalling collected packages: CoolProp\n",
            "Successfully installed CoolProp-6.4.3.post1\n"
          ]
        }
      ],
      "source": [
        "!pip install CoolProp\n",
        "from CoolProp.CoolProp import PhaseSI, PropsSI"
      ]
    },
    {
      "cell_type": "code",
      "source": [
        "import numpy as np"
      ],
      "metadata": {
        "id": "rMTwsdEkRMuJ"
      },
      "execution_count": null,
      "outputs": []
    },
    {
      "cell_type": "code",
      "source": [
        "MW = PropsSI(\"M\",\"methane\");\n",
        "MW"
      ],
      "metadata": {
        "colab": {
          "base_uri": "https://localhost:8080/"
        },
        "id": "BAJHPic-RPno",
        "outputId": "476c5b0c-8eda-4d6d-a36d-b768fad6ab49"
      },
      "execution_count": null,
      "outputs": [
        {
          "output_type": "execute_result",
          "data": {
            "text/plain": [
              "0.0160428"
            ]
          },
          "metadata": {},
          "execution_count": 7
        }
      ]
    },
    {
      "cell_type": "code",
      "source": [
        "T_in_degF = ur.Quantity(55, ur.degF);\n",
        "T_in_K = T_in_degF.to(ur.degK);\n",
        "print(T_in_K)"
      ],
      "metadata": {
        "colab": {
          "base_uri": "https://localhost:8080/"
        },
        "id": "6baV7JSzRV5_",
        "outputId": "4ed53f61-78ab-4463-84e6-e3cd34cf35f5"
      },
      "execution_count": null,
      "outputs": [
        {
          "output_type": "stream",
          "name": "stdout",
          "text": [
            "285.9277777777778 kelvin\n"
          ]
        }
      ]
    },
    {
      "cell_type": "code",
      "source": [
        "D_pipe_in = 12 * ur.inch;\n",
        "D_pipe_m = D_pipe_in.to(ur.meter);\n",
        "D_pipe_m"
      ],
      "metadata": {
        "colab": {
          "base_uri": "https://localhost:8080/",
          "height": 34
        },
        "id": "xI4phLgURWff",
        "outputId": "b71bdca4-b4c5-45c8-e86e-79576ba5491e"
      },
      "execution_count": null,
      "outputs": [
        {
          "output_type": "execute_result",
          "data": {
            "text/plain": [
              "0.30479999999999996 <Unit('meter')>"
            ],
            "text/html": [
              "0.30479999999999996 meter"
            ],
            "text/latex": "$0.30479999999999996\\ \\mathrm{meter}$"
          },
          "metadata": {},
          "execution_count": 9
        }
      ]
    },
    {
      "cell_type": "code",
      "source": [
        "L_pipe_given = 20 * ur.mile;\n",
        "L_pipe_m = L_pipe_given.to(ur.meter);\n",
        "L_pipe_m"
      ],
      "metadata": {
        "colab": {
          "base_uri": "https://localhost:8080/",
          "height": 34
        },
        "id": "FrV2i08jR-0C",
        "outputId": "a7adb1d6-baae-4c42-bb05-cbeefd1e2bf8"
      },
      "execution_count": null,
      "outputs": [
        {
          "output_type": "execute_result",
          "data": {
            "text/plain": [
              "32186.88 <Unit('meter')>"
            ],
            "text/html": [
              "32186.88 meter"
            ],
            "text/latex": "$32186.88\\ \\mathrm{meter}$"
          },
          "metadata": {},
          "execution_count": 10
        }
      ]
    },
    {
      "cell_type": "code",
      "source": [
        "f_F = 0.0035"
      ],
      "metadata": {
        "id": "jd0kTQkqSI-1"
      },
      "execution_count": null,
      "outputs": []
    },
    {
      "cell_type": "code",
      "source": [
        "P_in_psia = 100 * ur.psi;\n",
        "P_in_kPa = P_in_psia.to(ur.kPa);\n",
        "P_in_kPa"
      ],
      "metadata": {
        "colab": {
          "base_uri": "https://localhost:8080/",
          "height": 34
        },
        "id": "_WKL3T7qSLst",
        "outputId": "487feada-e0fa-4f92-d77e-8533aecd234c"
      },
      "execution_count": null,
      "outputs": [
        {
          "output_type": "execute_result",
          "data": {
            "text/plain": [
              "689.4757293168364 <Unit('kilopascal')>"
            ],
            "text/html": [
              "689.4757293168364 kilopascal"
            ],
            "text/latex": "$689.4757293168364\\ \\mathrm{kilopascal}$"
          },
          "metadata": {},
          "execution_count": 13
        }
      ]
    },
    {
      "cell_type": "markdown",
      "source": [
        "# Work"
      ],
      "metadata": {
        "id": "cfJdMmYQST-U"
      }
    },
    {
      "cell_type": "code",
      "source": [],
      "metadata": {
        "id": "HLeJKweRShOa"
      },
      "execution_count": null,
      "outputs": []
    }
  ]
}