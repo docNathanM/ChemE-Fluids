{
  "nbformat": 4,
  "nbformat_minor": 0,
  "metadata": {
    "colab": {
      "provenance": [],
      "authorship_tag": "ABX9TyNGLGWImh1hw3eP8jmjenew",
      "include_colab_link": true
    },
    "kernelspec": {
      "name": "python3",
      "display_name": "Python 3"
    },
    "language_info": {
      "name": "python"
    }
  },
  "cells": [
    {
      "cell_type": "markdown",
      "metadata": {
        "id": "view-in-github",
        "colab_type": "text"
      },
      "source": [
        "<a href=\"https://colab.research.google.com/github/docNathanM/chemeng316_fluids/blob/main/ch8_specFlow.ipynb\" target=\"_parent\"><img src=\"https://colab.research.google.com/assets/colab-badge.svg\" alt=\"Open In Colab\"/></a>"
      ]
    },
    {
      "cell_type": "markdown",
      "source": [
        "#Problem 5.9\n",
        "The cost to pump water at 60 $^\\circ$F up a mountain is to be calculated.  "
      ],
      "metadata": {
        "id": "Q_tjSw4ruP1h"
      }
    },
    {
      "cell_type": "markdown",
      "source": [
        "## Programming Resources\n",
        "### Engineering Units\n",
        "\n",
        "[Pint: makes units easy](https://pint.readthedocs.io/en/stable/index.html)"
      ],
      "metadata": {
        "id": "rhdrAMQ9wWld"
      }
    },
    {
      "cell_type": "code",
      "source": [
        "!pip install pint;"
      ],
      "metadata": {
        "id": "m0caiuQDwb9b"
      },
      "execution_count": null,
      "outputs": []
    },
    {
      "cell_type": "code",
      "source": [
        "from pint import UnitRegistry\n",
        "ur = UnitRegistry()"
      ],
      "metadata": {
        "id": "bpKKmSbPwgz-"
      },
      "execution_count": null,
      "outputs": []
    },
    {
      "cell_type": "code",
      "source": [
        "T_degF = ur.Quantity(60, ur.degF);\n",
        "T_K = T_degF.to(ur.degK);\n",
        "print(T_K)"
      ],
      "metadata": {
        "colab": {
          "base_uri": "https://localhost:8080/"
        },
        "id": "aW3dgy0Grp8U",
        "outputId": "5898c7ef-e89e-4fc9-bd90-71bc22c8c1d7"
      },
      "execution_count": null,
      "outputs": [
        {
          "output_type": "stream",
          "name": "stdout",
          "text": [
            "288.7055555555556 kelvin\n"
          ]
        }
      ]
    },
    {
      "cell_type": "markdown",
      "source": [
        "## Properties of Pure Substances\n",
        "\n",
        "For many chemical applications we need more complex models for fluid properties, but for simple calculations that involve a single fluid we can use molecular models of pure substances.\n",
        "\n",
        "### CoolProp\n",
        "I use CoolProp because it is a free port of many substances in the NIST RefProp database. \n",
        "[CoolProp: equations of state and transport properties for 122 components](http://www.coolprop.org/index.html).\n",
        "\n",
        "There are two possible ways to use this:\n",
        "1.   [pyfluids](http://www.coolprop.org/coolprop/wrappers/Python/index.html#pyfluids-3-party-wrapper)\n",
        "An excellent assortment of [examples](http://www.coolprop.org/coolprop/wrappers/Python/index.html).\n",
        "2.   [coolprop](http://www.coolprop.org/coolprop/wrappers/Python/index.html#example-code) can also be loaded directly. The link has examples."
      ],
      "metadata": {
        "id": "F9mD8LQWpm2j"
      }
    },
    {
      "cell_type": "markdown",
      "source": [
        "#### pyFluids Example"
      ],
      "metadata": {
        "id": "bkHPre7z0ioe"
      }
    },
    {
      "cell_type": "code",
      "source": [
        "!pip install pyfluids"
      ],
      "metadata": {
        "id": "NzAMEH5yqRsi"
      },
      "execution_count": null,
      "outputs": []
    },
    {
      "cell_type": "code",
      "source": [
        "from pyfluids import Fluid, FluidsList, Input\n",
        "\n",
        "T_C = T_K.to(ur.degC);\n",
        "Tin = T_C.magnitude;\n",
        "thisWater = Fluid(FluidsList.Water).with_state(\n",
        "    Input.temperature(Tin),Input.quality(0)\n",
        "    )\n",
        "\n",
        "rho = thisWater.density * ur.kilogram / ur.meter ** 3;\n",
        "f\"{rho:~P}\" # pint gives a nice way to print \"pretty\" [~P] units"
      ],
      "metadata": {
        "colab": {
          "base_uri": "https://localhost:8080/",
          "height": 35
        },
        "id": "w6ilmZzNqqzG",
        "outputId": "471b3a71-ab1f-4230-8d04-c0ac359f6ee3"
      },
      "execution_count": null,
      "outputs": [
        {
          "output_type": "execute_result",
          "data": {
            "text/plain": [
              "'998.9707010071485 kg/m³'"
            ],
            "application/vnd.google.colaboratory.intrinsic+json": {
              "type": "string"
            }
          },
          "metadata": {},
          "execution_count": 29
        }
      ]
    },
    {
      "cell_type": "markdown",
      "source": [
        "#### CoolProp PropsSI Example"
      ],
      "metadata": {
        "id": "mMGkZXyS0nvX"
      }
    },
    {
      "cell_type": "code",
      "source": [
        "!pip install CoolProp"
      ],
      "metadata": {
        "id": "CkPHcNCGvaMO"
      },
      "execution_count": null,
      "outputs": []
    },
    {
      "cell_type": "code",
      "source": [
        "from CoolProp.CoolProp import PhaseSI, PropsSI\n",
        "\n",
        "rho_kgPerM3 = PropsSI(\"D\",\"T\",T_K.magnitude,\"Q\",0.0,\"Water\") * ur.kilogram / ur.meter **3;\n",
        "f\"{rho:~P}\""
      ],
      "metadata": {
        "colab": {
          "base_uri": "https://localhost:8080/",
          "height": 35
        },
        "id": "8VxnCStLw8w8",
        "outputId": "94c34a37-4f06-42da-c713-938590c4d51d"
      },
      "execution_count": null,
      "outputs": [
        {
          "output_type": "execute_result",
          "data": {
            "text/plain": [
              "'998.9707010071485 kg/m³'"
            ],
            "application/vnd.google.colaboratory.intrinsic+json": {
              "type": "string"
            }
          },
          "metadata": {},
          "execution_count": 30
        }
      ]
    },
    {
      "cell_type": "markdown",
      "source": [
        "## Known\n",
        "The problem gave definitions for pipe size, temperature, average velocity, etc. I define these here:"
      ],
      "metadata": {
        "id": "DgGKlAUzu8HN"
      }
    },
    {
      "cell_type": "code",
      "source": [
        "Di = 139.76 / 1000 * ur.m;   # m\n",
        "T = ur.Quantity(60.0, ur.degF).to(ur.degK);\n",
        "Vavg = 12 * ur.feet / ur.s;\n",
        "Vavg.ito(ur.m/ur.s); # convert \"in-place\" to SI units\n",
        "H = ur.Quantity(3000, ur.feet).to(ur.m); # Reservoir pump height\n",
        "L = ur.Quantity(4500, ur.feet).to(ur.m); # Length of Pipe\n",
        "eta = 0.7; # pump efficiency\n",
        "eCost = 0.04 / (1000 * ur.watt_hour);"
      ],
      "metadata": {
        "id": "7snPwPlfu_2b"
      },
      "execution_count": null,
      "outputs": []
    },
    {
      "cell_type": "markdown",
      "source": [
        "### Properties of Water\n",
        "I'm going to use the PropsSI interface for CoolProp. "
      ],
      "metadata": {
        "id": "P96CEAIevaDB"
      }
    },
    {
      "cell_type": "code",
      "source": [
        "rho_kgPerM3 = PropsSI(\"D\",\"T\",T_K.magnitude,\"Q\",0.0,\"Water\") * ur.kilogram / ur.meter **3;\n",
        "\n",
        "mu = PropsSI(\"V\",\"T\",T_K.magnitude,\"Q\",0.0,\"Water\") * ur.Pa * ur.s ;\n",
        "\n",
        "{f\"{rho:~P}\", f\"{mu:~P}\"}"
      ],
      "metadata": {
        "colab": {
          "base_uri": "https://localhost:8080/"
        },
        "id": "m3V331El1UZG",
        "outputId": "72c05182-da27-49cf-9890-46a0634a9c58"
      },
      "execution_count": null,
      "outputs": [
        {
          "output_type": "execute_result",
          "data": {
            "text/plain": [
              "{'0.001121084308893493 Pa·s', '998.9707010071485 kg/m³'}"
            ]
          },
          "metadata": {},
          "execution_count": 31
        }
      ]
    },
    {
      "cell_type": "markdown",
      "source": [
        "## Calculations"
      ],
      "metadata": {
        "id": "FmKwiWb_1hZI"
      }
    },
    {
      "cell_type": "markdown",
      "source": [
        "I need some features from [numPy](https://numpy.org/): *the fundametal package for scientific computing with Python*. Specifically, I need the definition of $\\pi$."
      ],
      "metadata": {
        "id": "bx-WTX5j1vIS"
      }
    },
    {
      "cell_type": "code",
      "source": [
        "import numpy as np"
      ],
      "metadata": {
        "id": "GJcIQLIW162P"
      },
      "execution_count": null,
      "outputs": []
    },
    {
      "cell_type": "markdown",
      "source": [
        "### Area and Flow Rates"
      ],
      "metadata": {
        "id": "o8dlbJPm2MX7"
      }
    },
    {
      "cell_type": "code",
      "source": [
        "area_crossSection = np.pi * Di ** 2 / 4; \n",
        "Q_flowrate = Vavg * area_crossSection;\n",
        "mDot = rho_kgPerM3 * Q_flowrate;\n",
        "\n",
        "{f\"{area_crossSection:~P}\",f\"{Q_flowrate:~P}\",f\"{mDot}\"}"
      ],
      "metadata": {
        "colab": {
          "base_uri": "https://localhost:8080/"
        },
        "id": "_bfzXDiq1oFj",
        "outputId": "107eddc9-cfac-44f4-b018-13d56ff3a27b"
      },
      "execution_count": null,
      "outputs": [
        {
          "output_type": "execute_result",
          "data": {
            "text/plain": [
              "{'0.015341070484943889 m²',\n",
              " '0.056111499405730764 m³/s',\n",
              " '56.05374389590506 kilogram / second'}"
            ]
          },
          "metadata": {},
          "execution_count": 36
        }
      ]
    },
    {
      "cell_type": "markdown",
      "source": [
        "### Reynolds Number"
      ],
      "metadata": {
        "id": "3QzGM4683KJ8"
      }
    },
    {
      "cell_type": "code",
      "source": [
        "Re = rho_kgPerM3 * Di * Vavg / mu;\n",
        "print(Re)"
      ],
      "metadata": {
        "colab": {
          "base_uri": "https://localhost:8080/"
        },
        "id": "zsNfmyuT2rph",
        "outputId": "4c90241f-ec57-41b2-da05-a42de88ba40e"
      },
      "execution_count": null,
      "outputs": [
        {
          "output_type": "stream",
          "name": "stdout",
          "text": [
            "455505.44997628545 kilogram / meter / pascal / second ** 2\n"
          ]
        }
      ]
    },
    {
      "cell_type": "code",
      "source": [
        "Re.ito(ur.meter/ur.meter)\n",
        "print(Re)"
      ],
      "metadata": {
        "colab": {
          "base_uri": "https://localhost:8080/"
        },
        "id": "t4NOgOjp4G5L",
        "outputId": "d36ee9e0-9ffd-4f1d-fcaa-a48d21f801e5"
      },
      "execution_count": null,
      "outputs": [
        {
          "output_type": "stream",
          "name": "stdout",
          "text": [
            "455505.44997628545 dimensionless\n"
          ]
        }
      ]
    },
    {
      "cell_type": "code",
      "source": [
        "Re.magnitude"
      ],
      "metadata": {
        "colab": {
          "base_uri": "https://localhost:8080/"
        },
        "id": "EP8B2xQ23YYq",
        "outputId": "4cf694e2-835a-4d75-a02f-78dcf3620be8"
      },
      "execution_count": null,
      "outputs": [
        {
          "output_type": "execute_result",
          "data": {
            "text/plain": [
              "455505.44997628545"
            ]
          },
          "metadata": {},
          "execution_count": 42
        }
      ]
    },
    {
      "cell_type": "markdown",
      "source": [
        "## Estimate Friction Factor\n",
        "The *friction factor*, as it is known, is so ubiquitous that you can find a very nice [Wikipedia](https://en.wikipedia.org/wiki/Darcy_friction_factor_formulae#Haaland_equation) page that even lists an entire host of approximate equations to estimate the friction factor.\n",
        "\n",
        "I'm going to compute this with the Haaland equation rather than reading off the chart.\n",
        "\n",
        "$$ \\frac{1}{\\sqrt{f}} = -1.8 \\log \\left[\\left(\\frac{\\epsilon/D}{3.7}\\right)^{1.11} + \\frac{6.9}{\\textrm{Re}}\\right] $$"
      ],
      "metadata": {
        "id": "8wEjdeX85DQo"
      }
    },
    {
      "cell_type": "code",
      "source": [
        "k = 0.045 * ur.millimeter;\n",
        "kByD = k.to(ur.meter) / Di;\n",
        "Cff = -1.8 * np.log10(6.9/Re + (kByD/3.7)**1.11)\n",
        "f = (1/Cff)**2;\n",
        "print(f)"
      ],
      "metadata": {
        "colab": {
          "base_uri": "https://localhost:8080/"
        },
        "id": "1pb8Hi2f8XhR",
        "outputId": "2516b5c0-c922-451d-8c1d-62dc38a06d25"
      },
      "execution_count": null,
      "outputs": [
        {
          "output_type": "stream",
          "name": "stdout",
          "text": [
            "0.016425778363634604 dimensionless\n"
          ]
        }
      ]
    },
    {
      "cell_type": "markdown",
      "source": [
        "Compare to the Swamee-Jain Equation\n",
        "\n",
        "$$ f = \\frac{0.25}{\\left[\\log\\left(\\frac{\\epsilon/D}{3.7} + \\frac{5.74}{\\textrm{Re}^{6.9}}\\right)\\right]^2} $$"
      ],
      "metadata": {
        "id": "1MRGYsq_35Kx"
      }
    },
    {
      "cell_type": "code",
      "source": [
        "f_sj = 0.25 / (np.log10(kByD/3.7 + 5.74/Re**6.9))**2;\n",
        "print(f)"
      ],
      "metadata": {
        "colab": {
          "base_uri": "https://localhost:8080/"
        },
        "id": "rP8cMxL64pJH",
        "outputId": "e3715e45-d9ed-4333-d3c2-8fa0b5c71835"
      },
      "execution_count": null,
      "outputs": [
        {
          "output_type": "stream",
          "name": "stdout",
          "text": [
            "0.016425778363634604 dimensionless\n"
          ]
        }
      ]
    },
    {
      "cell_type": "markdown",
      "source": [
        "**IMPORTANT** Notice how close the two values are in the above results. These are both more accurate than reading values off a chart manually."
      ],
      "metadata": {
        "id": "A6u0idrU5Qya"
      }
    },
    {
      "cell_type": "markdown",
      "source": [
        "## Calculate Pressure Drop"
      ],
      "metadata": {
        "id": "yup6LHhLCzU8"
      }
    },
    {
      "cell_type": "markdown",
      "source": [
        "Notice: in the equations above, the friction factor, $f$, is defined following *Darcy-Weisbach* so that the $\\Delta P$ calculation has $0.5\\rho V^2$ as the momentum reference.\n",
        "\n",
        "So, to calculate the pressure drop over the length of pipe I need to use:\n",
        "\n",
        "$$ \\frac{\\Delta P}{L} = \\frac{f}{D}\\left(\\frac{1}{2}\\rho V_{avg}^2\\right) $$"
      ],
      "metadata": {
        "id": "6Vgp3CI-9SnK"
      }
    },
    {
      "cell_type": "code",
      "source": [
        "delPbyL = (f / Di) * (0.5 * rho_kgPerM3 * Vavg ** 2)\n",
        "delPbyL.ito(ur.Pa / ur.meter)\n",
        "print(delPbyL)"
      ],
      "metadata": {
        "colab": {
          "base_uri": "https://localhost:8080/"
        },
        "id": "M7fqhMU--F0k",
        "outputId": "e0beed74-fbf0-4f3e-c761-6a5e39742e0d"
      },
      "execution_count": null,
      "outputs": [
        {
          "output_type": "stream",
          "name": "stdout",
          "text": [
            "785.3409423476201 pascal / meter\n"
          ]
        }
      ]
    },
    {
      "cell_type": "markdown",
      "source": [
        "The pressure required due to gravity must also be included."
      ],
      "metadata": {
        "id": "880HAgY265r4"
      }
    },
    {
      "cell_type": "code",
      "source": [
        "g = ur.Quantity(9.8, ur.meter / ur.s ** 2);\n",
        "delP_lift = rho_kgPerM3 * g * H;\n",
        "print(delP_lift.to(ur.Pa))"
      ],
      "metadata": {
        "colab": {
          "base_uri": "https://localhost:8080/"
        },
        "id": "bG0MSoyU-uJw",
        "outputId": "66b90735-ae6b-4a39-a328-1d62638f7266"
      },
      "execution_count": null,
      "outputs": [
        {
          "output_type": "stream",
          "name": "stdout",
          "text": [
            "8951896.328209177 pascal\n"
          ]
        }
      ]
    },
    {
      "cell_type": "code",
      "source": [
        "delP_total = delPbyL * L + delP_lift;\n",
        "print(delP_total)"
      ],
      "metadata": {
        "colab": {
          "base_uri": "https://localhost:8080/"
        },
        "id": "M1ks9Pko__R2",
        "outputId": "861c68b0-3bda-4ec5-9578-eaf2b06ab67f"
      },
      "execution_count": null,
      "outputs": [
        {
          "output_type": "stream",
          "name": "stdout",
          "text": [
            "10029069.964733172 pascal\n"
          ]
        }
      ]
    },
    {
      "cell_type": "markdown",
      "source": [
        "## Power Required\n",
        "This is\n",
        "$$ Power = \\Delta P \\dot{Q} = \\frac{\\Delta P}{\\rho}\\dot{m}$$"
      ],
      "metadata": {
        "id": "UojFZf_PC6Uo"
      }
    },
    {
      "cell_type": "code",
      "source": [
        "Power_required = delP_total * Q_flowrate;\n",
        "print(Power_required.to(ur.kilowatt))"
      ],
      "metadata": {
        "colab": {
          "base_uri": "https://localhost:8080/"
        },
        "id": "D9X9auiICD6Q",
        "outputId": "6a6e5ef7-23d8-4a85-8dde-71c6551cc5ec"
      },
      "execution_count": null,
      "outputs": [
        {
          "output_type": "stream",
          "name": "stdout",
          "text": [
            "562.7461533661577 kilowatt\n"
          ]
        }
      ]
    },
    {
      "cell_type": "markdown",
      "source": [
        "## Cost\n",
        "Take the efficiency into account."
      ],
      "metadata": {
        "id": "-TTkjjjJCKei"
      }
    },
    {
      "cell_type": "code",
      "source": [
        "costToPump = eCost * ( Power_required ) / eta;\n",
        "print(costToPump.to(1/ur.hour))"
      ],
      "metadata": {
        "colab": {
          "base_uri": "https://localhost:8080/"
        },
        "id": "vaxoBt_eDJMj",
        "outputId": "4fce2f6d-4c80-473c-bb65-2accd33526f4"
      },
      "execution_count": null,
      "outputs": [
        {
          "output_type": "stream",
          "name": "stdout",
          "text": [
            "32.156923049494736 / hour\n"
          ]
        }
      ]
    },
    {
      "cell_type": "markdown",
      "source": [
        "## Final Answer\n",
        "The cost to pump is **``$32.15 per hour``**."
      ],
      "metadata": {
        "id": "kwTgmbR2DVys"
      }
    }
  ]
}