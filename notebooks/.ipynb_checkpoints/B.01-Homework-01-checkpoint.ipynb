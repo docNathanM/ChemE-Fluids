{
 "cells": [
  {
   "cell_type": "markdown",
   "metadata": {},
   "source": [
    "# Homework 1\n",
    "\n",
    "*ChE 316 – Chem Eng. Fluid Mechanics – Spring 2024*\n",
    "\n",
    "**DUE 26 Jan 2024**"
   ]
  },
  {
   "cell_type": "markdown",
   "metadata": {},
   "source": [
    "**Problem 1**. In the production of fishmeal, the oil is first extracted, leaving a wet fish cake containing 88 wt.% water. This cake is partially dried to reduce the moisture content to 27 wt.%, after which the cake is ground.\n",
    "    - Construct a block flow diagram of this process.\n",
    "    - How many kg/h of wet cake would be necessary to produce 1200 kg/h of \"dry\" cake?\n",
    "    - How much water is extracted from the wet cake (in kg/h)?"
   ]
  },
  {
   "cell_type": "markdown",
   "metadata": {},
   "source": [
    "See Supplements 2.2 and 2.3 to get some ideas about how to work in python with units and fluid properties if you would like to give it a try."
   ]
  },
  {
   "cell_type": "markdown",
   "metadata": {},
   "source": [
    "**Getting Started**: Here is some code to at least get the UnitRegistry and CoolProp modules loaded for you to get started."
   ]
  },
  {
   "cell_type": "code",
   "execution_count": 6,
   "metadata": {},
   "outputs": [],
   "source": [
    "try:\n",
    "    import pint\n",
    "except:\n",
    "    !pip install pint\n",
    "    import pint\n",
    "finally:\n",
    "    ur = pint.UnitRegistry()"
   ]
  },
  {
   "cell_type": "code",
   "execution_count": 8,
   "metadata": {},
   "outputs": [],
   "source": [
    "try:\n",
    "    import CoolProp.CoolProp as CP\n",
    "except:\n",
    "    !pip install CoolProp\n",
    "    import CoolProp.CoolProp as CP"
   ]
  },
  {
   "cell_type": "code",
   "execution_count": null,
   "metadata": {},
   "outputs": [],
   "source": [
    "### BEGIN SOLUTION\n",
    "from IPython.display import display, Markdown\n",
    "\n",
    "# import sympy\n",
    "import sympy as sp\n",
    "\n",
    "# Step 1. Create symbolic variables.\n",
    "sp.var(['m3','m4','m5'])\n",
    "\n",
    "# Step 2. Create a list of equations using the symbolic variables\n",
    "eqns = [\n",
    "    0.12*m3 - 0.73*m5,\n",
    "    0.88*m3 - 0.27*m5 - m4,\n",
    "    1200 - m5\n",
    "]\n",
    "print(eqns)\n",
    "\n",
    "# Step 3. Solve and display solution\n",
    "soln = sp.solve(eqns)\n",
    "print(soln)\n",
    "\n",
    "mDot3 = soln[m3]*ur.kg/ur.hr\n",
    "mDot4 = soln[m4]*ur.kg/ur.hr\n",
    "\n",
    "display(Markdown(f\"Wet cake required is $\\dot{{m}}_3 = $ {mDot3:.2f}\"))\n",
    "display(Markdown(f\"Water extracted is $\\dot{{m}}_4 = $ {mDot4:.2f}\"))\n",
    "\n",
    "### END SOLUTION"
   ]
  },
  {
   "cell_type": "markdown",
   "metadata": {},
   "source": [
    "**Problem 2**. Air is flowing steadily through a horizontal heated tube. The air enters at 45 $^\\circ$F at a velocity of 55 ft/s. The air leaves the tube at 145 $^\\circ$F and 66 ft/s. \n",
    "   - What is the mass flowrate (in lb/s) of the air within the heated tube if the tube diameter is 3 inch? \n",
    "   - If the average specific heat of air is 0.24 BTU/lb $\\cdot^\\circ$F, how many BTU/lb of energy is transferred through the wall of the tube? \n",
    "   - Does the mass flowrate within the tube increase, decrease, or remain the same? Explain your reasoning. "
   ]
  },
  {
   "cell_type": "code",
   "execution_count": 3,
   "metadata": {},
   "outputs": [],
   "source": [
    "### BEGIN SOLUTION\n",
    "\n",
    "### END SOLUTION"
   ]
  },
  {
   "cell_type": "markdown",
   "metadata": {},
   "source": [
    "**Problem 3**. An evaporator is fed 32 tonnes/hr of a solution consisting of 12% NaOH, 17% NaCl, and 71% water. During evaporation, water evaporates, and salt precipitates as crystals, which settles and is removed from the remaining concentrated liquor. The liquor leaving the evaporator contains 48% NaOH, 2% NaCl, and 50% water.\n",
    "   - Calculate the kilograms of water evaporated per hour.\n",
    "   - Calculate the kilograms of salt precipitated per hour.\n",
    "   - Calculate the kilograms of concentrated liquor produced per hour. "
   ]
  },
  {
   "cell_type": "code",
   "execution_count": 4,
   "metadata": {},
   "outputs": [],
   "source": [
    "### BEGIN SOLUTION\n",
    "\n",
    "### END SOLUTION"
   ]
  }
 ],
 "metadata": {
  "kernelspec": {
   "display_name": "Python 3 (ipykernel)",
   "language": "python",
   "name": "python3"
  },
  "language_info": {
   "codemirror_mode": {
    "name": "ipython",
    "version": 3
   },
   "file_extension": ".py",
   "mimetype": "text/x-python",
   "name": "python",
   "nbconvert_exporter": "python",
   "pygments_lexer": "ipython3",
   "version": "3.9.12"
  }
 },
 "nbformat": 4,
 "nbformat_minor": 4
}
