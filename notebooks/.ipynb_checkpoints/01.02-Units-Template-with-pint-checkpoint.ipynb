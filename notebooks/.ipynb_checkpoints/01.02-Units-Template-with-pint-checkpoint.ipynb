{
 "cells": [
  {
   "cell_type": "markdown",
   "metadata": {
    "colab_type": "text",
    "id": "_NQmCvCoBG-H"
   },
   "source": [
    "<!--NOTEBOOK_HEADER-->\n",
    "*This notebook contains material from [chemeng316_fluids](https://docNathanM.github.io/chemeng316_fluids);\n",
    "content is available [on Github](https://github.com/docNathanM/chemeng316_fluids).*"
   ]
  },
  {
   "cell_type": "markdown",
   "metadata": {
    "colab_type": "text",
    "id": "Om81BYbeBG-J"
   },
   "source": [
    "<!--NAVIGATION-->\n",
    "< [Units, Quantities, and Engineering Calculations](http://nbviewer.jupyter.org/github/docNathanM/chemeng316_fluids/blob/master/notebooks/01.00-Units-Quantities-and-Engineering-Calculations.ipynb) | [Contents](toc.ipynb) |<p><a href=\"https://colab.research.google.com/github/docNathanM/chemeng316_fluids/blob/master/notebooks/01.01-Units-and-Engineering-Calculations.ipynb\"><img align=\"left\" src=\"https://colab.research.google.com/assets/colab-badge.svg\" alt=\"Open in Colab\" title=\"Open in Google Colaboratory\"></a>"
   ]
  },
  {
   "cell_type": "markdown",
   "metadata": {
    "colab_type": "text",
    "id": "VjocRulUBG-J",
    "slideshow": {
     "slide_type": "slide"
    }
   },
   "source": [
    "# Units Template with `pint`"
   ]
  },
  {
   "cell_type": "markdown",
   "metadata": {
    "colab_type": "text",
    "id": "XKgyUAzWBG-T"
   },
   "source": [
    "## Setup and Usage Examples\n",
    "\n",
    "This is a condensed excerpt from the previous notebook that can be used as a starting point for implementing `pint` in any project or assignment."
   ]
  },
  {
   "cell_type": "code",
   "execution_count": null,
   "metadata": {
    "colab": {},
    "colab_type": "code",
    "id": "VT3cZLoUBG-U",
    "outputId": "bba11745-3cf3-482e-93ca-733a5dd68cde"
   },
   "outputs": [
    {
     "name": "stdout",
     "output_type": "stream",
     "text": [
      "Requirement already satisfied: pint in /Users/jeff/anaconda/lib/python3.5/site-packages\n"
     ]
    }
   ],
   "source": [
    "!pip install pint"
   ]
  },
  {
   "cell_type": "markdown",
   "metadata": {
    "colab_type": "text",
    "id": "WkYTCsEfBG-a"
   },
   "source": [
    "The core concept in pint is to work with a `unit registry`, which is created as follows"
   ]
  },
  {
   "cell_type": "code",
   "execution_count": null,
   "metadata": {
    "colab": {},
    "colab_type": "code",
    "id": "0LCzneTrBG-b"
   },
   "outputs": [],
   "source": [
    "from pint import UnitRegistry\n",
    "ur = UnitRegistry()"
   ]
  },
  {
   "cell_type": "markdown",
   "metadata": {
    "colab_type": "text",
    "id": "uNJ-VugyBG-d"
   },
   "source": [
    "### Assigning Multiplicative Units\n",
    "\n",
    "The unit registry provides a simple means to assign units using the multiplication operator. For example, here's how to compute the molarity of a sodium chloride solution in 58.44 grams of $NaCl$ (mw = 58.44) has been dissolved in water to form 3 liters of solution."
   ]
  },
  {
   "cell_type": "code",
   "execution_count": null,
   "metadata": {
    "colab": {},
    "colab_type": "code",
    "id": "4hUJ0BTGBG-e",
    "outputId": "7e653bbd-1304-41bc-b452-2ee8a25ed139"
   },
   "outputs": [
    {
     "name": "stdout",
     "output_type": "stream",
     "text": [
      "0.3333333333333333 mole / liter\n"
     ]
    }
   ],
   "source": [
    "# problem data\n",
    "V = 3.0 * ur.liters\n",
    "m = 58.44 * ur.grams\n",
    "mw = 58.44 * ur.grams/ur.mol\n",
    "\n",
    "# compute molarity\n",
    "C = m/(mw*V)\n",
    "\n",
    "print(C)"
   ]
  },
  {
   "cell_type": "markdown",
   "metadata": {
    "colab_type": "text",
    "id": "KKyhabFfBG-i"
   },
   "source": [
    "### Unit Conversion\n",
    "\n",
    "Each variable with units has `to()` and `ito()` methods for converting the quantity to a desired set of units. The `to()` method is used to create a new variable by converting an existing variable to the indicated units."
   ]
  },
  {
   "cell_type": "code",
   "execution_count": null,
   "metadata": {
    "colab": {},
    "colab_type": "code",
    "id": "XjIgBL4LBG-i",
    "outputId": "2b300eb3-455d-49a4-dc49-f11f71d6e1ea"
   },
   "outputs": [
    {
     "name": "stdout",
     "output_type": "stream",
     "text": [
      "0.5 kilogram / gallon\n",
      "132.08602617907425 gram / liter\n"
     ]
    }
   ],
   "source": [
    "x = 0.5 * ur.kilograms/ur.gallon\n",
    "y = x.to(ur.grams/ur.liter)\n",
    "\n",
    "print(x)\n",
    "print(y)"
   ]
  },
  {
   "cell_type": "markdown",
   "metadata": {
    "colab_type": "text",
    "id": "WK_YmUG8BG-l"
   },
   "source": [
    "The `ito()` method converts an existing variable 'in-place'. "
   ]
  },
  {
   "cell_type": "code",
   "execution_count": null,
   "metadata": {
    "colab": {},
    "colab_type": "code",
    "id": "J1hawtqmBG-m",
    "outputId": "3349aaad-bfb4-477c-edad-9e378800b2c4"
   },
   "outputs": [
    {
     "name": "stdout",
     "output_type": "stream",
     "text": [
      "132.08602617907425 gram / liter\n"
     ]
    }
   ],
   "source": [
    "x = 0.5 * ur.kilograms/ur.gallon\n",
    "x.ito(ur.grams/ur.liter)\n",
    "\n",
    "print(x)"
   ]
  },
  {
   "cell_type": "markdown",
   "metadata": {
    "colab_type": "text",
    "id": "HyKtwbOSBG-p"
   },
   "source": [
    "For example, here's how to compute the molarity of a sodium chloride solution in which 0.5 pounds of NaCl (mw = 58.44) has been dissolved in water to form 2 gallons of solution. "
   ]
  },
  {
   "cell_type": "code",
   "execution_count": null,
   "metadata": {
    "colab": {},
    "colab_type": "code",
    "id": "4ts8mGdKBG-q",
    "outputId": "2ce98249-2b00-4433-95c2-9f06a8145f50"
   },
   "outputs": [
    {
     "name": "stdout",
     "output_type": "stream",
     "text": [
      "0.0028519279032626055 mole * pound / gallon / gram\n",
      "0.3417363316133261 mole / liter\n",
      "1.2936127367100163 mole / gallon\n"
     ]
    }
   ],
   "source": [
    "# problem data\n",
    "V = 3.0 * ur.gallons\n",
    "m = 0.5 * ur.lbs\n",
    "mw = 58.44 * ur.grams/ur.mol\n",
    "\n",
    "# compute concentration\n",
    "C = m/(mw*V)\n",
    "print(C)\n",
    "\n",
    "# convert to desired units and print\n",
    "C = C.to(ur.mol/ur.liter)\n",
    "print(C)\n",
    "\n",
    "# convert to moles per gallon\n",
    "C.ito(ur.mol/ur.gallon)\n",
    "print(C)"
   ]
  },
  {
   "cell_type": "markdown",
   "metadata": {
    "colab_type": "text",
    "id": "kHgErVwVBG-t"
   },
   "source": [
    "Muratic Acid is concentrated hydrochloric acid (31.5% by weight) sold by the gallon in home improvement centers for cleaning brick and masonary surfaces. The density of the solution is typically about 1.15 grams/ml. What is the molar concentration of HCl?"
   ]
  },
  {
   "cell_type": "code",
   "execution_count": null,
   "metadata": {
    "colab": {},
    "colab_type": "code",
    "id": "6Ln97-NdBG-u",
    "outputId": "b43c423a-c6d1-4744-d013-e2487feea782"
   },
   "outputs": [
    {
     "name": "stdout",
     "output_type": "stream",
     "text": [
      "0.009935545803620405 mole / milliliter\n",
      "9.935545803620405 mole / liter\n"
     ]
    }
   ],
   "source": [
    "# molecular weight\n",
    "mwHCl = 36.46 * ur.grams/ur.mol\n",
    "\n",
    "# problem data\n",
    "rho = 1.15 * ur.grams/ur.ml\n",
    "wHCl = 0.315 * ur.grams/ur.gram\n",
    "\n",
    "# calculations\n",
    "massHCl = wHCl * rho             # mass of HCl per volume\n",
    "moleHCl = massHCl/mwHCl          # gmols of HCl per volume\n",
    "\n",
    "print(moleHCl)\n",
    "\n",
    "# convert to desired units\n",
    "moleHCl.ito(ur.mol/ur.liter)\n",
    "print(moleHCl)"
   ]
  },
  {
   "cell_type": "markdown",
   "metadata": {
    "colab_type": "text",
    "id": "l5ght72SBG-w"
   },
   "source": [
    "### Mole and Mass Fractions"
   ]
  },
  {
   "cell_type": "code",
   "execution_count": null,
   "metadata": {
    "colab": {},
    "colab_type": "code",
    "id": "pGV5iEogBG-x",
    "outputId": "d9683179-6c11-4ec6-ca03-e959dd86bcf5"
   },
   "outputs": [
    {
     "name": "stdout",
     "output_type": "stream",
     "text": [
      "0.36108542899408286 dimensionless\n"
     ]
    }
   ],
   "source": [
    "# molar weights \n",
    "mwBen = 78.11 * ur.grams/ur.liter\n",
    "mwTol = 92.14 * ur.grams/ur.liter\n",
    "\n",
    "xBen = 0.4 * ur.mol/ur.mol\n",
    "xTol = 0.6 * ur.mol/ur.mol\n",
    "\n",
    "wBen = mwBen*xBen / (mwBen*xBen + mwTol*xTol)\n",
    "\n",
    "print(wBen)"
   ]
  },
  {
   "cell_type": "markdown",
   "metadata": {
    "colab_type": "text",
    "id": "pQKmFbbOBG-2"
   },
   "source": [
    "### Prefixes"
   ]
  },
  {
   "cell_type": "code",
   "execution_count": null,
   "metadata": {
    "colab": {},
    "colab_type": "code",
    "id": "Yn7fTodEBG-3",
    "outputId": "612d96f8-da43-41b6-c75f-c470812f3750"
   },
   "outputs": [
    {
     "name": "stdout",
     "output_type": "stream",
     "text": [
      "78.11 kilogram / kilomole\n",
      "0.07811 kilogram / mole\n"
     ]
    }
   ],
   "source": [
    "mwBen = 78.11 * ur.kg/ur.kmol\n",
    "print(mwBen)\n",
    "\n",
    "mwBen.ito_base_units()\n",
    "print(mwBen)"
   ]
  },
  {
   "cell_type": "markdown",
   "metadata": {
    "colab_type": "text",
    "id": "s4qtEnckBG-6"
   },
   "source": [
    "### Temperature and Other Offset (Non-multiplicative) Units\n",
    "\n",
    "Examples of non-multiplicative units are degrees Celsius, degrees Fahrenheit, and gauge pressure. For these units the zero of the measurement scale is offset from absolute zero of the underlying physical quantity. In these cases the units are assigned using the `Quantity()` function of the `UnitRegistry` module."
   ]
  },
  {
   "cell_type": "code",
   "execution_count": null,
   "metadata": {
    "colab": {},
    "colab_type": "code",
    "id": "M0ygOiaTBG-6",
    "outputId": "c2e704bf-735f-4e24-ba09-a6321f633227"
   },
   "outputs": [
    {
     "name": "stdout",
     "output_type": "stream",
     "text": [
      "25 degC  =  77.00000039999996 degF\n"
     ]
    }
   ],
   "source": [
    "T = ur.Quantity(25,ur.degC)\n",
    "\n",
    "print(T, \" = \", T.to(ur.degF))"
   ]
  },
  {
   "cell_type": "markdown",
   "metadata": {
    "colab_type": "text",
    "id": "_jsOI5GOBG--"
   },
   "source": [
    "There is an embedded ambiguity in working with non-multiplicative units. For example, given temperatures Ta = 10 and Tdelta = 25 in degrees C, should Ta + Tdelta give an answer of 35 degrees C, or the sum of the absolute temperatures which would correspond to 308.15 degrees C?\n",
    "\n",
    "Pint uses unit type called `delta_degC` for this situation."
   ]
  },
  {
   "cell_type": "code",
   "execution_count": null,
   "metadata": {
    "colab": {},
    "colab_type": "code",
    "id": "NhzHbiSFBG-_",
    "outputId": "11ed4a2f-674e-4edf-b79e-2054f79af8d4"
   },
   "outputs": [
    {
     "name": "stdout",
     "output_type": "stream",
     "text": [
      "35.0 degC\n"
     ]
    }
   ],
   "source": [
    "Ta = ur.Quantity(10.0, ur.degC)\n",
    "Tdelta = 25.0 * ur.delta_degC\n",
    "\n",
    "print(Ta + Tdelta)"
   ]
  },
  {
   "cell_type": "code",
   "execution_count": null,
   "metadata": {
    "colab": {},
    "colab_type": "code",
    "id": "R9z-XzZFBG_C",
    "outputId": "71e4148b-443e-423a-a06b-8e6f58542558"
   },
   "outputs": [
    {
     "name": "stdout",
     "output_type": "stream",
     "text": [
      "100.000 delta_degC\n",
      "180.000 delta_degF\n"
     ]
    }
   ],
   "source": [
    "Tb = ur.Quantity(100.0, ur.degC)\n",
    "Tf = ur.Quantity(32.0, ur.degF)\n",
    "\n",
    "print(\"{0:6.3f}\".format(Tb-Tf))\n",
    "print(\"{0:6.3f}\".format((Tb-Tf).to(ur.delta_degF)))"
   ]
  },
  {
   "cell_type": "code",
   "execution_count": null,
   "metadata": {
    "colab": {},
    "colab_type": "code",
    "id": "D_N5TVSQBG_H",
    "outputId": "edafc83f-b9a2-40ee-9744-3aa3d1c9a7fd"
   },
   "outputs": [
    {
     "data": {
      "text/html": [
       "10.959644683262889 pound_force_per_square_inch"
      ],
      "text/latex": [
       "$10.959644683262889\\ \\mathrm{pound_force_per_square_inch}$"
      ],
      "text/plain": [
       "<Quantity(10.959644683262889, 'pound_force_per_square_inch')>"
      ]
     },
     "execution_count": 13,
     "metadata": {
      "tags": []
     },
     "output_type": "execute_result"
    }
   ],
   "source": [
    "P1 = (12.5 + 14.696) * ur.psi\n",
    "\n",
    "T1 = ur.Quantity(70, ur.degF).to(ur.degR)\n",
    "T2 = ur.Quantity(40, ur.degF).to(ur.degR)\n",
    "\n",
    "P2 = (T2/T1)*P1 - 14.696 * ur.psi\n",
    "P2"
   ]
  },
  {
   "cell_type": "code",
   "execution_count": null,
   "metadata": {
    "colab": {},
    "colab_type": "code",
    "id": "gix_r1BBBG_J",
    "outputId": "8f609900-7918-44f9-8333-937763cb6070"
   },
   "outputs": [
    {
     "name": "stdout",
     "output_type": "stream",
     "text": [
      "Volume =  4188.790204786391 centimeter ** 3\n",
      "Mass of Air =  4.95962584191983 gram\n"
     ]
    }
   ],
   "source": [
    "import math\n",
    "pi = math.pi\n",
    "\n",
    "# constants\n",
    "R = 8.314 * ur.joule/(ur.mol*ur.degK)\n",
    "mw = 28.966 * ur.grams/ur.mol\n",
    "\n",
    "# problem data\n",
    "P = 1.0 * ur.atm\n",
    "T = ur.Quantity(25,ur.degC).to(ur.degK)\n",
    "r = 10 * ur.cm\n",
    "\n",
    "# calculations\n",
    "V = (4.0/3.0)*pi*r**3\n",
    "print(\"Volume = \", V)\n",
    "\n",
    "m = mw*P*V/(R*T)\n",
    "\n",
    "print(\"Mass of Air = \", m.to(ur.grams))"
   ]
  },
  {
   "cell_type": "markdown",
   "metadata": {
    "colab_type": "text",
    "id": "JLAxNXJBBG_P"
   },
   "source": [
    "<!--NAVIGATION-->\n",
    "< [Units, Quantities, and Engineering Calculations](http://nbviewer.jupyter.org/github/docNathanM/chemeng316_fluids/blob/master/notebooks/01.00-Units-Quantities-and-Engineering-Calculations.ipynb) | [Contents](toc.ipynb) |<p><a href=\"https://colab.research.google.com/github/docNathanM/chemeng316_fluids/blob/master/notebooks/01.01-Units-and-Engineering-Calculations.ipynb\"><img align=\"left\" src=\"https://colab.research.google.com/assets/colab-badge.svg\" alt=\"Open in Colab\" title=\"Open in Google Colaboratory\"></a>"
   ]
  }
 ],
 "metadata": {
  "colab": {
   "name": "01.01-Units-and-Engineering-Calculations.ipynb",
   "provenance": [],
   "version": "0.3.2"
  },
  "kernelspec": {
   "display_name": "Python 3 (ipykernel)",
   "language": "python",
   "name": "python3"
  },
  "language_info": {
   "codemirror_mode": {
    "name": "ipython",
    "version": 3
   },
   "file_extension": ".py",
   "mimetype": "text/x-python",
   "name": "python",
   "nbconvert_exporter": "python",
   "pygments_lexer": "ipython3",
   "version": "3.9.12"
  }
 },
 "nbformat": 4,
 "nbformat_minor": 2
}
