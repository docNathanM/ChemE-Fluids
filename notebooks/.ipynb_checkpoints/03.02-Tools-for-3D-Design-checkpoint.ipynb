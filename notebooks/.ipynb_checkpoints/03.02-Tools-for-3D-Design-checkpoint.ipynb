{
 "cells": [
  {
   "cell_type": "markdown",
   "metadata": {},
   "source": [
    "# Tools for 3D Design and Illustration\n",
    "\n",
    "You can sign up for a free account at TinkerCAD. https://www.tinkercad.com/\n",
    "\n",
    "I have even already created a class link for this class to facilitate sharing designs with me or with the class.\n",
    "\n",
    "https://www.tinkercad.com/joinclass/JR4TQ5ASP"
   ]
  },
  {
   "cell_type": "code",
   "execution_count": null,
   "metadata": {},
   "outputs": [],
   "source": []
  }
 ],
 "metadata": {
  "kernelspec": {
   "display_name": "Python 3 (ipykernel)",
   "language": "python",
   "name": "python3"
  },
  "language_info": {
   "codemirror_mode": {
    "name": "ipython",
    "version": 3
   },
   "file_extension": ".py",
   "mimetype": "text/x-python",
   "name": "python",
   "nbconvert_exporter": "python",
   "pygments_lexer": "ipython3",
   "version": "3.9.12"
  }
 },
 "nbformat": 4,
 "nbformat_minor": 4
}
