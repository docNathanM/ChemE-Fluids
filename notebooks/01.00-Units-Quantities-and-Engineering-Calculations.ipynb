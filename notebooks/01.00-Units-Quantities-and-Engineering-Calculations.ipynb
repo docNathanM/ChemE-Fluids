{
 "cells": [
  {
   "cell_type": "markdown",
   "metadata": {},
   "source": [
    "<!--NOTEBOOK_HEADER-->\n",
    "*This notebook contains material from [chemeng316_fluids](https://docNathanM.github.io/chemeng316_fluids);\n",
    "content is available [on Github](https://github.com/docNathanM/chemeng316_fluids).*"
   ]
  },
  {
   "cell_type": "markdown",
   "metadata": {},
   "source": [
    "<!--NAVIGATION-->\n",
    "< [Solving Linear Equations with Simpy](http://nbviewer.jupyter.org/github/docNathanM/chemeng316_fluids/blob/master/notebooks/00.02-Solving-Linear-Equations-with-Sympy.ipynb) | [Contents](toc.ipynb) | [Units and Engineering Calculations](http://nbviewer.jupyter.org/github/docNathanM/chemeng316_fluids/blob/master/notebooks/01.01-Units-and-Engineering-Calculations.ipynb) ><p><a href=\"https://colab.research.google.com/github/docNathanM/chemeng316_fluids/blob/master/notebooks/01.00-Units-Quantities-and-Engineering-Calculations.ipynb\"><img align=\"left\" src=\"https://colab.research.google.com/assets/colab-badge.svg\" alt=\"Open in Colab\" title=\"Open in Google Colaboratory\"></a>"
   ]
  },
  {
   "cell_type": "markdown",
   "metadata": {},
   "source": [
    "# Units, Quantities, and Engineering Calculations"
   ]
  },
  {
   "cell_type": "markdown",
   "metadata": {},
   "source": [
    "<!--NAVIGATION-->\n",
    "< [Solving Linear Equations with Simpy](http://nbviewer.jupyter.org/github/docNathanM/chemeng316_fluids/blob/master/notebooks/00.02-Solving-Linear-Equations-with-Sympy.ipynb) | [Contents](toc.ipynb) | [Units and Engineering Calculations](http://nbviewer.jupyter.org/github/docNathanM/chemeng316_fluids/blob/master/notebooks/01.01-Units-and-Engineering-Calculations.ipynb) ><p><a href=\"https://colab.research.google.com/github/docNathanM/chemeng316_fluids/blob/master/notebooks/01.00-Units-Quantities-and-Engineering-Calculations.ipynb\"><img align=\"left\" src=\"https://colab.research.google.com/assets/colab-badge.svg\" alt=\"Open in Colab\" title=\"Open in Google Colaboratory\"></a>"
   ]
  }
 ],
 "metadata": {
  "kernelspec": {
   "display_name": "Python 3",
   "language": "python",
   "name": "python3"
  },
  "language_info": {
   "codemirror_mode": {
    "name": "ipython",
    "version": 3
   },
   "file_extension": ".py",
   "mimetype": "text/x-python",
   "name": "python",
   "nbconvert_exporter": "python",
   "pygments_lexer": "ipython3",
   "version": "3.7.3"
  }
 },
 "nbformat": 4,
 "nbformat_minor": 2
}
