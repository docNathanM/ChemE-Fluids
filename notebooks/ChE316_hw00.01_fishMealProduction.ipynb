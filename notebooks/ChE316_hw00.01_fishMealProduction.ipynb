{
 "cells": [
  {
   "cell_type": "markdown",
   "id": "d90c52c6",
   "metadata": {
    "id": "d90c52c6"
   },
   "source": [
    "# Homework 0"
   ]
  },
  {
   "cell_type": "markdown",
   "id": "04e7596a",
   "metadata": {},
   "source": [
    "1. In the production of fishmeal, the oil is first extracted, leaving a wet fish cake containing 88 wt.% water. This cake is partially dried to reduce the moisture content to 27 wt.%, after which the cake is ground.\n",
    " - Construct a block flow diagram of this process.\n",
    " - How many kg/h of wet cake would be necessary to produce 1200 kg/h of \"dry\" cake?\n",
    " - How much water is extracted from the wet cake (in kg/h)?"
   ]
  },
  {
   "cell_type": "markdown",
   "id": "e49084a4",
   "metadata": {},
   "source": [
    "## Block Flow Diagram"
   ]
  },
  {
   "cell_type": "markdown",
   "id": "3be55d9d",
   "metadata": {},
   "source": [
    "![System](HW00-001_figA.jpg)"
   ]
  },
  {
   "cell_type": "markdown",
   "id": "549fdc28",
   "metadata": {},
   "source": [
    "## Method\n",
    "For the mass flow questions, all I have to worry about is the mass balance around the dryer for streams $\\boxed{3}$, $\\boxed{4}$, and $\\boxed{5}$. The solution is straight forward because the solids are only found in streams $\\boxed{3}$ and $\\boxed{5}$. But, I will go ahead and set this up as a multi-equation unknown and use solver for an example.\n",
    "\n",
    "I'm going to use `m3` and `m4` as my unknowns."
   ]
  },
  {
   "cell_type": "code",
   "execution_count": 1,
   "id": "6633b1c3",
   "metadata": {},
   "outputs": [],
   "source": [
    "import sympy as sp"
   ]
  },
  {
   "cell_type": "code",
   "execution_count": 3,
   "id": "ae8661d7",
   "metadata": {},
   "outputs": [
    {
     "data": {
      "text/plain": [
       "[m3, m4, m5]"
      ]
     },
     "execution_count": 3,
     "metadata": {},
     "output_type": "execute_result"
    }
   ],
   "source": [
    "sp.var(['m3','m4','m5'])"
   ]
  },
  {
   "cell_type": "code",
   "execution_count": 5,
   "id": "09907aa3",
   "metadata": {
    "id": "09907aa3"
   },
   "outputs": [
    {
     "name": "stdout",
     "output_type": "stream",
     "text": [
      "[0.12*m3 - 0.73*m5, 0.88*m3 - m4 - 0.27*m5, 1200 - m5]\n"
     ]
    }
   ],
   "source": [
    "eqns = [\n",
    "    0.12*m3 - 0.73*m5,\n",
    "    0.88*m3 - 0.27*m5 - m4,\n",
    "    1200 - m5\n",
    "]\n",
    "print(eqns)"
   ]
  },
  {
   "cell_type": "code",
   "execution_count": 6,
   "id": "7f26a9a4",
   "metadata": {
    "id": "7f26a9a4"
   },
   "outputs": [
    {
     "name": "stdout",
     "output_type": "stream",
     "text": [
      "{m3: 7300.00000000000, m4: 6100.00000000000, m5: 1200.00000000000}\n"
     ]
    }
   ],
   "source": [
    "soln = sp.solve(eqns)\n",
    "print(soln)"
   ]
  },
  {
   "cell_type": "markdown",
   "id": "766efec7",
   "metadata": {},
   "source": [
    "## Solution\n",
    "\n",
    "\n",
    "$\\dot{m}_3 = 7300\\textrm{kg}/\\textrm{hr}$ is the wet cake required.\n",
    "\n",
    "$\\dot{m}_4 = 6100\\textrm{kg}/\\textrm{hr}$ is the water extracted."
   ]
  }
 ],
 "metadata": {
  "colab": {
   "provenance": []
  },
  "kernelspec": {
   "display_name": "Python 3 (ipykernel)",
   "language": "python",
   "name": "python3"
  },
  "language_info": {
   "codemirror_mode": {
    "name": "ipython",
    "version": 3
   },
   "file_extension": ".py",
   "mimetype": "text/x-python",
   "name": "python",
   "nbconvert_exporter": "python",
   "pygments_lexer": "ipython3",
   "version": "3.9.12"
  }
 },
 "nbformat": 4,
 "nbformat_minor": 5
}
