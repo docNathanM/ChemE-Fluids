{
 "cells": [
  {
   "cell_type": "markdown",
   "id": "46f7dd78",
   "metadata": {},
   "source": [
    "<!--NOTEBOOK_HEADER-->\n",
    "*This notebook contains material from [chemeng316_fluids](https://docNathanM.github.io/chemeng316_fluids);\n",
    "content is available [on Github](https://github.com/docNathanM/chemeng316_fluids).*\n"
   ]
  },
  {
   "cell_type": "markdown",
   "id": "f4b6265c",
   "metadata": {},
   "source": [
    "<!--NAVIGATION-->\n",
    "< [B.4 Homework 4](https://docNathanM.github.io/chemeng316_fluids/B.04-Homework-04.html) | [Contents](toc.html) |<p><a href=\"https://colab.research.google.com/github/docNathanM/chemeng316_fluids/blob/master/docs/B.05-Homework-05.ipynb\"> <img align=\"left\" src=\"https://colab.research.google.com/assets/colab-badge.svg\" alt=\"Open in Colab\" title=\"Open in Google Colaboratory\"></a>"
   ]
  },
  {
   "cell_type": "markdown",
   "metadata": {
    "nbpages": {
     "level": 1,
     "link": "[B.5 Homework 5](https://docNathanM.github.io/chemeng316_fluids/B.05-Homework-05.html#B.5-Homework-5)",
     "section": "B.5 Homework 5"
    }
   },
   "source": [
    "# B.5 Homework 5\n",
    "\n",
    "*ChE 316 – Chem Eng. Fluid Mechanics – Spring 2024*\n",
    "\n",
    "**DUE 7 Feb 2024**"
   ]
  },
  {
   "cell_type": "markdown",
   "metadata": {
    "nbpages": {
     "level": 1,
     "link": "[B.5 Homework 5](https://docNathanM.github.io/chemeng316_fluids/B.05-Homework-05.html#B.5-Homework-5)",
     "section": "B.5 Homework 5"
    }
   },
   "source": [
    "**Getting Started**: Here is the code to import the `pint`, `CoolProp`, `numpy`, `sympy`, and `matplotlib` modules to get you started."
   ]
  },
  {
   "cell_type": "code",
   "execution_count": null,
   "metadata": {
    "nbpages": {
     "level": 1,
     "link": "[B.5 Homework 5](https://docNathanM.github.io/chemeng316_fluids/B.05-Homework-05.html#B.5-Homework-5)",
     "section": "B.5 Homework 5"
    }
   },
   "outputs": [],
   "source": [
    "try:\n",
    "    import pint\n",
    "except:\n",
    "    !pip install pint\n",
    "    import pint\n",
    "finally:\n",
    "    ur = pint.UnitRegistry()"
   ]
  },
  {
   "cell_type": "code",
   "execution_count": null,
   "metadata": {
    "nbpages": {
     "level": 1,
     "link": "[B.5 Homework 5](https://docNathanM.github.io/chemeng316_fluids/B.05-Homework-05.html#B.5-Homework-5)",
     "section": "B.5 Homework 5"
    }
   },
   "outputs": [],
   "source": [
    "try:\n",
    "    import CoolProp.CoolProp as CP\n",
    "except:\n",
    "    !pip install CoolProp\n",
    "    import CoolProp.CoolProp as CP"
   ]
  },
  {
   "cell_type": "code",
   "execution_count": null,
   "metadata": {
    "nbpages": {
     "level": 1,
     "link": "[B.5 Homework 5](https://docNathanM.github.io/chemeng316_fluids/B.05-Homework-05.html#B.5-Homework-5)",
     "section": "B.5 Homework 5"
    }
   },
   "outputs": [],
   "source": [
    "# we need numpy for constants like pi\n",
    "# https://numpy.org/doc/stable/reference/constants.html\n",
    "import numpy as np\n",
    "\n",
    "# we often use sympy to solve equations\n",
    "import sympy as sp\n",
    "\n",
    "# for plotting we need\n",
    "import matplotlib.pyplot as plt\n",
    "\n",
    "# For nice plotting I include ...\n",
    "plt.rcParams['mathtext.default'] = 'rm'\n",
    "plt.rcParams['mathtext.fontset'] = 'stix'\n",
    "plt.rcParams['font.family'] = 'Times New Roman'"
   ]
  },
  {
   "cell_type": "markdown",
   "metadata": {
    "nbpages": {
     "level": 1,
     "link": "[B.5 Homework 5](https://docNathanM.github.io/chemeng316_fluids/B.05-Homework-05.html#B.5-Homework-5)",
     "section": "B.5 Homework 5"
    }
   },
   "source": [
    "<hr>"
   ]
  },
  {
   "cell_type": "markdown",
   "metadata": {
    "nbpages": {
     "level": 1,
     "link": "[B.5 Homework 5](https://docNathanM.github.io/chemeng316_fluids/B.05-Homework-05.html#B.5-Homework-5)",
     "section": "B.5 Homework 5"
    }
   },
   "source": [
    "**Problem 1**. The entrance length refers to the distance along a tube needed before the flow profile is *fully developed*. In *laminar* flow the entrance length, $x_t$, can be estimated as $x_t=0.05 D (Re)$. However, for turbulent flow, a rule of thumb is often applied such that the entrance length can be estimated as $x_t≈10D$. This is a rough estimate, and a more accurate description of the entrance length can be determined from the equation $x_t=1.36 D(Re)^{1/4}$.\n",
    "\n",
    "<img src=\"figures/fig_entranceLength.jpg\">\n",
    "\n",
    "Now, assume a pipe diameter of 20 cm.\n",
    "\n",
    "- Generate a graph of turbulent flow entrance length (in m) versus Reynolds number in the range 1000 to $1\\times 10^5$.\n",
    "- At what Reynolds number does the \"rule of thumb\" become a poor estimate assuming the rule fails to be effective when the estimation error exceeds 5%. In other words, at what Reynolds number does the turbulent description of entrance length exceed the \"rule of thumb\" by 5%?\n",
    "- Discussion: What additional adjustments can be made to the rule of thumb to increase its accuracy."
   ]
  },
  {
   "cell_type": "code",
   "execution_count": null,
   "metadata": {
    "nbpages": {
     "level": 1,
     "link": "[B.5 Homework 5](https://docNathanM.github.io/chemeng316_fluids/B.05-Homework-05.html#B.5-Homework-5)",
     "section": "B.5 Homework 5"
    }
   },
   "outputs": [],
   "source": [
    "# YOUR SOLUTION HERE"
   ]
  },
  {
   "cell_type": "markdown",
   "id": "fec9775c",
   "metadata": {},
   "source": [
    "<!--NAVIGATION-->\n",
    "< [B.4 Homework 4](https://docNathanM.github.io/chemeng316_fluids/B.04-Homework-04.html) | [Contents](toc.html) |<p><a href=\"https://colab.research.google.com/github/docNathanM/chemeng316_fluids/blob/master/docs/B.05-Homework-05.ipynb\"> <img align=\"left\" src=\"https://colab.research.google.com/assets/colab-badge.svg\" alt=\"Open in Colab\" title=\"Open in Google Colaboratory\"></a>"
   ]
  }
 ],
 "metadata": {
  "kernelspec": {
   "display_name": "Python 3 (ipykernel)",
   "language": "python",
   "name": "python3"
  },
  "language_info": {
   "codemirror_mode": {
    "name": "ipython",
    "version": 3
   },
   "file_extension": ".py",
   "mimetype": "text/x-python",
   "name": "python",
   "nbconvert_exporter": "python",
   "pygments_lexer": "ipython3",
   "version": "3.9.12"
  }
 },
 "nbformat": 4,
 "nbformat_minor": 4
}
