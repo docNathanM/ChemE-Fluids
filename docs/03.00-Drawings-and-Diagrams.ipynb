{
 "cells": [
  {
   "cell_type": "markdown",
   "id": "5d34adad",
   "metadata": {},
   "source": [
    "<!--NOTEBOOK_HEADER-->\n",
    "*This notebook contains material from [chemeng316_fluids](https://docNathanM.github.io/chemeng316_fluids);\n",
    "content is available [on Github](https://github.com/docNathanM/chemeng316_fluids).*\n"
   ]
  },
  {
   "cell_type": "markdown",
   "id": "ef3cb3ac",
   "metadata": {},
   "source": [
    "<!--NAVIGATION-->\n",
    "< [2.4 Queary Wolfram Alpha for Information](https://docNathanM.github.io/chemeng316_fluids/02.04-Queary-Wolfram-Alpha.html) | [Contents](toc.html) | [3.1 Tools for 2-D Diagrams](https://docNathanM.github.io/chemeng316_fluids/03.01-Tools-for-2D-Diagrams.html) ><p><a href=\"https://colab.research.google.com/github/docNathanM/chemeng316_fluids/blob/master/docs/03.00-Drawings-and-Diagrams.ipynb\"> <img align=\"left\" src=\"https://colab.research.google.com/assets/colab-badge.svg\" alt=\"Open in Colab\" title=\"Open in Google Colaboratory\"></a><p><a href=\"https://docNathanM.github.io/chemeng316_fluids/03.00-Drawings-and-Diagrams.ipynb\"> <img align=\"left\" src=\"https://img.shields.io/badge/Github-Download-blue.svg\" alt=\"Download\" title=\"Download Notebook\"></a>"
   ]
  },
  {
   "cell_type": "markdown",
   "metadata": {
    "nbpages": {
     "level": 1,
     "link": "[3.0 Drawings and Diagrams](https://docNathanM.github.io/chemeng316_fluids/03.00-Drawings-and-Diagrams.html#3.0-Drawings-and-Diagrams)",
     "section": "3.0 Drawings and Diagrams"
    }
   },
   "source": [
    "# 3.0 Drawings and Diagrams"
   ]
  },
  {
   "cell_type": "markdown",
   "id": "2b7e3239",
   "metadata": {},
   "source": [
    "<!--NAVIGATION-->\n",
    "< [2.4 Queary Wolfram Alpha for Information](https://docNathanM.github.io/chemeng316_fluids/02.04-Queary-Wolfram-Alpha.html) | [Contents](toc.html) | [3.1 Tools for 2-D Diagrams](https://docNathanM.github.io/chemeng316_fluids/03.01-Tools-for-2D-Diagrams.html) ><p><a href=\"https://colab.research.google.com/github/docNathanM/chemeng316_fluids/blob/master/docs/03.00-Drawings-and-Diagrams.ipynb\"> <img align=\"left\" src=\"https://colab.research.google.com/assets/colab-badge.svg\" alt=\"Open in Colab\" title=\"Open in Google Colaboratory\"></a><p><a href=\"https://docNathanM.github.io/chemeng316_fluids/03.00-Drawings-and-Diagrams.ipynb\"> <img align=\"left\" src=\"https://img.shields.io/badge/Github-Download-blue.svg\" alt=\"Download\" title=\"Download Notebook\"></a>"
   ]
  }
 ],
 "metadata": {
  "kernelspec": {
   "display_name": "Python 3 (ipykernel)",
   "language": "python",
   "name": "python3"
  },
  "language_info": {
   "codemirror_mode": {
    "name": "ipython",
    "version": 3
   },
   "file_extension": ".py",
   "mimetype": "text/x-python",
   "name": "python",
   "nbconvert_exporter": "python",
   "pygments_lexer": "ipython3",
   "version": "3.9.12"
  }
 },
 "nbformat": 4,
 "nbformat_minor": 2
}
