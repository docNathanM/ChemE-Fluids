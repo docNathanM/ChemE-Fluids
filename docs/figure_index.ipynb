{
 "cells": [
  {
   "cell_type": "markdown",
   "id": "2c6a22e6",
   "metadata": {},
   "source": [
    "# [chemeng316_fluids](https://docNathanM.github.io/chemeng316_fluids)\n",
    "\n",
    "## Index of Figures in this Repository\n",
    "\n",
    "### 03.01_fig01_addProcFlowShapes.jpg\n",
    "![03.01_fig01_addProcFlowShapes.jpg](figures/03.01_fig01_addProcFlowShapes.jpg)\n",
    "* [3.1 Tools for 2-D Diagrams](https://docNathanM.github.io/chemeng316_fluids/03.01-Tools-for-2D-Diagrams.html#3.1-Tools-for-2-D-Diagrams)\n",
    "\n",
    "### 03.01_fig02_example_fishMealProduction.jpg\n",
    "![03.01_fig02_example_fishMealProduction.jpg](figures/03.01_fig02_example_fishMealProduction.jpg)\n",
    "* [3.1.1 Example](https://docNathanM.github.io/chemeng316_fluids/03.01-Tools-for-2D-Diagrams.html#3.1.1-Example)\n",
    "\n",
    "### 03.01_fig03_example_fishMealProduction.jpg\n",
    "![03.01_fig03_example_fishMealProduction.jpg](figures/03.01_fig03_example_fishMealProduction.jpg)\n",
    "* [3.1.1.1 How To: Math Notation](https://docNathanM.github.io/chemeng316_fluids/03.01-Tools-for-2D-Diagrams.html#3.1.1.1-How-To:-Math-Notation)"
   ]
  }
 ],
 "metadata": {},
 "nbformat": 4,
 "nbformat_minor": 5
}
