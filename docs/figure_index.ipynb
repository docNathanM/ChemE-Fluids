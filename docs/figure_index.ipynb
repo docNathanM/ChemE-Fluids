{
 "cells": [
  {
   "cell_type": "markdown",
   "id": "d6303d68",
   "metadata": {},
   "source": [
    "# [chemeng316_fluids](https://docNathanM.github.io/chemeng316_fluids)\n",
    "\n",
    "## Index of Figures in this Repository"
   ]
  }
 ],
 "metadata": {},
 "nbformat": 4,
 "nbformat_minor": 5
}
