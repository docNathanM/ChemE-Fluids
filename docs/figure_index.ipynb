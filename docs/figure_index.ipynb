{
 "cells": [
  {
   "cell_type": "markdown",
   "id": "feffdfeb",
   "metadata": {},
   "source": [
    "# [chemeng316_fluids](https://docNathanM.github.io/chemeng316_fluids)\n",
    "\n",
    "## Index of Figures in this Repository\n",
    "\n",
    "### 03.01_fig01_addProcFlowShapes.jpg\n",
    "![03.01_fig01_addProcFlowShapes.jpg](figures/03.01_fig01_addProcFlowShapes.jpg)\n",
    "* [3.1 Tools for 2-D Diagrams](https://docNathanM.github.io/chemeng316_fluids/03.01-Tools-for-2D-Diagrams.html#3.1-Tools-for-2-D-Diagrams)\n",
    "\n",
    "### 03.01_fig03_example_fishMealProduction.jpg\n",
    "![03.01_fig03_example_fishMealProduction.jpg](figures/03.01_fig03_example_fishMealProduction.jpg)\n",
    "* [3.1.1.1 How To: Math Notation](https://docNathanM.github.io/chemeng316_fluids/03.01-Tools-for-2D-Diagrams.html#3.1.1.1-How-To:-Math-Notation)\n",
    "\n",
    "### fig_03_01_fig02_example_fishMealProduction.jpg\n",
    "![fig_03_01_fig02_example_fishMealProduction.jpg](figures/fig_03_01_fig02_example_fishMealProduction.jpg)\n",
    "* [3.1.1 Example](https://docNathanM.github.io/chemeng316_fluids/03.01-Tools-for-2D-Diagrams.html#3.1.1-Example)\n",
    "\n",
    "### fig_entranceLength.jpg\n",
    "![fig_entranceLength.jpg](figures/fig_entranceLength.jpg)\n",
    "* [B.5 Homework 5](https://docNathanM.github.io/chemeng316_fluids/B.05-Homework-05.html#B.5-Homework-5)\n",
    "\n",
    "### hw02.02_findingDensityOfFluidA.png\n",
    "![hw02.02_findingDensityOfFluidA.png](figures/hw02.02_findingDensityOfFluidA.png)\n",
    "* [B.2 Homework 2](https://docNathanM.github.io/chemeng316_fluids/B.02-Homework-02.html#B.2-Homework-2)\n",
    "\n",
    "### hw02.03_baseballFloatingInWaterTank.png\n",
    "![hw02.03_baseballFloatingInWaterTank.png](figures/hw02.03_baseballFloatingInWaterTank.png)\n",
    "* [B.2 Homework 2](https://docNathanM.github.io/chemeng316_fluids/B.02-Homework-02.html#B.2-Homework-2)\n",
    "\n",
    "### hw07_nm24_fig01.jpg\n",
    "![hw07_nm24_fig01.jpg](figures/hw07_nm24_fig01.jpg)\n",
    "* [B.7 Homework 7](https://docNathanM.github.io/chemeng316_fluids/B.07-Homework-07.html#B.7-Homework-7)"
   ]
  }
 ],
 "metadata": {},
 "nbformat": 4,
 "nbformat_minor": 5
}
