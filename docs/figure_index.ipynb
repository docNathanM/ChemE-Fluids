{
 "cells": [
  {
   "cell_type": "markdown",
   "id": "d844e8af",
   "metadata": {},
   "source": [
    "# [chemeng316_fluids](https://docNathanM.github.io/chemeng316_fluids)\n",
    "\n",
    "## Index of Figures in this Repository\n",
    "\n",
    "### 03.01_fig01_addProcFlowShapes.jpg\n",
    "![03.01_fig01_addProcFlowShapes.jpg](figures/03.01_fig01_addProcFlowShapes.jpg)\n",
    "* [3.1 Tools for 2-D Diagrams](https://docNathanM.github.io/chemeng316_fluids/03.01-Tools-for-2D-Diagrams.html#3.1-Tools-for-2-D-Diagrams)\n",
    "\n",
    "### 03.01_fig03_example_fishMealProduction.jpg\n",
    "![03.01_fig03_example_fishMealProduction.jpg](figures/03.01_fig03_example_fishMealProduction.jpg)\n",
    "* [3.1.1.1 How To: Math Notation](https://docNathanM.github.io/chemeng316_fluids/03.01-Tools-for-2D-Diagrams.html#3.1.1.1-How-To:-Math-Notation)\n",
    "\n",
    "### fig_03_01_fig02_example_fishMealProduction.jpg\n",
    "![fig_03_01_fig02_example_fishMealProduction.jpg](figures/fig_03_01_fig02_example_fishMealProduction.jpg)\n",
    "* [3.1.1 Example](https://docNathanM.github.io/chemeng316_fluids/03.01-Tools-for-2D-Diagrams.html#3.1.1-Example)"
   ]
  }
 ],
 "metadata": {},
 "nbformat": 4,
 "nbformat_minor": 5
}
