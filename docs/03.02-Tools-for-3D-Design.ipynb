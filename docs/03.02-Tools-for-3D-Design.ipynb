{
 "cells": [
  {
   "cell_type": "markdown",
   "id": "1e35269a",
   "metadata": {},
   "source": [
    "<!--NOTEBOOK_HEADER-->\n",
    "*This notebook contains material from [chemeng316_fluids](https://docNathanM.github.io/chemeng316_fluids);\n",
    "content is available [on Github](https://github.com/docNathanM/chemeng316_fluids).*\n"
   ]
  },
  {
   "cell_type": "markdown",
   "id": "9cac8042",
   "metadata": {},
   "source": [
    "<!--NAVIGATION-->\n",
    "< [3.1 Tools for 2-D Diagrams](https://docNathanM.github.io/chemeng316_fluids/03.01-Tools-for-2D-Diagrams.html) | [Contents](toc.html) | [4.0 Unit 1: Fluid Statics and Mechanics](https://docNathanM.github.io/chemeng316_fluids/04.00-Unit-1-Fluid-Statics-and-Mechanics.html) ><p><a href=\"https://colab.research.google.com/github/docNathanM/chemeng316_fluids/blob/master/docs/03.02-Tools-for-3D-Design.ipynb\"> <img align=\"left\" src=\"https://colab.research.google.com/assets/colab-badge.svg\" alt=\"Open in Colab\" title=\"Open in Google Colaboratory\"></a>"
   ]
  },
  {
   "cell_type": "markdown",
   "metadata": {
    "nbpages": {
     "level": 1,
     "link": "[3.2 Tools for 3D Design and Illustration](https://docNathanM.github.io/chemeng316_fluids/03.02-Tools-for-3D-Design.html#3.2-Tools-for-3D-Design-and-Illustration)",
     "section": "3.2 Tools for 3D Design and Illustration"
    }
   },
   "source": [
    "# 3.2 Tools for 3D Design and Illustration\n",
    "\n",
    "You can sign up for a free account at TinkerCAD. https://www.tinkercad.com/\n",
    "\n",
    "I have even already created a class link for this class to facilitate sharing designs with me or with the class.\n",
    "\n",
    "https://www.tinkercad.com/joinclass/JR4TQ5ASP"
   ]
  },
  {
   "cell_type": "code",
   "execution_count": null,
   "metadata": {
    "nbpages": {
     "level": 1,
     "link": "[3.2 Tools for 3D Design and Illustration](https://docNathanM.github.io/chemeng316_fluids/03.02-Tools-for-3D-Design.html#3.2-Tools-for-3D-Design-and-Illustration)",
     "section": "3.2 Tools for 3D Design and Illustration"
    }
   },
   "outputs": [],
   "source": []
  },
  {
   "cell_type": "markdown",
   "id": "1741d0c7",
   "metadata": {},
   "source": [
    "<!--NAVIGATION-->\n",
    "< [3.1 Tools for 2-D Diagrams](https://docNathanM.github.io/chemeng316_fluids/03.01-Tools-for-2D-Diagrams.html) | [Contents](toc.html) | [4.0 Unit 1: Fluid Statics and Mechanics](https://docNathanM.github.io/chemeng316_fluids/04.00-Unit-1-Fluid-Statics-and-Mechanics.html) ><p><a href=\"https://colab.research.google.com/github/docNathanM/chemeng316_fluids/blob/master/docs/03.02-Tools-for-3D-Design.ipynb\"> <img align=\"left\" src=\"https://colab.research.google.com/assets/colab-badge.svg\" alt=\"Open in Colab\" title=\"Open in Google Colaboratory\"></a>"
   ]
  }
 ],
 "metadata": {
  "kernelspec": {
   "display_name": "Python 3 (ipykernel)",
   "language": "python",
   "name": "python3"
  },
  "language_info": {
   "codemirror_mode": {
    "name": "ipython",
    "version": 3
   },
   "file_extension": ".py",
   "mimetype": "text/x-python",
   "name": "python",
   "nbconvert_exporter": "python",
   "pygments_lexer": "ipython3",
   "version": "3.9.12"
  }
 },
 "nbformat": 4,
 "nbformat_minor": 4
}
