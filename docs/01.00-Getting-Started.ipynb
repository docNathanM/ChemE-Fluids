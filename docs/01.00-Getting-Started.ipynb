{
 "cells": [
  {
   "cell_type": "markdown",
   "id": "7e063e7b",
   "metadata": {},
   "source": [
    "<!--NOTEBOOK_HEADER-->\n",
    "*This notebook contains material from [chemeng316_fluids](https://docNathanM.github.io/chemeng316_fluids);\n",
    "content is available [on Github](https://github.com/docNathanM/chemeng316_fluids).*\n"
   ]
  },
  {
   "cell_type": "markdown",
   "id": "8b0d24ca",
   "metadata": {},
   "source": [
    "<!--NAVIGATION-->\n",
    "| [Contents](toc.html) | [1.1 What Chemical Engineers Do](https://docNathanM.github.io/chemeng316_fluids/01.01-What-Chemical-Engineers-Do.html) ><p><a href=\"https://colab.research.google.com/github/docNathanM/chemeng316_fluids/blob/master/docs/01.00-Getting-Started.ipynb\"> <img align=\"left\" src=\"https://colab.research.google.com/assets/colab-badge.svg\" alt=\"Open in Colab\" title=\"Open in Google Colaboratory\"></a>"
   ]
  },
  {
   "cell_type": "markdown",
   "metadata": {
    "nbpages": {
     "level": 1,
     "link": "[1.0 Getting Started](https://docNathanM.github.io/chemeng316_fluids/01.00-Getting-Started.html#1.0-Getting-Started)",
     "section": "1.0 Getting Started"
    }
   },
   "source": [
    "# 1.0 Getting Started"
   ]
  },
  {
   "cell_type": "markdown",
   "id": "7126b78e",
   "metadata": {},
   "source": [
    "<!--NAVIGATION-->\n",
    "| [Contents](toc.html) | [1.1 What Chemical Engineers Do](https://docNathanM.github.io/chemeng316_fluids/01.01-What-Chemical-Engineers-Do.html) ><p><a href=\"https://colab.research.google.com/github/docNathanM/chemeng316_fluids/blob/master/docs/01.00-Getting-Started.ipynb\"> <img align=\"left\" src=\"https://colab.research.google.com/assets/colab-badge.svg\" alt=\"Open in Colab\" title=\"Open in Google Colaboratory\"></a>"
   ]
  }
 ],
 "metadata": {
  "kernelspec": {
   "display_name": "Python 3 (ipykernel)",
   "language": "python",
   "name": "python3"
  },
  "language_info": {
   "codemirror_mode": {
    "name": "ipython",
    "version": 3
   },
   "file_extension": ".py",
   "mimetype": "text/x-python",
   "name": "python",
   "nbconvert_exporter": "python",
   "pygments_lexer": "ipython3",
   "version": "3.9.12"
  }
 },
 "nbformat": 4,
 "nbformat_minor": 2
}
