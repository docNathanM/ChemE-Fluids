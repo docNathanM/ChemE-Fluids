{
 "cells": [
  {
   "cell_type": "markdown",
   "id": "f4ec4f31",
   "metadata": {},
   "source": [
    "<!--NOTEBOOK_HEADER-->\n",
    "*This notebook contains material from [chemeng316_fluids](https://docNathanM.github.io/chemeng316_fluids);\n",
    "content is available [on Github](https://github.com/docNathanM/chemeng316_fluids).*\n"
   ]
  },
  {
   "cell_type": "markdown",
   "id": "1e2844d3",
   "metadata": {},
   "source": [
    "<!--NAVIGATION-->\n",
    "< [2.3 Properties of Pure Substances with `CoolProp`](https://docNathanM.github.io/chemeng316_fluids/02.03-Properties-of-Pure-Substances-with-CoolProp.html) | [Contents](toc.html) | [3.0 Drawings and Diagrams](https://docNathanM.github.io/chemeng316_fluids/03.00-Drawings-and-Diagrams.html) ><p><a href=\"https://colab.research.google.com/github/docNathanM/chemeng316_fluids/blob/master/docs/02.04-Queary-Wolfram-Alpha.ipynb\"> <img align=\"left\" src=\"https://colab.research.google.com/assets/colab-badge.svg\" alt=\"Open in Colab\" title=\"Open in Google Colaboratory\"></a>"
   ]
  },
  {
   "cell_type": "markdown",
   "id": "d90c52c6",
   "metadata": {
    "id": "d90c52c6",
    "nbpages": {
     "level": 1,
     "link": "[2.4 Queary Wolfram Alpha for Information](https://docNathanM.github.io/chemeng316_fluids/02.04-Queary-Wolfram-Alpha.html#2.4-Queary-Wolfram-Alpha-for-Information)",
     "section": "2.4 Queary Wolfram Alpha for Information"
    }
   },
   "source": [
    "# 2.4 Queary Wolfram Alpha for Information\n",
    "[Wolfram Alpha](https://www.wolframalpha.com/) is a very useful tool for obtaining information and solving problems. This examples shows how to directly interface with Wolfram Alpha.\n",
    "\n",
    "First, I will gather `pint` and `CoolProp` and setup `numPy` for use."
   ]
  },
  {
   "cell_type": "code",
   "execution_count": 8,
   "id": "24ca465b",
   "metadata": {
    "id": "24ca465b",
    "nbpages": {
     "level": 1,
     "link": "[2.4 Queary Wolfram Alpha for Information](https://docNathanM.github.io/chemeng316_fluids/02.04-Queary-Wolfram-Alpha.html#2.4-Queary-Wolfram-Alpha-for-Information)",
     "section": "2.4 Queary Wolfram Alpha for Information"
    }
   },
   "outputs": [],
   "source": [
    "try:\n",
    "    from pint import UnitRegistry\n",
    "except:\n",
    "    !pip install pint\n",
    "    from pint import UnitRegistry\n",
    "finally:\n",
    "    ur = UnitRegistry()\n",
    "    \n",
    "try:\n",
    "    from CoolProp.CoolProp import PhaseSI, PropsSI\n",
    "except:\n",
    "    !pip install CoolProp\n",
    "    from CoolProp.CoolProp import PhaseSI, PropsSI\n",
    "finally:\n",
    "    import CoolProp as CP\n",
    "\n",
    "import numpy as np"
   ]
  },
  {
   "cell_type": "markdown",
   "id": "6503bc19",
   "metadata": {
    "id": "6503bc19",
    "nbpages": {
     "level": 2,
     "link": "[2.4.1 Situation](https://docNathanM.github.io/chemeng316_fluids/02.04-Queary-Wolfram-Alpha.html#2.4.1-Situation)",
     "section": "2.4.1 Situation"
    }
   },
   "source": [
    "## 2.4.1 Situation\n",
    "I need the properties of Chlorine at 1.55 atm and 200 deg. C."
   ]
  },
  {
   "cell_type": "code",
   "execution_count": 9,
   "id": "a4d14e1a",
   "metadata": {
    "id": "a4d14e1a",
    "nbpages": {
     "level": 2,
     "link": "[2.4.1 Situation](https://docNathanM.github.io/chemeng316_fluids/02.04-Queary-Wolfram-Alpha.html#2.4.1-Situation)",
     "section": "2.4.1 Situation"
    },
    "outputId": "b7199eae-d4fe-4751-8e00-c67278bb0479"
   },
   "outputs": [
    {
     "ename": "RuntimeError",
     "evalue": "key [Chlorine] was not found in string_to_index_map in JSONFluidLibrary",
     "output_type": "error",
     "traceback": [
      "\u001b[0;31m---------------------------------------------------------------------------\u001b[0m",
      "\u001b[0;31mRuntimeError\u001b[0m                              Traceback (most recent call last)",
      "Input \u001b[0;32mIn [9]\u001b[0m, in \u001b[0;36m<cell line: 1>\u001b[0;34m()\u001b[0m\n\u001b[0;32m----> 1\u001b[0m \u001b[43mCP\u001b[49m\u001b[38;5;241;43m.\u001b[39;49m\u001b[43mCoolProp\u001b[49m\u001b[38;5;241;43m.\u001b[39;49m\u001b[43mget_fluid_param_string\u001b[49m\u001b[43m(\u001b[49m\u001b[38;5;124;43m\"\u001b[39;49m\u001b[38;5;124;43mChlorine\u001b[39;49m\u001b[38;5;124;43m\"\u001b[39;49m\u001b[43m,\u001b[49m\u001b[38;5;124;43m\"\u001b[39;49m\u001b[38;5;124;43mJSON\u001b[39;49m\u001b[38;5;124;43m\"\u001b[39;49m\u001b[43m)\u001b[49m\n",
      "File \u001b[0;32mCoolProp/CoolProp.pyx:315\u001b[0m, in \u001b[0;36mCoolProp.CoolProp.get_fluid_param_string\u001b[0;34m()\u001b[0m\n",
      "File \u001b[0;32mCoolProp/CoolProp.pyx:316\u001b[0m, in \u001b[0;36mCoolProp.CoolProp.get_fluid_param_string\u001b[0;34m()\u001b[0m\n",
      "\u001b[0;31mRuntimeError\u001b[0m: key [Chlorine] was not found in string_to_index_map in JSONFluidLibrary"
     ]
    }
   ],
   "source": [
    "CP.CoolProp.get_fluid_param_string(\"Chlorine\",\"JSON\")"
   ]
  },
  {
   "cell_type": "markdown",
   "id": "4dd21bd5",
   "metadata": {
    "id": "4dd21bd5",
    "nbpages": {
     "level": 2,
     "link": "[2.4.1 Situation](https://docNathanM.github.io/chemeng316_fluids/02.04-Queary-Wolfram-Alpha.html#2.4.1-Situation)",
     "section": "2.4.1 Situation"
    }
   },
   "source": [
    "Oh no ... CoolProp doesn't have chlorine ... so, I asked chatGPT for a python script to use WolframAlpha to query fluid properties ...\n",
    "\n",
    "First, to use the Wolfram Alpha API and make queries in your Python code, you need to have an App ID. Here's how to get one:\n",
    "\n",
    "- Go to the Wolfram Alpha developer portal.\n",
    "- Sign in or create an account if you don't have one already.\n",
    "- Click on the \"Get an AppID\" button.\n",
    "- Fill out the form with your app's details, such as the name and description.\n",
    "- Click on the \"Create AppID\" button.\n",
    "- Your new App ID will be displayed on the page.\n",
    "- Copy your App ID and use it in your Python code to make queries to the Wolfram Alpha API."
   ]
  },
  {
   "cell_type": "code",
   "execution_count": 10,
   "id": "d8602862",
   "metadata": {
    "id": "d8602862",
    "nbpages": {
     "level": 2,
     "link": "[2.4.1 Situation](https://docNathanM.github.io/chemeng316_fluids/02.04-Queary-Wolfram-Alpha.html#2.4.1-Situation)",
     "section": "2.4.1 Situation"
    },
    "outputId": "e8c18e65-b989-4add-ba16-5d9bc9e7c20d"
   },
   "outputs": [
    {
     "name": "stdout",
     "output_type": "stream",
     "text": [
      "2.845 kg/m^3 (kilograms per cubic meter)\n"
     ]
    }
   ],
   "source": [
    "try:\n",
    "    import wolframalpha\n",
    "except:\n",
    "    !pip install wolframalpha\n",
    "    import wolframalpha\n",
    "\n",
    "app_id = \"32XYTH-8WAQ64Y9KH\" # this is my app_id ... yours would be different\n",
    "client = wolframalpha.Client(app_id)\n",
    "\n",
    "query = \"density of chlorine at 200 degC and 1.55 atm\"\n",
    "res = client.query(query)\n",
    "\n",
    "answer = next(res.results).text\n",
    "print(answer)  # output: \"997.047 kg/m^3 (kilograms per cubic meter)\""
   ]
  },
  {
   "cell_type": "markdown",
   "id": "e38a783f",
   "metadata": {
    "nbpages": {
     "level": 2,
     "link": "[2.4.1 Situation](https://docNathanM.github.io/chemeng316_fluids/02.04-Queary-Wolfram-Alpha.html#2.4.1-Situation)",
     "section": "2.4.1 Situation"
    }
   },
   "source": [
    "Sometimes it still won't work. So, we have to always ben willing to find other sources ..."
   ]
  },
  {
   "cell_type": "code",
   "execution_count": 11,
   "id": "0e1f18af",
   "metadata": {
    "id": "0e1f18af",
    "nbpages": {
     "level": 2,
     "link": "[2.4.1 Situation](https://docNathanM.github.io/chemeng316_fluids/02.04-Queary-Wolfram-Alpha.html#2.4.1-Situation)",
     "section": "2.4.1 Situation"
    },
    "outputId": "a268745a-9b70-425e-b264-b9fe4f1fd1d0"
   },
   "outputs": [
    {
     "name": "stdout",
     "output_type": "stream",
     "text": [
      "(data not available)\n"
     ]
    }
   ],
   "source": [
    "query = \"viscosity of chlorine at 200 degC and 1.55 atm\"\n",
    "res = client.query(query)\n",
    "\n",
    "answer = next(res.results).text\n",
    "print(answer)  # output: \"997.047 kg/m^3 (kilograms per cubic meter)\""
   ]
  },
  {
   "cell_type": "markdown",
   "id": "31ceb8da",
   "metadata": {
    "id": "31ceb8da",
    "nbpages": {
     "level": 2,
     "link": "[2.4.1 Situation](https://docNathanM.github.io/chemeng316_fluids/02.04-Queary-Wolfram-Alpha.html#2.4.1-Situation)",
     "section": "2.4.1 Situation"
    }
   },
   "source": [
    "That still didn't work, so I just went to [Engineer's Toolbox](https://www.engineeringtoolbox.com/gases-absolute-dynamic-viscosity-d_1888.html) and looked it up. You may need a CRC handbook or some other reference at times.\n",
    "\n",
    "$ \\mu = 2.10e^{-5} $ Pa$\\cdot$s "
   ]
  },
  {
   "cell_type": "code",
   "execution_count": 12,
   "id": "206dc870",
   "metadata": {
    "id": "206dc870",
    "nbpages": {
     "level": 2,
     "link": "[2.4.1 Situation](https://docNathanM.github.io/chemeng316_fluids/02.04-Queary-Wolfram-Alpha.html#2.4.1-Situation)",
     "section": "2.4.1 Situation"
    },
    "outputId": "382c5117-1b65-461a-d672-f1bac111f1f4"
   },
   "outputs": [
    {
     "name": "stdout",
     "output_type": "stream",
     "text": [
      "964.6 km/h (kilometers per hour)\n"
     ]
    }
   ],
   "source": [
    "query = \"speed of sound for chlorine at 200 degC and 1.55 atm\"\n",
    "res = client.query(query)\n",
    "\n",
    "answer = next(res.results).text\n",
    "print(answer)  "
   ]
  },
  {
   "cell_type": "markdown",
   "id": "3f87ac09",
   "metadata": {},
   "source": [
    "<!--NAVIGATION-->\n",
    "< [2.3 Properties of Pure Substances with `CoolProp`](https://docNathanM.github.io/chemeng316_fluids/02.03-Properties-of-Pure-Substances-with-CoolProp.html) | [Contents](toc.html) | [3.0 Drawings and Diagrams](https://docNathanM.github.io/chemeng316_fluids/03.00-Drawings-and-Diagrams.html) ><p><a href=\"https://colab.research.google.com/github/docNathanM/chemeng316_fluids/blob/master/docs/02.04-Queary-Wolfram-Alpha.ipynb\"> <img align=\"left\" src=\"https://colab.research.google.com/assets/colab-badge.svg\" alt=\"Open in Colab\" title=\"Open in Google Colaboratory\"></a>"
   ]
  }
 ],
 "metadata": {
  "colab": {
   "provenance": []
  },
  "kernelspec": {
   "display_name": "Python 3 (ipykernel)",
   "language": "python",
   "name": "python3"
  },
  "language_info": {
   "codemirror_mode": {
    "name": "ipython",
    "version": 3
   },
   "file_extension": ".py",
   "mimetype": "text/x-python",
   "name": "python",
   "nbconvert_exporter": "python",
   "pygments_lexer": "ipython3",
   "version": "3.9.12"
  }
 },
 "nbformat": 4,
 "nbformat_minor": 5
}
