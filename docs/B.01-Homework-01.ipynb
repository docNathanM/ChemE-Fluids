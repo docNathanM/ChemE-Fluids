{
 "cells": [
  {
   "cell_type": "markdown",
   "id": "199223b3",
   "metadata": {},
   "source": [
    "<!--NOTEBOOK_HEADER-->\n",
    "*This notebook contains material from [chemeng316_fluids](https://docNathanM.github.io/chemeng316_fluids);\n",
    "content is available [on Github](https://github.com/docNathanM/chemeng316_fluids).*\n"
   ]
  },
  {
   "cell_type": "markdown",
   "id": "85e93ef1",
   "metadata": {},
   "source": [
    "<!--NAVIGATION-->\n",
    "< [B.0 Homework Assignments](https://docNathanM.github.io/chemeng316_fluids/B.00-Homework-Assignments.html) | [Contents](toc.html) |<p><a href=\"https://colab.research.google.com/github/docNathanM/chemeng316_fluids/blob/master/docs/B.01-Homework-01.ipynb\"> <img align=\"left\" src=\"https://colab.research.google.com/assets/colab-badge.svg\" alt=\"Open in Colab\" title=\"Open in Google Colaboratory\"></a>"
   ]
  },
  {
   "cell_type": "markdown",
   "metadata": {
    "nbpages": {
     "level": 1,
     "link": "[B.1 Homework 1](https://docNathanM.github.io/chemeng316_fluids/B.01-Homework-01.html#B.1-Homework-1)",
     "section": "B.1 Homework 1"
    }
   },
   "source": [
    "# B.1 Homework 1\n",
    "\n",
    "*ChE 316 – Chem Eng. Fluid Mechanics – Spring 2024*\n",
    "\n",
    "**DUE 29 Jan 2024**"
   ]
  },
  {
   "cell_type": "markdown",
   "metadata": {
    "nbpages": {
     "level": 1,
     "link": "[B.1 Homework 1](https://docNathanM.github.io/chemeng316_fluids/B.01-Homework-01.html#B.1-Homework-1)",
     "section": "B.1 Homework 1"
    }
   },
   "source": [
    "**Problem 1**. In the production of fishmeal, the oil is first extracted, leaving a wet fish cake containing 88 wt.% water. This cake is partially dried to reduce the moisture content to 27 wt.%, after which the cake is ground.\n",
    "    - Construct a block flow diagram of this process.\n",
    "    - How many kg/h of wet cake would be necessary to produce 1200 kg/h of \"dry\" cake?\n",
    "    - How much water is extracted from the wet cake (in kg/h)?"
   ]
  },
  {
   "cell_type": "markdown",
   "metadata": {
    "nbpages": {
     "level": 1,
     "link": "[B.1 Homework 1](https://docNathanM.github.io/chemeng316_fluids/B.01-Homework-01.html#B.1-Homework-1)",
     "section": "B.1 Homework 1"
    }
   },
   "source": [
    "See Supplements 2.2 and 2.3 to get some ideas about how to work in python with units and fluid properties if you would like to give it a try.\n",
    "\n",
    "See Supplement 1.3 for a direct example of how to solve a system of equations with `sympy`."
   ]
  },
  {
   "cell_type": "markdown",
   "metadata": {
    "nbpages": {
     "level": 1,
     "link": "[B.1 Homework 1](https://docNathanM.github.io/chemeng316_fluids/B.01-Homework-01.html#B.1-Homework-1)",
     "section": "B.1 Homework 1"
    }
   },
   "source": [
    "**Getting Started**: Here is some code to at least get the UnitRegistry and CoolProp modules loaded for you to get started."
   ]
  },
  {
   "cell_type": "code",
   "execution_count": 6,
   "metadata": {
    "nbpages": {
     "level": 1,
     "link": "[B.1 Homework 1](https://docNathanM.github.io/chemeng316_fluids/B.01-Homework-01.html#B.1-Homework-1)",
     "section": "B.1 Homework 1"
    }
   },
   "outputs": [],
   "source": [
    "try:\n",
    "    import pint\n",
    "except:\n",
    "    !pip install pint\n",
    "    import pint\n",
    "finally:\n",
    "    ur = pint.UnitRegistry()"
   ]
  },
  {
   "cell_type": "code",
   "execution_count": 8,
   "metadata": {
    "nbpages": {
     "level": 1,
     "link": "[B.1 Homework 1](https://docNathanM.github.io/chemeng316_fluids/B.01-Homework-01.html#B.1-Homework-1)",
     "section": "B.1 Homework 1"
    }
   },
   "outputs": [],
   "source": [
    "try:\n",
    "    import CoolProp.CoolProp as CP\n",
    "except:\n",
    "    !pip install CoolProp\n",
    "    import CoolProp.CoolProp as CP"
   ]
  },
  {
   "cell_type": "code",
   "execution_count": null,
   "metadata": {
    "nbpages": {
     "level": 1,
     "link": "[B.1 Homework 1](https://docNathanM.github.io/chemeng316_fluids/B.01-Homework-01.html#B.1-Homework-1)",
     "section": "B.1 Homework 1"
    }
   },
   "outputs": [],
   "source": [
    "# YOUR SOLUTION HERE"
   ]
  },
  {
   "cell_type": "markdown",
   "metadata": {
    "nbpages": {
     "level": 1,
     "link": "[B.1 Homework 1](https://docNathanM.github.io/chemeng316_fluids/B.01-Homework-01.html#B.1-Homework-1)",
     "section": "B.1 Homework 1"
    }
   },
   "source": [
    "**Problem 2**. Air is flowing steadily through a horizontal heated tube. The air enters at 45 $^\\circ$F at a velocity of 55 ft/s. The air leaves the tube at 145 $^\\circ$F and 66 ft/s. \n",
    "   - What is the mass flowrate (in lb/s) of the air within the heated tube if the tube diameter is 3 inch? \n",
    "   - If the average specific heat of air is 0.24 BTU/lb $\\cdot^\\circ$F, how many BTU/lb of energy is transferred through the wall of the tube? \n",
    "   - Does the mass flowrate within the tube increase, decrease, or remain the same? Explain your reasoning. "
   ]
  },
  {
   "cell_type": "code",
   "execution_count": 3,
   "metadata": {
    "nbpages": {
     "level": 1,
     "link": "[B.1 Homework 1](https://docNathanM.github.io/chemeng316_fluids/B.01-Homework-01.html#B.1-Homework-1)",
     "section": "B.1 Homework 1"
    }
   },
   "outputs": [],
   "source": [
    "# YOUR SOLUTION HERE"
   ]
  },
  {
   "cell_type": "markdown",
   "metadata": {
    "nbpages": {
     "level": 1,
     "link": "[B.1 Homework 1](https://docNathanM.github.io/chemeng316_fluids/B.01-Homework-01.html#B.1-Homework-1)",
     "section": "B.1 Homework 1"
    }
   },
   "source": [
    "**Problem 3**. An evaporator is fed 32 tonnes/hr of a solution consisting of 12% NaOH, 17% NaCl, and 71% water. During evaporation, water evaporates, and salt precipitates as crystals, which settles and is removed from the remaining concentrated liquor. The liquor leaving the evaporator contains 48% NaOH, 2% NaCl, and 50% water.\n",
    "   - Calculate the kilograms of water evaporated per hour.\n",
    "   - Calculate the kilograms of salt precipitated per hour.\n",
    "   - Calculate the kilograms of concentrated liquor produced per hour. "
   ]
  },
  {
   "cell_type": "code",
   "execution_count": 4,
   "metadata": {
    "nbpages": {
     "level": 1,
     "link": "[B.1 Homework 1](https://docNathanM.github.io/chemeng316_fluids/B.01-Homework-01.html#B.1-Homework-1)",
     "section": "B.1 Homework 1"
    }
   },
   "outputs": [],
   "source": [
    "# YOUR SOLUTION HERE"
   ]
  },
  {
   "cell_type": "markdown",
   "id": "30ac9801",
   "metadata": {},
   "source": [
    "<!--NAVIGATION-->\n",
    "< [B.0 Homework Assignments](https://docNathanM.github.io/chemeng316_fluids/B.00-Homework-Assignments.html) | [Contents](toc.html) |<p><a href=\"https://colab.research.google.com/github/docNathanM/chemeng316_fluids/blob/master/docs/B.01-Homework-01.ipynb\"> <img align=\"left\" src=\"https://colab.research.google.com/assets/colab-badge.svg\" alt=\"Open in Colab\" title=\"Open in Google Colaboratory\"></a>"
   ]
  }
 ],
 "metadata": {
  "kernelspec": {
   "display_name": "Python 3 (ipykernel)",
   "language": "python",
   "name": "python3"
  },
  "language_info": {
   "codemirror_mode": {
    "name": "ipython",
    "version": 3
   },
   "file_extension": ".py",
   "mimetype": "text/x-python",
   "name": "python",
   "nbconvert_exporter": "python",
   "pygments_lexer": "ipython3",
   "version": "3.9.12"
  }
 },
 "nbformat": 4,
 "nbformat_minor": 4
}
