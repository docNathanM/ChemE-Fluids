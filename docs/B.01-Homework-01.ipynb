{
 "cells": [
  {
   "cell_type": "markdown",
   "id": "2fe2c57d",
   "metadata": {},
   "source": [
    "<!--NOTEBOOK_HEADER-->\n",
    "*This notebook contains material from [chemeng316_fluids](https://docNathanM.github.io/chemeng316_fluids);\n",
    "content is available [on Github](https://github.com/docNathanM/chemeng316_fluids).*\n"
   ]
  },
  {
   "cell_type": "markdown",
   "id": "9204ba1d",
   "metadata": {},
   "source": [
    "<!--NAVIGATION-->\n",
    "< [B.0 Homework Assignments](https://docNathanM.github.io/chemeng316_fluids/B.00-Homework-Assignments.html) | [Contents](toc.html) | [B.2 Homework 2](https://docNathanM.github.io/chemeng316_fluids/B.02-Homework-02.html) ><p><a href=\"https://colab.research.google.com/github/docNathanM/chemeng316_fluids/blob/master/docs/B.01-Homework-01.ipynb\"> <img align=\"left\" src=\"https://colab.research.google.com/assets/colab-badge.svg\" alt=\"Open in Colab\" title=\"Open in Google Colaboratory\"></a>"
   ]
  },
  {
   "cell_type": "markdown",
   "metadata": {
    "nbpages": {
     "level": 1,
     "link": "[B.1 Homework 1](https://docNathanM.github.io/chemeng316_fluids/B.01-Homework-01.html#B.1-Homework-1)",
     "section": "B.1 Homework 1"
    }
   },
   "source": [
    "# B.1 Homework 1\n",
    "\n",
    "*ChE 316 – Chem Eng. Fluid Mechanics – Spring 2024*\n",
    "\n",
    "**DUE 29 Jan 2024**"
   ]
  },
  {
   "cell_type": "markdown",
   "metadata": {
    "nbpages": {
     "level": 1,
     "link": "[B.1 Homework 1](https://docNathanM.github.io/chemeng316_fluids/B.01-Homework-01.html#B.1-Homework-1)",
     "section": "B.1 Homework 1"
    }
   },
   "source": [
    "**Problem 1**. In the production of fishmeal, the oil is first extracted, leaving a wet fish cake containing 88 wt.% water. This cake is partially dried to reduce the moisture content to 27 wt.%, after which the cake is ground.\n",
    "\n",
    "- Construct a block flow diagram of this process.\n",
    "- How many kg/h of wet cake would be necessary to produce 1200 kg/h of \"dry\" cake?\n",
    "- How much water is extracted from the wet cake (in kg/h)?"
   ]
  },
  {
   "cell_type": "markdown",
   "metadata": {
    "nbpages": {
     "level": 1,
     "link": "[B.1 Homework 1](https://docNathanM.github.io/chemeng316_fluids/B.01-Homework-01.html#B.1-Homework-1)",
     "section": "B.1 Homework 1"
    }
   },
   "source": [
    "See Supplements 2.2 and 2.3 to get some ideas about how to work in python with units and fluid properties if you would like to give it a try.\n",
    "\n",
    "See Supplement 1.3 for a direct example of how to solve a system of equations with `sympy`."
   ]
  },
  {
   "cell_type": "markdown",
   "metadata": {
    "nbpages": {
     "level": 1,
     "link": "[B.1 Homework 1](https://docNathanM.github.io/chemeng316_fluids/B.01-Homework-01.html#B.1-Homework-1)",
     "section": "B.1 Homework 1"
    }
   },
   "source": [
    "**Getting Started**: Here is some code to at least get the UnitRegistry and CoolProp modules loaded for you to get started."
   ]
  },
  {
   "cell_type": "code",
   "execution_count": null,
   "metadata": {
    "nbpages": {
     "level": 1,
     "link": "[B.1 Homework 1](https://docNathanM.github.io/chemeng316_fluids/B.01-Homework-01.html#B.1-Homework-1)",
     "section": "B.1 Homework 1"
    }
   },
   "outputs": [],
   "source": [
    "try:\n",
    "    import pint\n",
    "except:\n",
    "    !pip install pint\n",
    "    import pint\n",
    "finally:\n",
    "    ur = pint.UnitRegistry()"
   ]
  },
  {
   "cell_type": "code",
   "execution_count": null,
   "metadata": {
    "nbpages": {
     "level": 1,
     "link": "[B.1 Homework 1](https://docNathanM.github.io/chemeng316_fluids/B.01-Homework-01.html#B.1-Homework-1)",
     "section": "B.1 Homework 1"
    }
   },
   "outputs": [],
   "source": [
    "try:\n",
    "    import CoolProp.CoolProp as CP\n",
    "except:\n",
    "    !pip install CoolProp\n",
    "    import CoolProp.CoolProp as CP"
   ]
  },
  {
   "cell_type": "code",
   "execution_count": null,
   "metadata": {
    "nbpages": {
     "level": 1,
     "link": "[B.1 Homework 1](https://docNathanM.github.io/chemeng316_fluids/B.01-Homework-01.html#B.1-Homework-1)",
     "section": "B.1 Homework 1"
    }
   },
   "outputs": [],
   "source": [
    "# we need numpy for constants like pi\n",
    "# https://numpy.org/doc/stable/reference/constants.html\n",
    "import numpy as np"
   ]
  },
  {
   "cell_type": "code",
   "execution_count": null,
   "metadata": {
    "nbpages": {
     "level": 1,
     "link": "[B.1 Homework 1](https://docNathanM.github.io/chemeng316_fluids/B.01-Homework-01.html#B.1-Homework-1)",
     "section": "B.1 Homework 1"
    }
   },
   "outputs": [],
   "source": [
    "# YOUR SOLUTION HERE"
   ]
  },
  {
   "cell_type": "markdown",
   "metadata": {
    "nbpages": {
     "level": 1,
     "link": "[B.1 Homework 1](https://docNathanM.github.io/chemeng316_fluids/B.01-Homework-01.html#B.1-Homework-1)",
     "section": "B.1 Homework 1"
    }
   },
   "source": [
    "**Problem 2**. Air is flowing steadily through a horizontal heated tube. The air enters at 45 $^\\circ$F at a velocity of 55 ft/s. The air leaves the tube at 145 $^\\circ$F and 66 ft/s. *HINT: See Supplement 2.3 for CoolProp properties examples*.\n",
    "\n",
    "- What is the mass flowrate (in lb/s) of the air within the heated tube if the tube diameter is 3 inch? \n",
    "- If the average specific heat of air is 0.24 BTU/lb $\\cdot^\\circ$F, how many BTU/lb of energy is transferred through the wall of the tube? \n",
    "- Does the mass flowrate within the tube increase, decrease, or remain the same? Explain your reasoning. "
   ]
  },
  {
   "cell_type": "code",
   "execution_count": 72,
   "metadata": {
    "nbpages": {
     "level": 1,
     "link": "[B.1 Homework 1](https://docNathanM.github.io/chemeng316_fluids/B.01-Homework-01.html#B.1-Homework-1)",
     "section": "B.1 Homework 1"
    }
   },
   "outputs": [
    {
     "name": "stdout",
     "output_type": "stream",
     "text": [
      "cp_air = 0.2400 Btu/lb/°R = 1004.8321 J/K/kg\n",
      "rho_1 = 1.260 kg/m³\n",
      "rho_2 = 1.051 kg/m³\n"
     ]
    }
   ],
   "source": [
    "# In order to get tempeature and fluid properties you do something like this ...\n",
    "\n",
    "# GIVEN information ...\n",
    "T1_degF = ur.Quantity(45, ur.degF);\n",
    "u1 = 55 * ur.feet / ur.sec;\n",
    "cp_air = 0.24 * ur.BTU/(ur.lb*ur.degR);\n",
    "\n",
    "T2_degF = ur.Quantity(145, ur.degF);\n",
    "u2 = 66 * ur.feet / ur.sec;\n",
    "\n",
    "d = 3 * ur.inch;\n",
    "\n",
    "# ASSUMPTION: I'm not told anything about the pressure ... so I have to assume something ...\n",
    "P1 = 1.0 * ur.atm;\n",
    "\n",
    "# GET PROPERTIES\n",
    "# Note ... I'm assuming a simple \"dry\"-air model for \"AIR\" ... if humidity needs to be taken\n",
    "# into account we would need to use HAPropsSI ... see\n",
    "# http://coolprop.org/fluid_properties/HumidAir.html#haprops-sample\n",
    "T1_K = T1_degF.to(ur.degK);\n",
    "rho1_kgPerM3 = CP.PropsSI(\"D\",\"T\",T1_K.magnitude,\"P\",P1.to(ur.Pa).magnitude,\"Air\") * ur.kilogram / ur.meter **3;\n",
    "\n",
    "T2_K = T2_degF.to(ur.degK);\n",
    "P2 = P1;\n",
    "rho2_kgPerM3 = CP.PropsSI(\"D\",\"T\",T2_K.magnitude,\"P\",P2.to(ur.Pa).magnitude,\"Air\") * ur.kilogram / ur.meter **3;\n",
    "\n",
    "print(f\"cp_air = {cp_air:.4f~P} = {cp_air.to(ur.J/ur.kg/ur.K):.4f~P}\")\n",
    "print(f\"rho_1 = {rho1_kgPerM3:.3f~P}\")\n",
    "print(f\"rho_2 = {rho2_kgPerM3:.3f~P}\")\n"
   ]
  },
  {
   "cell_type": "code",
   "execution_count": null,
   "metadata": {
    "nbpages": {
     "level": 1,
     "link": "[B.1 Homework 1](https://docNathanM.github.io/chemeng316_fluids/B.01-Homework-01.html#B.1-Homework-1)",
     "section": "B.1 Homework 1"
    }
   },
   "outputs": [],
   "source": [
    "# YOUR SOLUTION HERE"
   ]
  },
  {
   "cell_type": "markdown",
   "metadata": {
    "nbpages": {
     "level": 1,
     "link": "[B.1 Homework 1](https://docNathanM.github.io/chemeng316_fluids/B.01-Homework-01.html#B.1-Homework-1)",
     "section": "B.1 Homework 1"
    }
   },
   "source": [
    "**Problem 3**. An evaporator is fed 32 tonnes/hr of a solution consisting of 12% NaOH, 17% NaCl, and 71% water. During evaporation, water evaporates, and salt precipitates as crystals, which settles and is removed from the remaining concentrated liquor. The liquor leaving the evaporator contains 48% NaOH, 2% NaCl, and 50% water.\n",
    "\n",
    "- Calculate the kilograms of water evaporated per hour.\n",
    "- Calculate the kilograms of salt precipitated per hour.\n",
    "- Calculate the kilograms of concentrated liquor produced per hour. "
   ]
  },
  {
   "cell_type": "code",
   "execution_count": null,
   "metadata": {
    "nbpages": {
     "level": 1,
     "link": "[B.1 Homework 1](https://docNathanM.github.io/chemeng316_fluids/B.01-Homework-01.html#B.1-Homework-1)",
     "section": "B.1 Homework 1"
    }
   },
   "outputs": [],
   "source": [
    "# Some GIVEN information ...\n",
    "mDot1 = 32000 * ur.kg/ur.hr; # note that tonne is metric ton = 1000 kg"
   ]
  },
  {
   "cell_type": "code",
   "execution_count": null,
   "metadata": {
    "nbpages": {
     "level": 1,
     "link": "[B.1 Homework 1](https://docNathanM.github.io/chemeng316_fluids/B.01-Homework-01.html#B.1-Homework-1)",
     "section": "B.1 Homework 1"
    }
   },
   "outputs": [],
   "source": [
    "# YOUR SOLUTION HERE"
   ]
  },
  {
   "cell_type": "markdown",
   "id": "c26e13d0",
   "metadata": {},
   "source": [
    "<!--NAVIGATION-->\n",
    "< [B.0 Homework Assignments](https://docNathanM.github.io/chemeng316_fluids/B.00-Homework-Assignments.html) | [Contents](toc.html) | [B.2 Homework 2](https://docNathanM.github.io/chemeng316_fluids/B.02-Homework-02.html) ><p><a href=\"https://colab.research.google.com/github/docNathanM/chemeng316_fluids/blob/master/docs/B.01-Homework-01.ipynb\"> <img align=\"left\" src=\"https://colab.research.google.com/assets/colab-badge.svg\" alt=\"Open in Colab\" title=\"Open in Google Colaboratory\"></a>"
   ]
  }
 ],
 "metadata": {
  "kernelspec": {
   "display_name": "Python 3 (ipykernel)",
   "language": "python",
   "name": "python3"
  },
  "language_info": {
   "codemirror_mode": {
    "name": "ipython",
    "version": 3
   },
   "file_extension": ".py",
   "mimetype": "text/x-python",
   "name": "python",
   "nbconvert_exporter": "python",
   "pygments_lexer": "ipython3",
   "version": "3.9.12"
  }
 },
 "nbformat": 4,
 "nbformat_minor": 4
}
