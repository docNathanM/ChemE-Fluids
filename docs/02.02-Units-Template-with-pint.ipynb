{
 "cells": [
  {
   "cell_type": "markdown",
   "id": "0a820f96",
   "metadata": {},
   "source": [
    "<!--NOTEBOOK_HEADER-->\n",
    "*This notebook contains material from [chemeng316_fluids](https://docNathanM.github.io/chemeng316_fluids);\n",
    "content is available [on Github](https://github.com/docNathanM/chemeng316_fluids).*\n"
   ]
  },
  {
   "cell_type": "markdown",
   "id": "214ad10e",
   "metadata": {},
   "source": [
    "<!--NAVIGATION-->\n",
    "< [2.1 Units and Engineering Calculations](https://docNathanM.github.io/chemeng316_fluids/02.01-Units-and-Engineering-Calculations.html) | [Contents](toc.html) | [2.3 Properties of Pure Substances with `CoolProp`](https://docNathanM.github.io/chemeng316_fluids/02.03-Properties-of-Pure-Substances-with-CoolProp.html) ><p><a href=\"https://colab.research.google.com/github/docNathanM/chemeng316_fluids/blob/master/docs/02.02-Units-Template-with-pint.ipynb\"> <img align=\"left\" src=\"https://colab.research.google.com/assets/colab-badge.svg\" alt=\"Open in Colab\" title=\"Open in Google Colaboratory\"></a><p><a href=\"https://docNathanM.github.io/chemeng316_fluids/02.02-Units-Template-with-pint.ipynb\"> <img align=\"left\" src=\"https://img.shields.io/badge/Github-Download-blue.svg\" alt=\"Download\" title=\"Download Notebook\"></a>"
   ]
  },
  {
   "cell_type": "markdown",
   "metadata": {
    "colab_type": "text",
    "id": "VjocRulUBG-J",
    "nbpages": {
     "level": 1,
     "link": "[2.2 Units Template with `pint`](https://docNathanM.github.io/chemeng316_fluids/02.02-Units-Template-with-pint.html#2.2-Units-Template-with-`pint`)",
     "section": "2.2 Units Template with `pint`"
    },
    "slideshow": {
     "slide_type": "slide"
    }
   },
   "source": [
    "# 2.2 Units Template with `pint`"
   ]
  },
  {
   "cell_type": "markdown",
   "metadata": {
    "colab_type": "text",
    "id": "XKgyUAzWBG-T",
    "nbpages": {
     "level": 2,
     "link": "[2.2.1 Setup and Usage Examples](https://docNathanM.github.io/chemeng316_fluids/02.02-Units-Template-with-pint.html#2.2.1-Setup-and-Usage-Examples)",
     "section": "2.2.1 Setup and Usage Examples"
    }
   },
   "source": [
    "## 2.2.1 Setup and Usage Examples\n",
    "\n",
    "This is a condensed excerpt from the previous notebook that can be used as a starting point for implementing `pint` in any project or assignment."
   ]
  },
  {
   "cell_type": "code",
   "execution_count": 1,
   "metadata": {
    "colab": {},
    "colab_type": "code",
    "id": "VT3cZLoUBG-U",
    "nbpages": {
     "level": 2,
     "link": "[2.2.1 Setup and Usage Examples](https://docNathanM.github.io/chemeng316_fluids/02.02-Units-Template-with-pint.html#2.2.1-Setup-and-Usage-Examples)",
     "section": "2.2.1 Setup and Usage Examples"
    },
    "outputId": "bba11745-3cf3-482e-93ca-733a5dd68cde"
   },
   "outputs": [
    {
     "name": "stdout",
     "output_type": "stream",
     "text": [
      "Requirement already satisfied: pint in /Users/nathanmurray/opt/anaconda3/lib/python3.9/site-packages (0.20.1)\r\n"
     ]
    }
   ],
   "source": [
    "!pip install pint"
   ]
  },
  {
   "cell_type": "markdown",
   "metadata": {
    "colab_type": "text",
    "id": "WkYTCsEfBG-a",
    "nbpages": {
     "level": 2,
     "link": "[2.2.1 Setup and Usage Examples](https://docNathanM.github.io/chemeng316_fluids/02.02-Units-Template-with-pint.html#2.2.1-Setup-and-Usage-Examples)",
     "section": "2.2.1 Setup and Usage Examples"
    }
   },
   "source": [
    "The core concept in pint is to work with a `unit registry`, which is created as follows"
   ]
  },
  {
   "cell_type": "code",
   "execution_count": 2,
   "metadata": {
    "colab": {},
    "colab_type": "code",
    "id": "0LCzneTrBG-b",
    "nbpages": {
     "level": 2,
     "link": "[2.2.1 Setup and Usage Examples](https://docNathanM.github.io/chemeng316_fluids/02.02-Units-Template-with-pint.html#2.2.1-Setup-and-Usage-Examples)",
     "section": "2.2.1 Setup and Usage Examples"
    }
   },
   "outputs": [],
   "source": [
    "from pint import UnitRegistry\n",
    "ur = UnitRegistry()"
   ]
  },
  {
   "cell_type": "markdown",
   "metadata": {
    "colab_type": "text",
    "id": "uNJ-VugyBG-d",
    "nbpages": {
     "level": 3,
     "link": "[2.2.1.1 Assigning Multiplicative Units](https://docNathanM.github.io/chemeng316_fluids/02.02-Units-Template-with-pint.html#2.2.1.1-Assigning-Multiplicative-Units)",
     "section": "2.2.1.1 Assigning Multiplicative Units"
    }
   },
   "source": [
    "### 2.2.1.1 Assigning Multiplicative Units\n",
    "\n",
    "The unit registry provides a simple means to assign units using the multiplication operator. For example, here's how to compute the molarity of a sodium chloride solution in 58.44 grams of $NaCl$ (mw = 58.44) has been dissolved in water to form 3 liters of solution."
   ]
  },
  {
   "cell_type": "code",
   "execution_count": 3,
   "metadata": {
    "colab": {},
    "colab_type": "code",
    "id": "4hUJ0BTGBG-e",
    "nbpages": {
     "level": 3,
     "link": "[2.2.1.1 Assigning Multiplicative Units](https://docNathanM.github.io/chemeng316_fluids/02.02-Units-Template-with-pint.html#2.2.1.1-Assigning-Multiplicative-Units)",
     "section": "2.2.1.1 Assigning Multiplicative Units"
    },
    "outputId": "7e653bbd-1304-41bc-b452-2ee8a25ed139"
   },
   "outputs": [
    {
     "name": "stdout",
     "output_type": "stream",
     "text": [
      "0.3333333333333333 mole / liter\n"
     ]
    }
   ],
   "source": [
    "# problem data\n",
    "V = 3.0 * ur.liters\n",
    "m = 58.44 * ur.grams\n",
    "mw = 58.44 * ur.grams/ur.mol\n",
    "\n",
    "# compute molarity\n",
    "C = m/(mw*V)\n",
    "\n",
    "print(C)"
   ]
  },
  {
   "cell_type": "markdown",
   "metadata": {
    "colab_type": "text",
    "id": "KKyhabFfBG-i",
    "nbpages": {
     "level": 3,
     "link": "[2.2.1.2 Unit Conversion](https://docNathanM.github.io/chemeng316_fluids/02.02-Units-Template-with-pint.html#2.2.1.2-Unit-Conversion)",
     "section": "2.2.1.2 Unit Conversion"
    }
   },
   "source": [
    "### 2.2.1.2 Unit Conversion\n",
    "\n",
    "Each variable with units has `to()` and `ito()` methods for converting the quantity to a desired set of units. The `to()` method is used to create a new variable by converting an existing variable to the indicated units."
   ]
  },
  {
   "cell_type": "code",
   "execution_count": 4,
   "metadata": {
    "colab": {},
    "colab_type": "code",
    "id": "XjIgBL4LBG-i",
    "nbpages": {
     "level": 3,
     "link": "[2.2.1.2 Unit Conversion](https://docNathanM.github.io/chemeng316_fluids/02.02-Units-Template-with-pint.html#2.2.1.2-Unit-Conversion)",
     "section": "2.2.1.2 Unit Conversion"
    },
    "outputId": "2b300eb3-455d-49a4-dc49-f11f71d6e1ea"
   },
   "outputs": [
    {
     "name": "stdout",
     "output_type": "stream",
     "text": [
      "0.5 kilogram / gallon\n",
      "132.08602617907428 gram / liter\n"
     ]
    }
   ],
   "source": [
    "x = 0.5 * ur.kilograms/ur.gallon\n",
    "y = x.to(ur.grams/ur.liter)\n",
    "\n",
    "print(x)\n",
    "print(y)"
   ]
  },
  {
   "cell_type": "markdown",
   "metadata": {
    "colab_type": "text",
    "id": "WK_YmUG8BG-l",
    "nbpages": {
     "level": 3,
     "link": "[2.2.1.2 Unit Conversion](https://docNathanM.github.io/chemeng316_fluids/02.02-Units-Template-with-pint.html#2.2.1.2-Unit-Conversion)",
     "section": "2.2.1.2 Unit Conversion"
    }
   },
   "source": [
    "The `ito()` method converts an existing variable 'in-place'. "
   ]
  },
  {
   "cell_type": "code",
   "execution_count": 5,
   "metadata": {
    "colab": {},
    "colab_type": "code",
    "id": "J1hawtqmBG-m",
    "nbpages": {
     "level": 3,
     "link": "[2.2.1.2 Unit Conversion](https://docNathanM.github.io/chemeng316_fluids/02.02-Units-Template-with-pint.html#2.2.1.2-Unit-Conversion)",
     "section": "2.2.1.2 Unit Conversion"
    },
    "outputId": "3349aaad-bfb4-477c-edad-9e378800b2c4"
   },
   "outputs": [
    {
     "name": "stdout",
     "output_type": "stream",
     "text": [
      "132.08602617907428 gram / liter\n"
     ]
    }
   ],
   "source": [
    "x = 0.5 * ur.kilograms/ur.gallon\n",
    "x.ito(ur.grams/ur.liter)\n",
    "\n",
    "print(x)"
   ]
  },
  {
   "cell_type": "markdown",
   "metadata": {
    "colab_type": "text",
    "id": "HyKtwbOSBG-p",
    "nbpages": {
     "level": 3,
     "link": "[2.2.1.2 Unit Conversion](https://docNathanM.github.io/chemeng316_fluids/02.02-Units-Template-with-pint.html#2.2.1.2-Unit-Conversion)",
     "section": "2.2.1.2 Unit Conversion"
    }
   },
   "source": [
    "For example, here's how to compute the molarity of a sodium chloride solution in which 0.5 pounds of NaCl (mw = 58.44) has been dissolved in water to form 2 gallons of solution. "
   ]
  },
  {
   "cell_type": "code",
   "execution_count": 6,
   "metadata": {
    "colab": {},
    "colab_type": "code",
    "id": "4ts8mGdKBG-q",
    "nbpages": {
     "level": 3,
     "link": "[2.2.1.2 Unit Conversion](https://docNathanM.github.io/chemeng316_fluids/02.02-Units-Template-with-pint.html#2.2.1.2-Unit-Conversion)",
     "section": "2.2.1.2 Unit Conversion"
    },
    "outputId": "2ce98249-2b00-4433-95c2-9f06a8145f50"
   },
   "outputs": [
    {
     "name": "stdout",
     "output_type": "stream",
     "text": [
      "0.0028519279032626055 mole * pound / gallon / gram\n",
      "0.34173633161332617 mole / liter\n",
      "1.293612736710016 mole / gallon\n"
     ]
    }
   ],
   "source": [
    "# problem data\n",
    "V = 3.0 * ur.gallons\n",
    "m = 0.5 * ur.lbs\n",
    "mw = 58.44 * ur.grams/ur.mol\n",
    "\n",
    "# compute concentration\n",
    "C = m/(mw*V)\n",
    "print(C)\n",
    "\n",
    "# convert to desired units and print\n",
    "C = C.to(ur.mol/ur.liter)\n",
    "print(C)\n",
    "\n",
    "# convert to moles per gallon\n",
    "C.ito(ur.mol/ur.gallon)\n",
    "print(C)"
   ]
  },
  {
   "cell_type": "markdown",
   "metadata": {
    "colab_type": "text",
    "id": "kHgErVwVBG-t",
    "nbpages": {
     "level": 3,
     "link": "[2.2.1.2 Unit Conversion](https://docNathanM.github.io/chemeng316_fluids/02.02-Units-Template-with-pint.html#2.2.1.2-Unit-Conversion)",
     "section": "2.2.1.2 Unit Conversion"
    }
   },
   "source": [
    "Muratic Acid is concentrated hydrochloric acid (31.5% by weight) sold by the gallon in home improvement centers for cleaning brick and masonary surfaces. The density of the solution is typically about 1.15 grams/ml. What is the molar concentration of HCl?"
   ]
  },
  {
   "cell_type": "code",
   "execution_count": 7,
   "metadata": {
    "colab": {},
    "colab_type": "code",
    "id": "6Ln97-NdBG-u",
    "nbpages": {
     "level": 3,
     "link": "[2.2.1.2 Unit Conversion](https://docNathanM.github.io/chemeng316_fluids/02.02-Units-Template-with-pint.html#2.2.1.2-Unit-Conversion)",
     "section": "2.2.1.2 Unit Conversion"
    },
    "outputId": "b43c423a-c6d1-4744-d013-e2487feea782"
   },
   "outputs": [
    {
     "name": "stdout",
     "output_type": "stream",
     "text": [
      "0.009935545803620405 mole / milliliter\n",
      "9.935545803620407 mole / liter\n"
     ]
    }
   ],
   "source": [
    "# molecular weight\n",
    "mwHCl = 36.46 * ur.grams/ur.mol\n",
    "\n",
    "# problem data\n",
    "rho = 1.15 * ur.grams/ur.ml\n",
    "wHCl = 0.315 * ur.grams/ur.gram\n",
    "\n",
    "# calculations\n",
    "massHCl = wHCl * rho             # mass of HCl per volume\n",
    "moleHCl = massHCl/mwHCl          # gmols of HCl per volume\n",
    "\n",
    "print(moleHCl)\n",
    "\n",
    "# convert to desired units\n",
    "moleHCl.ito(ur.mol/ur.liter)\n",
    "print(moleHCl)"
   ]
  },
  {
   "cell_type": "markdown",
   "metadata": {
    "colab_type": "text",
    "id": "l5ght72SBG-w",
    "nbpages": {
     "level": 3,
     "link": "[2.2.1.3 Mole and Mass Fractions](https://docNathanM.github.io/chemeng316_fluids/02.02-Units-Template-with-pint.html#2.2.1.3-Mole-and-Mass-Fractions)",
     "section": "2.2.1.3 Mole and Mass Fractions"
    }
   },
   "source": [
    "### 2.2.1.3 Mole and Mass Fractions"
   ]
  },
  {
   "cell_type": "code",
   "execution_count": 8,
   "metadata": {
    "colab": {},
    "colab_type": "code",
    "id": "pGV5iEogBG-x",
    "nbpages": {
     "level": 3,
     "link": "[2.2.1.3 Mole and Mass Fractions](https://docNathanM.github.io/chemeng316_fluids/02.02-Units-Template-with-pint.html#2.2.1.3-Mole-and-Mass-Fractions)",
     "section": "2.2.1.3 Mole and Mass Fractions"
    },
    "outputId": "d9683179-6c11-4ec6-ca03-e959dd86bcf5"
   },
   "outputs": [
    {
     "name": "stdout",
     "output_type": "stream",
     "text": [
      "0.36108542899408286 dimensionless\n"
     ]
    }
   ],
   "source": [
    "# molar weights \n",
    "mwBen = 78.11 * ur.grams/ur.liter\n",
    "mwTol = 92.14 * ur.grams/ur.liter\n",
    "\n",
    "xBen = 0.4 * ur.mol/ur.mol\n",
    "xTol = 0.6 * ur.mol/ur.mol\n",
    "\n",
    "wBen = mwBen*xBen / (mwBen*xBen + mwTol*xTol)\n",
    "\n",
    "print(wBen)"
   ]
  },
  {
   "cell_type": "markdown",
   "metadata": {
    "colab_type": "text",
    "id": "pQKmFbbOBG-2",
    "nbpages": {
     "level": 3,
     "link": "[2.2.1.4 Prefixes](https://docNathanM.github.io/chemeng316_fluids/02.02-Units-Template-with-pint.html#2.2.1.4-Prefixes)",
     "section": "2.2.1.4 Prefixes"
    }
   },
   "source": [
    "### 2.2.1.4 Prefixes"
   ]
  },
  {
   "cell_type": "code",
   "execution_count": 9,
   "metadata": {
    "colab": {},
    "colab_type": "code",
    "id": "Yn7fTodEBG-3",
    "nbpages": {
     "level": 3,
     "link": "[2.2.1.4 Prefixes](https://docNathanM.github.io/chemeng316_fluids/02.02-Units-Template-with-pint.html#2.2.1.4-Prefixes)",
     "section": "2.2.1.4 Prefixes"
    },
    "outputId": "612d96f8-da43-41b6-c75f-c470812f3750"
   },
   "outputs": [
    {
     "name": "stdout",
     "output_type": "stream",
     "text": [
      "78.11 kilogram / kilomole\n",
      "0.07811 kilogram / mole\n"
     ]
    }
   ],
   "source": [
    "mwBen = 78.11 * ur.kg/ur.kmol\n",
    "print(mwBen)\n",
    "\n",
    "mwBen.ito_base_units()\n",
    "print(mwBen)"
   ]
  },
  {
   "cell_type": "markdown",
   "metadata": {
    "colab_type": "text",
    "id": "s4qtEnckBG-6",
    "nbpages": {
     "level": 3,
     "link": "[2.2.1.5 Temperature and Other Offset (Non-multiplicative) Units](https://docNathanM.github.io/chemeng316_fluids/02.02-Units-Template-with-pint.html#2.2.1.5-Temperature-and-Other-Offset-(Non-multiplicative)-Units)",
     "section": "2.2.1.5 Temperature and Other Offset (Non-multiplicative) Units"
    }
   },
   "source": [
    "### 2.2.1.5 Temperature and Other Offset (Non-multiplicative) Units\n",
    "\n",
    "Examples of non-multiplicative units are degrees Celsius, degrees Fahrenheit, and gauge pressure. For these units the zero of the measurement scale is offset from absolute zero of the underlying physical quantity. In these cases the units are assigned using the `Quantity()` function of the `UnitRegistry` module."
   ]
  },
  {
   "cell_type": "code",
   "execution_count": 10,
   "metadata": {
    "colab": {},
    "colab_type": "code",
    "id": "M0ygOiaTBG-6",
    "nbpages": {
     "level": 3,
     "link": "[2.2.1.5 Temperature and Other Offset (Non-multiplicative) Units](https://docNathanM.github.io/chemeng316_fluids/02.02-Units-Template-with-pint.html#2.2.1.5-Temperature-and-Other-Offset-(Non-multiplicative)-Units)",
     "section": "2.2.1.5 Temperature and Other Offset (Non-multiplicative) Units"
    },
    "outputId": "c2e704bf-735f-4e24-ba09-a6321f633227"
   },
   "outputs": [
    {
     "name": "stdout",
     "output_type": "stream",
     "text": [
      "25 degree_Celsius  =  76.99999999999993 degree_Fahrenheit\n"
     ]
    }
   ],
   "source": [
    "T = ur.Quantity(25,ur.degC)\n",
    "\n",
    "print(T, \" = \", T.to(ur.degF))"
   ]
  },
  {
   "cell_type": "markdown",
   "metadata": {
    "colab_type": "text",
    "id": "_jsOI5GOBG--",
    "nbpages": {
     "level": 3,
     "link": "[2.2.1.5 Temperature and Other Offset (Non-multiplicative) Units](https://docNathanM.github.io/chemeng316_fluids/02.02-Units-Template-with-pint.html#2.2.1.5-Temperature-and-Other-Offset-(Non-multiplicative)-Units)",
     "section": "2.2.1.5 Temperature and Other Offset (Non-multiplicative) Units"
    }
   },
   "source": [
    "There is an embedded ambiguity in working with non-multiplicative units. For example, given temperatures Ta = 10 and Tdelta = 25 in degrees C, should Ta + Tdelta give an answer of 35 degrees C, or the sum of the absolute temperatures which would correspond to 308.15 degrees C?\n",
    "\n",
    "Pint uses unit type called `delta_degC` for this situation."
   ]
  },
  {
   "cell_type": "code",
   "execution_count": 11,
   "metadata": {
    "colab": {},
    "colab_type": "code",
    "id": "NhzHbiSFBG-_",
    "nbpages": {
     "level": 3,
     "link": "[2.2.1.5 Temperature and Other Offset (Non-multiplicative) Units](https://docNathanM.github.io/chemeng316_fluids/02.02-Units-Template-with-pint.html#2.2.1.5-Temperature-and-Other-Offset-(Non-multiplicative)-Units)",
     "section": "2.2.1.5 Temperature and Other Offset (Non-multiplicative) Units"
    },
    "outputId": "11ed4a2f-674e-4edf-b79e-2054f79af8d4"
   },
   "outputs": [
    {
     "name": "stdout",
     "output_type": "stream",
     "text": [
      "35.0 degree_Celsius\n"
     ]
    }
   ],
   "source": [
    "Ta = ur.Quantity(10.0, ur.degC)\n",
    "Tdelta = 25.0 * ur.delta_degC\n",
    "\n",
    "print(Ta + Tdelta)"
   ]
  },
  {
   "cell_type": "code",
   "execution_count": 12,
   "metadata": {
    "colab": {},
    "colab_type": "code",
    "id": "R9z-XzZFBG_C",
    "nbpages": {
     "level": 3,
     "link": "[2.2.1.5 Temperature and Other Offset (Non-multiplicative) Units](https://docNathanM.github.io/chemeng316_fluids/02.02-Units-Template-with-pint.html#2.2.1.5-Temperature-and-Other-Offset-(Non-multiplicative)-Units)",
     "section": "2.2.1.5 Temperature and Other Offset (Non-multiplicative) Units"
    },
    "outputId": "71e4148b-443e-423a-a06b-8e6f58542558"
   },
   "outputs": [
    {
     "name": "stdout",
     "output_type": "stream",
     "text": [
      "100.000 delta_degree_Celsius\n",
      "180.000 delta_degree_Fahrenheit\n"
     ]
    }
   ],
   "source": [
    "Tb = ur.Quantity(100.0, ur.degC)\n",
    "Tf = ur.Quantity(32.0, ur.degF)\n",
    "\n",
    "print(\"{0:6.3f}\".format(Tb-Tf))\n",
    "print(\"{0:6.3f}\".format((Tb-Tf).to(ur.delta_degF)))"
   ]
  },
  {
   "cell_type": "code",
   "execution_count": 13,
   "metadata": {
    "colab": {},
    "colab_type": "code",
    "id": "D_N5TVSQBG_H",
    "nbpages": {
     "level": 3,
     "link": "[2.2.1.5 Temperature and Other Offset (Non-multiplicative) Units](https://docNathanM.github.io/chemeng316_fluids/02.02-Units-Template-with-pint.html#2.2.1.5-Temperature-and-Other-Offset-(Non-multiplicative)-Units)",
     "section": "2.2.1.5 Temperature and Other Offset (Non-multiplicative) Units"
    },
    "outputId": "edafc83f-b9a2-40ee-9744-3aa3d1c9a7fd"
   },
   "outputs": [
    {
     "data": {
      "text/html": [
       "10.95964468442615 pound_force_per_square_inch"
      ],
      "text/latex": [
       "$10.95964468442615\\ \\mathrm{pound\\_force\\_per\\_square\\_inch}$"
      ],
      "text/plain": [
       "10.95964468442615 <Unit('pound_force_per_square_inch')>"
      ]
     },
     "execution_count": 13,
     "metadata": {},
     "output_type": "execute_result"
    }
   ],
   "source": [
    "P1 = (12.5 + 14.696) * ur.psi\n",
    "\n",
    "T1 = ur.Quantity(70, ur.degF).to(ur.degR)\n",
    "T2 = ur.Quantity(40, ur.degF).to(ur.degR)\n",
    "\n",
    "P2 = (T2/T1)*P1 - 14.696 * ur.psi\n",
    "P2"
   ]
  },
  {
   "cell_type": "code",
   "execution_count": 14,
   "metadata": {
    "colab": {},
    "colab_type": "code",
    "id": "gix_r1BBBG_J",
    "nbpages": {
     "level": 3,
     "link": "[2.2.1.5 Temperature and Other Offset (Non-multiplicative) Units](https://docNathanM.github.io/chemeng316_fluids/02.02-Units-Template-with-pint.html#2.2.1.5-Temperature-and-Other-Offset-(Non-multiplicative)-Units)",
     "section": "2.2.1.5 Temperature and Other Offset (Non-multiplicative) Units"
    },
    "outputId": "8f609900-7918-44f9-8333-937763cb6070"
   },
   "outputs": [
    {
     "name": "stdout",
     "output_type": "stream",
     "text": [
      "Volume =  4188.790204786391 centimeter ** 3\n",
      "Mass of Air =  4.95962584191983 gram\n"
     ]
    }
   ],
   "source": [
    "import math\n",
    "pi = math.pi\n",
    "\n",
    "# constants\n",
    "R = 8.314 * ur.joule/(ur.mol*ur.degK)\n",
    "mw = 28.966 * ur.grams/ur.mol\n",
    "\n",
    "# problem data\n",
    "P = 1.0 * ur.atm\n",
    "T = ur.Quantity(25,ur.degC).to(ur.degK)\n",
    "r = 10 * ur.cm\n",
    "\n",
    "# calculations\n",
    "V = (4.0/3.0)*pi*r**3\n",
    "print(\"Volume = \", V)\n",
    "\n",
    "m = mw*P*V/(R*T)\n",
    "\n",
    "print(\"Mass of Air = \", m.to(ur.grams))"
   ]
  },
  {
   "cell_type": "markdown",
   "id": "02af0cfc",
   "metadata": {},
   "source": [
    "<!--NAVIGATION-->\n",
    "< [2.1 Units and Engineering Calculations](https://docNathanM.github.io/chemeng316_fluids/02.01-Units-and-Engineering-Calculations.html) | [Contents](toc.html) | [2.3 Properties of Pure Substances with `CoolProp`](https://docNathanM.github.io/chemeng316_fluids/02.03-Properties-of-Pure-Substances-with-CoolProp.html) ><p><a href=\"https://colab.research.google.com/github/docNathanM/chemeng316_fluids/blob/master/docs/02.02-Units-Template-with-pint.ipynb\"> <img align=\"left\" src=\"https://colab.research.google.com/assets/colab-badge.svg\" alt=\"Open in Colab\" title=\"Open in Google Colaboratory\"></a><p><a href=\"https://docNathanM.github.io/chemeng316_fluids/02.02-Units-Template-with-pint.ipynb\"> <img align=\"left\" src=\"https://img.shields.io/badge/Github-Download-blue.svg\" alt=\"Download\" title=\"Download Notebook\"></a>"
   ]
  }
 ],
 "metadata": {
  "colab": {
   "name": "01.01-Units-and-Engineering-Calculations.ipynb",
   "provenance": [],
   "version": "0.3.2"
  },
  "kernelspec": {
   "display_name": "Python 3 (ipykernel)",
   "language": "python",
   "name": "python3"
  },
  "language_info": {
   "codemirror_mode": {
    "name": "ipython",
    "version": 3
   },
   "file_extension": ".py",
   "mimetype": "text/x-python",
   "name": "python",
   "nbconvert_exporter": "python",
   "pygments_lexer": "ipython3",
   "version": "3.9.12"
  }
 },
 "nbformat": 4,
 "nbformat_minor": 2
}
