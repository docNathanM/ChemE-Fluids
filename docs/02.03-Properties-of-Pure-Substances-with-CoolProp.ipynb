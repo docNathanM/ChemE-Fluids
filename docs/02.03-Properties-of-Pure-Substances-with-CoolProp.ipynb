{
 "cells": [
  {
   "cell_type": "markdown",
   "id": "174fa6e2",
   "metadata": {},
   "source": [
    "<!--NOTEBOOK_HEADER-->\n",
    "*This notebook contains material from [chemeng316_fluids](https://docNathanM.github.io/chemeng316_fluids);\n",
    "content is available [on Github](https://github.com/docNathanM/chemeng316_fluids).*\n"
   ]
  },
  {
   "cell_type": "markdown",
   "id": "4199464c",
   "metadata": {},
   "source": [
    "<!--NAVIGATION-->\n",
    "< [2.2 Units Template with `pint`](https://docNathanM.github.io/chemeng316_fluids/02.02-Units-Template-with-pint.html) | [Contents](toc.html) | [2.4 Queary Wolfram Alpha for Information](https://docNathanM.github.io/chemeng316_fluids/02.04-Queary-Wolfram-Alpha.html) ><p><a href=\"https://colab.research.google.com/github/docNathanM/chemeng316_fluids/blob/master/docs/02.03-Properties-of-Pure-Substances-with-CoolProp.ipynb\"> <img align=\"left\" src=\"https://colab.research.google.com/assets/colab-badge.svg\" alt=\"Open in Colab\" title=\"Open in Google Colaboratory\"></a><p><a href=\"https://docNathanM.github.io/chemeng316_fluids/02.03-Properties-of-Pure-Substances-with-CoolProp.ipynb\"> <img align=\"left\" src=\"https://img.shields.io/badge/Github-Download-blue.svg\" alt=\"Download\" title=\"Download Notebook\"></a>"
   ]
  },
  {
   "cell_type": "markdown",
   "metadata": {
    "id": "rhdrAMQ9wWld",
    "nbpages": {
     "level": 1,
     "link": "[2.3 Properties of Pure Substances with `CoolProp`](https://docNathanM.github.io/chemeng316_fluids/02.03-Properties-of-Pure-Substances-with-CoolProp.html#2.3-Properties-of-Pure-Substances-with-`CoolProp`)",
     "section": "2.3 Properties of Pure Substances with `CoolProp`"
    }
   },
   "source": [
    "# 2.3 Properties of Pure Substances with `CoolProp`"
   ]
  },
  {
   "cell_type": "markdown",
   "metadata": {
    "id": "F9mD8LQWpm2j",
    "nbpages": {
     "level": 1,
     "link": "[2.3 Properties of Pure Substances with `CoolProp`](https://docNathanM.github.io/chemeng316_fluids/02.03-Properties-of-Pure-Substances-with-CoolProp.html#2.3-Properties-of-Pure-Substances-with-`CoolProp`)",
     "section": "2.3 Properties of Pure Substances with `CoolProp`"
    }
   },
   "source": [
    "For many chemical applications we need more complex models for fluid properties, but for simple calculations that involve a single fluid we can use molecular models of pure substances."
   ]
  },
  {
   "cell_type": "markdown",
   "metadata": {
    "nbpages": {
     "level": 2,
     "link": "[2.3.1 CoolProp](https://docNathanM.github.io/chemeng316_fluids/02.03-Properties-of-Pure-Substances-with-CoolProp.html#2.3.1-CoolProp)",
     "section": "2.3.1 CoolProp"
    }
   },
   "source": [
    "## 2.3.1 CoolProp\n",
    "I use CoolProp because it is a free port of many substances in the NIST RefProp database. \n",
    "[CoolProp: equations of state and transport properties for 122 components](http://www.coolprop.org/index.html).\n",
    "\n",
    "There are two possible ways to use this:\n",
    "1.   [pyfluids](http://www.coolprop.org/coolprop/wrappers/Python/index.html#pyfluids-3-party-wrapper)\n",
    "An excellent assortment of [examples](http://www.coolprop.org/coolprop/wrappers/Python/index.html).\n",
    "2.   [coolprop](http://www.coolprop.org/coolprop/wrappers/Python/index.html#example-code) can also be loaded directly. The link has examples."
   ]
  },
  {
   "cell_type": "markdown",
   "metadata": {
    "nbpages": {
     "level": 3,
     "link": "[2.3.1.1 Always need Units!](https://docNathanM.github.io/chemeng316_fluids/02.03-Properties-of-Pure-Substances-with-CoolProp.html#2.3.1.1-Always-need-Units!)",
     "section": "2.3.1.1 Always need Units!"
    }
   },
   "source": [
    "### 2.3.1.1 Always need Units!\n",
    "I always need to use units, so I will go ahead and get this loaded."
   ]
  },
  {
   "cell_type": "code",
   "execution_count": 1,
   "metadata": {
    "nbpages": {
     "level": 3,
     "link": "[2.3.1.1 Always need Units!](https://docNathanM.github.io/chemeng316_fluids/02.03-Properties-of-Pure-Substances-with-CoolProp.html#2.3.1.1-Always-need-Units!)",
     "section": "2.3.1.1 Always need Units!"
    }
   },
   "outputs": [],
   "source": [
    "try:\n",
    "    import pint\n",
    "except:\n",
    "    !pip install pint\n",
    "    import pint\n",
    "finally:\n",
    "    ur = pint.UnitRegistry()"
   ]
  },
  {
   "cell_type": "markdown",
   "metadata": {
    "id": "bkHPre7z0ioe",
    "nbpages": {
     "level": 3,
     "link": "[2.3.1.2 pyFluids Example](https://docNathanM.github.io/chemeng316_fluids/02.03-Properties-of-Pure-Substances-with-CoolProp.html#2.3.1.2-pyFluids-Example)",
     "section": "2.3.1.2 pyFluids Example"
    }
   },
   "source": [
    "### 2.3.1.2 pyFluids Example"
   ]
  },
  {
   "cell_type": "markdown",
   "metadata": {
    "id": "NzAMEH5yqRsi",
    "nbpages": {
     "level": 3,
     "link": "[2.3.1.2 pyFluids Example](https://docNathanM.github.io/chemeng316_fluids/02.03-Properties-of-Pure-Substances-with-CoolProp.html#2.3.1.2-pyFluids-Example)",
     "section": "2.3.1.2 pyFluids Example"
    }
   },
   "source": [
    "The `try`-`except` helps to keep from installing something if it is already available."
   ]
  },
  {
   "cell_type": "code",
   "execution_count": 2,
   "metadata": {
    "colab": {
     "base_uri": "https://localhost:8080/",
     "height": 35
    },
    "id": "w6ilmZzNqqzG",
    "nbpages": {
     "level": 3,
     "link": "[2.3.1.2 pyFluids Example](https://docNathanM.github.io/chemeng316_fluids/02.03-Properties-of-Pure-Substances-with-CoolProp.html#2.3.1.2-pyFluids-Example)",
     "section": "2.3.1.2 pyFluids Example"
    },
    "outputId": "471b3a71-ab1f-4230-8d04-c0ac359f6ee3"
   },
   "outputs": [
    {
     "data": {
      "text/plain": [
       "'998.9707010071485 kg/m³'"
      ]
     },
     "execution_count": 2,
     "metadata": {},
     "output_type": "execute_result"
    }
   ],
   "source": [
    "try:\n",
    "    from pyfluids import Fluid, FluidsList, Input\n",
    "except:\n",
    "    !pip install pyfluids\n",
    "    from pyfluids import Fluid, FluidsList, Input\n",
    "\n",
    "T_degF = ur.Quantity(60, ur.degF);\n",
    "T_K = T_degF.to(ur.degK);\n",
    "T_C = T_K.to(ur.degC);\n",
    "Tin = T_C.magnitude;\n",
    "thisWater = Fluid(FluidsList.Water).with_state(\n",
    "    Input.temperature(Tin),Input.quality(0)\n",
    "    )\n",
    "\n",
    "rho = thisWater.density * ur.kilogram / ur.meter ** 3;\n",
    "f\"{rho:~P}\" # pint gives a nice way to print \"pretty\" [~P] units"
   ]
  },
  {
   "cell_type": "markdown",
   "metadata": {
    "id": "mMGkZXyS0nvX",
    "nbpages": {
     "level": 3,
     "link": "[2.3.1.3 CoolProp PropsSI Example](https://docNathanM.github.io/chemeng316_fluids/02.03-Properties-of-Pure-Substances-with-CoolProp.html#2.3.1.3-CoolProp-PropsSI-Example)",
     "section": "2.3.1.3 CoolProp PropsSI Example"
    }
   },
   "source": [
    "### 2.3.1.3 CoolProp PropsSI Example"
   ]
  },
  {
   "cell_type": "code",
   "execution_count": 3,
   "metadata": {
    "id": "CkPHcNCGvaMO",
    "nbpages": {
     "level": 3,
     "link": "[2.3.1.3 CoolProp PropsSI Example](https://docNathanM.github.io/chemeng316_fluids/02.03-Properties-of-Pure-Substances-with-CoolProp.html#2.3.1.3-CoolProp-PropsSI-Example)",
     "section": "2.3.1.3 CoolProp PropsSI Example"
    }
   },
   "outputs": [
    {
     "data": {
      "text/plain": [
       "'998.9707010071485 kg/m³'"
      ]
     },
     "execution_count": 3,
     "metadata": {},
     "output_type": "execute_result"
    }
   ],
   "source": [
    "try:\n",
    "    import CoolProp.CoolProp as CP\n",
    "except:\n",
    "    !pip install CoolProp\n",
    "    import CoolProp.CoolProp as CP\n",
    "\n",
    "rho_kgPerM3 = CP.PropsSI(\"D\",\"T\",T_K.magnitude,\"Q\",0.0,\"Water\") * ur.kilogram / ur.meter **3;\n",
    "f\"{rho:~P}\"\n",
    "    "
   ]
  },
  {
   "cell_type": "code",
   "execution_count": 4,
   "metadata": {
    "colab": {
     "base_uri": "https://localhost:8080/",
     "height": 35
    },
    "id": "8VxnCStLw8w8",
    "nbpages": {
     "level": 3,
     "link": "[2.3.1.3 CoolProp PropsSI Example](https://docNathanM.github.io/chemeng316_fluids/02.03-Properties-of-Pure-Substances-with-CoolProp.html#2.3.1.3-CoolProp-PropsSI-Example)",
     "section": "2.3.1.3 CoolProp PropsSI Example"
    },
    "outputId": "94c34a37-4f06-42da-c713-938590c4d51d"
   },
   "outputs": [
    {
     "data": {
      "text/plain": [
       "'998.9707010071485 kg/m³'"
      ]
     },
     "execution_count": 4,
     "metadata": {},
     "output_type": "execute_result"
    }
   ],
   "source": [
    "from CoolProp.CoolProp import PhaseSI, PropsSI\n",
    "\n",
    "rho_kgPerM3 = PropsSI(\"D\",\"T\",T_K.magnitude,\"Q\",0.0,\"Water\") * ur.kilogram / ur.meter **3;\n",
    "f\"{rho:~P}\""
   ]
  },
  {
   "cell_type": "markdown",
   "metadata": {
    "id": "DgGKlAUzu8HN",
    "nbpages": {
     "level": 2,
     "link": "[2.3.2 Example](https://docNathanM.github.io/chemeng316_fluids/02.03-Properties-of-Pure-Substances-with-CoolProp.html#2.3.2-Example)",
     "section": "2.3.2 Example"
    }
   },
   "source": [
    "## 2.3.2 Example\n",
    "Water at 60 $^\\circ$F is to be pumped to the top of a mountain through a 6-inch Schedule 120 pipe at an average velocity of 12 ft/s. The pipe discharges into atmospheric at 3000 ft above the supply reservoir and the pipe itself is 4,500 feet long. Assume a pump efficiency of 70\\% and a cost of energy at $0.04/kw-hr, and determine the hourly cost for pumping the water.\n",
    "\n",
    "For this problem we need the properties of water. This example uses `CoolProp`. I first set up the given parameters and use `pint` for engineering units."
   ]
  },
  {
   "cell_type": "code",
   "execution_count": 5,
   "metadata": {
    "id": "7snPwPlfu_2b",
    "nbpages": {
     "level": 2,
     "link": "[2.3.2 Example](https://docNathanM.github.io/chemeng316_fluids/02.03-Properties-of-Pure-Substances-with-CoolProp.html#2.3.2-Example)",
     "section": "2.3.2 Example"
    }
   },
   "outputs": [],
   "source": [
    "try:\n",
    "    import pint\n",
    "except:\n",
    "    !pip install pint\n",
    "    import pint\n",
    "finally:\n",
    "    ur = pint.UnitRegistry()\n",
    "\n",
    "Di = 139.76 / 1000 * ur.m;   # m\n",
    "T = ur.Quantity(60.0, ur.degF).to(ur.degK);\n",
    "Vavg = 12 * ur.feet / ur.s;\n",
    "Vavg.ito(ur.m/ur.s); # convert \"in-place\" to SI units\n",
    "H = ur.Quantity(3000, ur.feet).to(ur.m); # Reservoir pump height\n",
    "L = ur.Quantity(4500, ur.feet).to(ur.m); # Length of Pipe\n",
    "eta = 0.7; # pump efficiency\n",
    "eCost = 0.04 / (1000 * ur.watt_hour);"
   ]
  },
  {
   "cell_type": "markdown",
   "metadata": {
    "id": "P96CEAIevaDB",
    "nbpages": {
     "level": 3,
     "link": "[2.3.2.1 Properties of Water](https://docNathanM.github.io/chemeng316_fluids/02.03-Properties-of-Pure-Substances-with-CoolProp.html#2.3.2.1-Properties-of-Water)",
     "section": "2.3.2.1 Properties of Water"
    }
   },
   "source": [
    "### 2.3.2.1 Properties of Water\n",
    "I'm going to use the `PropsSI` interface for `CoolProp`. "
   ]
  },
  {
   "cell_type": "code",
   "execution_count": 6,
   "metadata": {
    "colab": {
     "base_uri": "https://localhost:8080/"
    },
    "id": "m3V331El1UZG",
    "nbpages": {
     "level": 3,
     "link": "[2.3.2.1 Properties of Water](https://docNathanM.github.io/chemeng316_fluids/02.03-Properties-of-Pure-Substances-with-CoolProp.html#2.3.2.1-Properties-of-Water)",
     "section": "2.3.2.1 Properties of Water"
    },
    "outputId": "72c05182-da27-49cf-9890-46a0634a9c58"
   },
   "outputs": [
    {
     "data": {
      "text/plain": [
       "{'0.001121084308893493 Pa·s', '998.9707010071485 kg/m³'}"
      ]
     },
     "execution_count": 6,
     "metadata": {},
     "output_type": "execute_result"
    }
   ],
   "source": [
    "rho_kgPerM3 = PropsSI(\"D\",\"T\",T_K.magnitude,\"Q\",0.0,\"Water\") * ur.kilogram / ur.meter **3;\n",
    "\n",
    "mu = PropsSI(\"V\",\"T\",T_K.magnitude,\"Q\",0.0,\"Water\") * ur.Pa * ur.s ;\n",
    "\n",
    "{f\"{rho:~P}\", f\"{mu:~P}\"}"
   ]
  },
  {
   "cell_type": "markdown",
   "metadata": {
    "id": "FmKwiWb_1hZI",
    "nbpages": {
     "level": 2,
     "link": "[2.3.3 Calculations](https://docNathanM.github.io/chemeng316_fluids/02.03-Properties-of-Pure-Substances-with-CoolProp.html#2.3.3-Calculations)",
     "section": "2.3.3 Calculations"
    }
   },
   "source": [
    "## 2.3.3 Calculations\n",
    "\n",
    "I'll go ahead and finish out this example to show all the features of working through a complete problem."
   ]
  },
  {
   "cell_type": "markdown",
   "metadata": {
    "id": "bx-WTX5j1vIS",
    "nbpages": {
     "level": 2,
     "link": "[2.3.3 Calculations](https://docNathanM.github.io/chemeng316_fluids/02.03-Properties-of-Pure-Substances-with-CoolProp.html#2.3.3-Calculations)",
     "section": "2.3.3 Calculations"
    }
   },
   "source": [
    "I need some features from [numPy](https://numpy.org/): *the fundametal package for scientific computing with Python*. Specifically, I need the definition of $\\pi$."
   ]
  },
  {
   "cell_type": "code",
   "execution_count": 7,
   "metadata": {
    "id": "GJcIQLIW162P",
    "nbpages": {
     "level": 2,
     "link": "[2.3.3 Calculations](https://docNathanM.github.io/chemeng316_fluids/02.03-Properties-of-Pure-Substances-with-CoolProp.html#2.3.3-Calculations)",
     "section": "2.3.3 Calculations"
    }
   },
   "outputs": [],
   "source": [
    "import numpy as np"
   ]
  },
  {
   "cell_type": "markdown",
   "metadata": {
    "id": "o8dlbJPm2MX7",
    "nbpages": {
     "level": 3,
     "link": "[2.3.3.1 Area and Flow Rates](https://docNathanM.github.io/chemeng316_fluids/02.03-Properties-of-Pure-Substances-with-CoolProp.html#2.3.3.1-Area-and-Flow-Rates)",
     "section": "2.3.3.1 Area and Flow Rates"
    }
   },
   "source": [
    "### 2.3.3.1 Area and Flow Rates"
   ]
  },
  {
   "cell_type": "code",
   "execution_count": 8,
   "metadata": {
    "colab": {
     "base_uri": "https://localhost:8080/"
    },
    "id": "_bfzXDiq1oFj",
    "nbpages": {
     "level": 3,
     "link": "[2.3.3.1 Area and Flow Rates](https://docNathanM.github.io/chemeng316_fluids/02.03-Properties-of-Pure-Substances-with-CoolProp.html#2.3.3.1-Area-and-Flow-Rates)",
     "section": "2.3.3.1 Area and Flow Rates"
    },
    "outputId": "107eddc9-cfac-44f4-b018-13d56ff3a27b"
   },
   "outputs": [
    {
     "data": {
      "text/plain": [
       "{'0.015341070484943889 m²',\n",
       " '0.056111499405730764 m³/s',\n",
       " '56.05374389590506 kilogram / second'}"
      ]
     },
     "execution_count": 8,
     "metadata": {},
     "output_type": "execute_result"
    }
   ],
   "source": [
    "area_crossSection = np.pi * Di ** 2 / 4; \n",
    "Q_flowrate = Vavg * area_crossSection;\n",
    "mDot = rho_kgPerM3 * Q_flowrate;\n",
    "\n",
    "{f\"{area_crossSection:~P}\",f\"{Q_flowrate:~P}\",f\"{mDot}\"}"
   ]
  },
  {
   "cell_type": "markdown",
   "metadata": {
    "id": "3QzGM4683KJ8",
    "nbpages": {
     "level": 3,
     "link": "[2.3.3.2 Reynolds Number](https://docNathanM.github.io/chemeng316_fluids/02.03-Properties-of-Pure-Substances-with-CoolProp.html#2.3.3.2-Reynolds-Number)",
     "section": "2.3.3.2 Reynolds Number"
    }
   },
   "source": [
    "### 2.3.3.2 Reynolds Number"
   ]
  },
  {
   "cell_type": "code",
   "execution_count": 9,
   "metadata": {
    "colab": {
     "base_uri": "https://localhost:8080/"
    },
    "id": "zsNfmyuT2rph",
    "nbpages": {
     "level": 3,
     "link": "[2.3.3.2 Reynolds Number](https://docNathanM.github.io/chemeng316_fluids/02.03-Properties-of-Pure-Substances-with-CoolProp.html#2.3.3.2-Reynolds-Number)",
     "section": "2.3.3.2 Reynolds Number"
    },
    "outputId": "4c90241f-ec57-41b2-da05-a42de88ba40e"
   },
   "outputs": [
    {
     "name": "stdout",
     "output_type": "stream",
     "text": [
      "455505.44997628545 kilogram / meter / pascal / second ** 2\n"
     ]
    }
   ],
   "source": [
    "Re = rho_kgPerM3 * Di * Vavg / mu;\n",
    "print(Re)"
   ]
  },
  {
   "cell_type": "code",
   "execution_count": 10,
   "metadata": {
    "colab": {
     "base_uri": "https://localhost:8080/"
    },
    "id": "t4NOgOjp4G5L",
    "nbpages": {
     "level": 3,
     "link": "[2.3.3.2 Reynolds Number](https://docNathanM.github.io/chemeng316_fluids/02.03-Properties-of-Pure-Substances-with-CoolProp.html#2.3.3.2-Reynolds-Number)",
     "section": "2.3.3.2 Reynolds Number"
    },
    "outputId": "d36ee9e0-9ffd-4f1d-fcaa-a48d21f801e5"
   },
   "outputs": [
    {
     "name": "stdout",
     "output_type": "stream",
     "text": [
      "455505.44997628545 dimensionless\n"
     ]
    }
   ],
   "source": [
    "Re.ito(ur.meter/ur.meter)\n",
    "print(Re)"
   ]
  },
  {
   "cell_type": "code",
   "execution_count": 11,
   "metadata": {
    "colab": {
     "base_uri": "https://localhost:8080/"
    },
    "id": "EP8B2xQ23YYq",
    "nbpages": {
     "level": 3,
     "link": "[2.3.3.2 Reynolds Number](https://docNathanM.github.io/chemeng316_fluids/02.03-Properties-of-Pure-Substances-with-CoolProp.html#2.3.3.2-Reynolds-Number)",
     "section": "2.3.3.2 Reynolds Number"
    },
    "outputId": "4cf694e2-835a-4d75-a02f-78dcf3620be8"
   },
   "outputs": [
    {
     "data": {
      "text/plain": [
       "455505.44997628545"
      ]
     },
     "execution_count": 11,
     "metadata": {},
     "output_type": "execute_result"
    }
   ],
   "source": [
    "Re.magnitude"
   ]
  },
  {
   "cell_type": "markdown",
   "metadata": {
    "id": "8wEjdeX85DQo",
    "nbpages": {
     "level": 3,
     "link": "[2.3.3.3 Estimate Friction Factor](https://docNathanM.github.io/chemeng316_fluids/02.03-Properties-of-Pure-Substances-with-CoolProp.html#2.3.3.3-Estimate-Friction-Factor)",
     "section": "2.3.3.3 Estimate Friction Factor"
    }
   },
   "source": [
    "### 2.3.3.3 Estimate Friction Factor\n",
    "The *friction factor*, as it is known, is so ubiquitous that you can find a very nice [Wikipedia](https://en.wikipedia.org/wiki/Darcy_friction_factor_formulae#Haaland_equation) page that even lists an entire host of approximate equations to estimate the friction factor.\n",
    "\n",
    "I'm going to compute this with the Haaland equation rather than reading off the chart.\n",
    "\n",
    "$$ \\frac{1}{\\sqrt{f}} = -1.8 \\log \\left[\\left(\\frac{\\epsilon/D}{3.7}\\right)^{1.11} + \\frac{6.9}{\\textrm{Re}}\\right] $$"
   ]
  },
  {
   "cell_type": "code",
   "execution_count": 12,
   "metadata": {
    "colab": {
     "base_uri": "https://localhost:8080/"
    },
    "id": "1pb8Hi2f8XhR",
    "nbpages": {
     "level": 3,
     "link": "[2.3.3.3 Estimate Friction Factor](https://docNathanM.github.io/chemeng316_fluids/02.03-Properties-of-Pure-Substances-with-CoolProp.html#2.3.3.3-Estimate-Friction-Factor)",
     "section": "2.3.3.3 Estimate Friction Factor"
    },
    "outputId": "2516b5c0-c922-451d-8c1d-62dc38a06d25"
   },
   "outputs": [
    {
     "name": "stdout",
     "output_type": "stream",
     "text": [
      "0.016425778363634604 dimensionless\n"
     ]
    }
   ],
   "source": [
    "k = 0.045 * ur.millimeter;\n",
    "kByD = k.to(ur.meter) / Di;\n",
    "Cff = -1.8 * np.log10(6.9/Re + (kByD/3.7)**1.11)\n",
    "f = (1/Cff)**2;\n",
    "print(f)"
   ]
  },
  {
   "cell_type": "markdown",
   "metadata": {
    "id": "1MRGYsq_35Kx",
    "nbpages": {
     "level": 3,
     "link": "[2.3.3.3 Estimate Friction Factor](https://docNathanM.github.io/chemeng316_fluids/02.03-Properties-of-Pure-Substances-with-CoolProp.html#2.3.3.3-Estimate-Friction-Factor)",
     "section": "2.3.3.3 Estimate Friction Factor"
    }
   },
   "source": [
    "Compare to the Swamee-Jain Equation\n",
    "\n",
    "$$ f = \\frac{0.25}{\\left[\\log\\left(\\frac{\\epsilon/D}{3.7} + \\frac{5.74}{\\textrm{Re}^{6.9}}\\right)\\right]^2} $$"
   ]
  },
  {
   "cell_type": "code",
   "execution_count": 13,
   "metadata": {
    "colab": {
     "base_uri": "https://localhost:8080/"
    },
    "id": "rP8cMxL64pJH",
    "nbpages": {
     "level": 3,
     "link": "[2.3.3.3 Estimate Friction Factor](https://docNathanM.github.io/chemeng316_fluids/02.03-Properties-of-Pure-Substances-with-CoolProp.html#2.3.3.3-Estimate-Friction-Factor)",
     "section": "2.3.3.3 Estimate Friction Factor"
    },
    "outputId": "e3715e45-d9ed-4333-d3c2-8fa0b5c71835"
   },
   "outputs": [
    {
     "name": "stdout",
     "output_type": "stream",
     "text": [
      "0.016425778363634604 dimensionless\n"
     ]
    }
   ],
   "source": [
    "f_sj = 0.25 / (np.log10(kByD/3.7 + 5.74/Re**6.9))**2;\n",
    "print(f)"
   ]
  },
  {
   "cell_type": "markdown",
   "metadata": {
    "id": "A6u0idrU5Qya",
    "nbpages": {
     "level": 3,
     "link": "[2.3.3.3 Estimate Friction Factor](https://docNathanM.github.io/chemeng316_fluids/02.03-Properties-of-Pure-Substances-with-CoolProp.html#2.3.3.3-Estimate-Friction-Factor)",
     "section": "2.3.3.3 Estimate Friction Factor"
    }
   },
   "source": [
    "**IMPORTANT** Notice how close the two values are in the above results. These are both more accurate than reading values off a chart manually."
   ]
  },
  {
   "cell_type": "markdown",
   "metadata": {
    "id": "yup6LHhLCzU8",
    "nbpages": {
     "level": 3,
     "link": "[2.3.3.4 Calculate Pressure Drop](https://docNathanM.github.io/chemeng316_fluids/02.03-Properties-of-Pure-Substances-with-CoolProp.html#2.3.3.4-Calculate-Pressure-Drop)",
     "section": "2.3.3.4 Calculate Pressure Drop"
    }
   },
   "source": [
    "### 2.3.3.4 Calculate Pressure Drop"
   ]
  },
  {
   "cell_type": "markdown",
   "metadata": {
    "id": "6Vgp3CI-9SnK",
    "nbpages": {
     "level": 3,
     "link": "[2.3.3.4 Calculate Pressure Drop](https://docNathanM.github.io/chemeng316_fluids/02.03-Properties-of-Pure-Substances-with-CoolProp.html#2.3.3.4-Calculate-Pressure-Drop)",
     "section": "2.3.3.4 Calculate Pressure Drop"
    }
   },
   "source": [
    "Notice: in the equations above, the friction factor, $f$, is defined following *Darcy-Weisbach* so that the $\\Delta P$ calculation has $0.5\\rho V^2$ as the momentum reference.\n",
    "\n",
    "So, to calculate the pressure drop over the length of pipe I need to use:\n",
    "\n",
    "$$ \\frac{\\Delta P}{L} = \\frac{f}{D}\\left(\\frac{1}{2}\\rho V_{avg}^2\\right) $$"
   ]
  },
  {
   "cell_type": "code",
   "execution_count": 14,
   "metadata": {
    "colab": {
     "base_uri": "https://localhost:8080/"
    },
    "id": "M7fqhMU--F0k",
    "nbpages": {
     "level": 3,
     "link": "[2.3.3.4 Calculate Pressure Drop](https://docNathanM.github.io/chemeng316_fluids/02.03-Properties-of-Pure-Substances-with-CoolProp.html#2.3.3.4-Calculate-Pressure-Drop)",
     "section": "2.3.3.4 Calculate Pressure Drop"
    },
    "outputId": "e0beed74-fbf0-4f3e-c761-6a5e39742e0d"
   },
   "outputs": [
    {
     "name": "stdout",
     "output_type": "stream",
     "text": [
      "785.3409423476201 pascal / meter\n"
     ]
    }
   ],
   "source": [
    "delPbyL = (f / Di) * (0.5 * rho_kgPerM3 * Vavg ** 2)\n",
    "delPbyL.ito(ur.Pa / ur.meter)\n",
    "print(delPbyL)"
   ]
  },
  {
   "cell_type": "markdown",
   "metadata": {
    "id": "880HAgY265r4",
    "nbpages": {
     "level": 3,
     "link": "[2.3.3.4 Calculate Pressure Drop](https://docNathanM.github.io/chemeng316_fluids/02.03-Properties-of-Pure-Substances-with-CoolProp.html#2.3.3.4-Calculate-Pressure-Drop)",
     "section": "2.3.3.4 Calculate Pressure Drop"
    }
   },
   "source": [
    "The pressure required due to gravity must also be included."
   ]
  },
  {
   "cell_type": "code",
   "execution_count": 15,
   "metadata": {
    "colab": {
     "base_uri": "https://localhost:8080/"
    },
    "id": "bG0MSoyU-uJw",
    "nbpages": {
     "level": 3,
     "link": "[2.3.3.4 Calculate Pressure Drop](https://docNathanM.github.io/chemeng316_fluids/02.03-Properties-of-Pure-Substances-with-CoolProp.html#2.3.3.4-Calculate-Pressure-Drop)",
     "section": "2.3.3.4 Calculate Pressure Drop"
    },
    "outputId": "66b90735-ae6b-4a39-a328-1d62638f7266"
   },
   "outputs": [
    {
     "name": "stdout",
     "output_type": "stream",
     "text": [
      "8951896.328209177 pascal\n"
     ]
    }
   ],
   "source": [
    "g = ur.Quantity(9.8, ur.meter / ur.s ** 2);\n",
    "delP_lift = rho_kgPerM3 * g * H;\n",
    "print(delP_lift.to(ur.Pa))"
   ]
  },
  {
   "cell_type": "code",
   "execution_count": 16,
   "metadata": {
    "colab": {
     "base_uri": "https://localhost:8080/"
    },
    "id": "M1ks9Pko__R2",
    "nbpages": {
     "level": 3,
     "link": "[2.3.3.4 Calculate Pressure Drop](https://docNathanM.github.io/chemeng316_fluids/02.03-Properties-of-Pure-Substances-with-CoolProp.html#2.3.3.4-Calculate-Pressure-Drop)",
     "section": "2.3.3.4 Calculate Pressure Drop"
    },
    "outputId": "861c68b0-3bda-4ec5-9578-eaf2b06ab67f"
   },
   "outputs": [
    {
     "name": "stdout",
     "output_type": "stream",
     "text": [
      "10029069.964733172 pascal\n"
     ]
    }
   ],
   "source": [
    "delP_total = delPbyL * L + delP_lift;\n",
    "print(delP_total)"
   ]
  },
  {
   "cell_type": "markdown",
   "metadata": {
    "id": "UojFZf_PC6Uo",
    "nbpages": {
     "level": 3,
     "link": "[2.3.3.5 Power Required](https://docNathanM.github.io/chemeng316_fluids/02.03-Properties-of-Pure-Substances-with-CoolProp.html#2.3.3.5-Power-Required)",
     "section": "2.3.3.5 Power Required"
    }
   },
   "source": [
    "### 2.3.3.5 Power Required\n",
    "This is\n",
    "$$ Power = \\Delta P \\dot{Q} = \\frac{\\Delta P}{\\rho}\\dot{m}$$"
   ]
  },
  {
   "cell_type": "code",
   "execution_count": 17,
   "metadata": {
    "colab": {
     "base_uri": "https://localhost:8080/"
    },
    "id": "D9X9auiICD6Q",
    "nbpages": {
     "level": 3,
     "link": "[2.3.3.5 Power Required](https://docNathanM.github.io/chemeng316_fluids/02.03-Properties-of-Pure-Substances-with-CoolProp.html#2.3.3.5-Power-Required)",
     "section": "2.3.3.5 Power Required"
    },
    "outputId": "6a6e5ef7-23d8-4a85-8dde-71c6551cc5ec"
   },
   "outputs": [
    {
     "name": "stdout",
     "output_type": "stream",
     "text": [
      "562.7461533661577 kilowatt\n"
     ]
    }
   ],
   "source": [
    "Power_required = delP_total * Q_flowrate;\n",
    "print(Power_required.to(ur.kilowatt))"
   ]
  },
  {
   "cell_type": "markdown",
   "metadata": {
    "id": "-TTkjjjJCKei",
    "nbpages": {
     "level": 3,
     "link": "[2.3.3.6 Cost](https://docNathanM.github.io/chemeng316_fluids/02.03-Properties-of-Pure-Substances-with-CoolProp.html#2.3.3.6-Cost)",
     "section": "2.3.3.6 Cost"
    }
   },
   "source": [
    "### 2.3.3.6 Cost\n",
    "Take the efficiency into account."
   ]
  },
  {
   "cell_type": "code",
   "execution_count": 18,
   "metadata": {
    "colab": {
     "base_uri": "https://localhost:8080/"
    },
    "id": "vaxoBt_eDJMj",
    "nbpages": {
     "level": 3,
     "link": "[2.3.3.6 Cost](https://docNathanM.github.io/chemeng316_fluids/02.03-Properties-of-Pure-Substances-with-CoolProp.html#2.3.3.6-Cost)",
     "section": "2.3.3.6 Cost"
    },
    "outputId": "4fce2f6d-4c80-473c-bb65-2accd33526f4"
   },
   "outputs": [
    {
     "name": "stdout",
     "output_type": "stream",
     "text": [
      "32.156923049494736 / hour\n"
     ]
    }
   ],
   "source": [
    "costToPump = eCost * ( Power_required ) / eta;\n",
    "print(costToPump.to(1/ur.hour))"
   ]
  },
  {
   "cell_type": "markdown",
   "metadata": {
    "id": "kwTgmbR2DVys",
    "nbpages": {
     "level": 3,
     "link": "[2.3.3.7 Final Answer](https://docNathanM.github.io/chemeng316_fluids/02.03-Properties-of-Pure-Substances-with-CoolProp.html#2.3.3.7-Final-Answer)",
     "section": "2.3.3.7 Final Answer"
    }
   },
   "source": [
    "### 2.3.3.7 Final Answer\n",
    "The cost to pump is **``$32.15 per hour``**."
   ]
  },
  {
   "cell_type": "markdown",
   "id": "87f73d4a",
   "metadata": {},
   "source": [
    "<!--NAVIGATION-->\n",
    "< [2.2 Units Template with `pint`](https://docNathanM.github.io/chemeng316_fluids/02.02-Units-Template-with-pint.html) | [Contents](toc.html) | [2.4 Queary Wolfram Alpha for Information](https://docNathanM.github.io/chemeng316_fluids/02.04-Queary-Wolfram-Alpha.html) ><p><a href=\"https://colab.research.google.com/github/docNathanM/chemeng316_fluids/blob/master/docs/02.03-Properties-of-Pure-Substances-with-CoolProp.ipynb\"> <img align=\"left\" src=\"https://colab.research.google.com/assets/colab-badge.svg\" alt=\"Open in Colab\" title=\"Open in Google Colaboratory\"></a><p><a href=\"https://docNathanM.github.io/chemeng316_fluids/02.03-Properties-of-Pure-Substances-with-CoolProp.ipynb\"> <img align=\"left\" src=\"https://img.shields.io/badge/Github-Download-blue.svg\" alt=\"Download\" title=\"Download Notebook\"></a>"
   ]
  }
 ],
 "metadata": {
  "colab": {
   "authorship_tag": "ABX9TyNGLGWImh1hw3eP8jmjenew",
   "include_colab_link": true,
   "provenance": []
  },
  "kernelspec": {
   "display_name": "Python 3 (ipykernel)",
   "language": "python",
   "name": "python3"
  },
  "language_info": {
   "codemirror_mode": {
    "name": "ipython",
    "version": 3
   },
   "file_extension": ".py",
   "mimetype": "text/x-python",
   "name": "python",
   "nbconvert_exporter": "python",
   "pygments_lexer": "ipython3",
   "version": "3.9.12"
  }
 },
 "nbformat": 4,
 "nbformat_minor": 1
}
