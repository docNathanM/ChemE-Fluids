{
 "cells": [
  {
   "cell_type": "markdown",
   "id": "cf47d655",
   "metadata": {},
   "source": [
    "<!--NOTEBOOK_HEADER-->\n",
    "*This notebook contains material from [chemeng316_fluids](https://docNathanM.github.io/chemeng316_fluids);\n",
    "content is available [on Github](https://github.com/docNathanM/chemeng316_fluids).*\n"
   ]
  },
  {
   "cell_type": "markdown",
   "id": "fd2cf6ea",
   "metadata": {},
   "source": [
    "<!--NAVIGATION-->\n",
    "< [A.1 Fluid Simulation with $\\phi_{Flow}$](https://docNathanM.github.io/chemeng316_fluids/A.01-Fluid-Simulation-with-PhiFlow.html) | [Contents](toc.html) | [B.1 Homework 1](https://docNathanM.github.io/chemeng316_fluids/B.01-Homework-01.html) ><p><a href=\"https://colab.research.google.com/github/docNathanM/chemeng316_fluids/blob/master/docs/B.00-Homework-Assignments.ipynb\"> <img align=\"left\" src=\"https://colab.research.google.com/assets/colab-badge.svg\" alt=\"Open in Colab\" title=\"Open in Google Colaboratory\"></a>"
   ]
  },
  {
   "cell_type": "markdown",
   "metadata": {
    "nbpages": {
     "level": 1,
     "link": "[B.0 Homework Assignments](https://docNathanM.github.io/chemeng316_fluids/B.00-Homework-Assignments.html#B.0-Homework-Assignments)",
     "section": "B.0 Homework Assignments"
    }
   },
   "source": [
    "# B.0 Homework Assignments"
   ]
  },
  {
   "cell_type": "markdown",
   "id": "b8099d59",
   "metadata": {},
   "source": [
    "<!--NAVIGATION-->\n",
    "< [A.1 Fluid Simulation with $\\phi_{Flow}$](https://docNathanM.github.io/chemeng316_fluids/A.01-Fluid-Simulation-with-PhiFlow.html) | [Contents](toc.html) | [B.1 Homework 1](https://docNathanM.github.io/chemeng316_fluids/B.01-Homework-01.html) ><p><a href=\"https://colab.research.google.com/github/docNathanM/chemeng316_fluids/blob/master/docs/B.00-Homework-Assignments.ipynb\"> <img align=\"left\" src=\"https://colab.research.google.com/assets/colab-badge.svg\" alt=\"Open in Colab\" title=\"Open in Google Colaboratory\"></a>"
   ]
  }
 ],
 "metadata": {
  "kernelspec": {
   "display_name": "Python 3 (ipykernel)",
   "language": "python",
   "name": "python3"
  },
  "language_info": {
   "codemirror_mode": {
    "name": "ipython",
    "version": 3
   },
   "file_extension": ".py",
   "mimetype": "text/x-python",
   "name": "python",
   "nbconvert_exporter": "python",
   "pygments_lexer": "ipython3",
   "version": "3.9.12"
  }
 },
 "nbformat": 4,
 "nbformat_minor": 4
}
