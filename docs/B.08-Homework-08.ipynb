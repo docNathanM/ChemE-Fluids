{
 "cells": [
  {
   "cell_type": "markdown",
   "id": "ac2a093c",
   "metadata": {},
   "source": [
    "<!--NOTEBOOK_HEADER-->\n",
    "*This notebook contains material from [chemeng316_fluids](https://docNathanM.github.io/chemeng316_fluids);\n",
    "content is available [on Github](https://github.com/docNathanM/chemeng316_fluids).*\n"
   ]
  },
  {
   "cell_type": "markdown",
   "id": "18c83646",
   "metadata": {},
   "source": [
    "<!--NAVIGATION-->\n",
    "< [B.7 Homework 7](https://docNathanM.github.io/chemeng316_fluids/B.07-Homework-07.html) | [Contents](toc.html) |<p><a href=\"https://colab.research.google.com/github/docNathanM/chemeng316_fluids/blob/master/docs/B.08-Homework-08.ipynb\"> <img align=\"left\" src=\"https://colab.research.google.com/assets/colab-badge.svg\" alt=\"Open in Colab\" title=\"Open in Google Colaboratory\"></a>"
   ]
  },
  {
   "cell_type": "markdown",
   "metadata": {
    "nbpages": {
     "level": 1,
     "link": "[B.8 Homework 8](https://docNathanM.github.io/chemeng316_fluids/B.08-Homework-08.html#B.8-Homework-8)",
     "section": "B.8 Homework 8"
    },
    "tags": []
   },
   "source": [
    "# B.8 Homework 8\n",
    "\n",
    "*ChE 316 – Chem Eng. Fluid Mechanics – Spring 2024*\n",
    "\n",
    "**DUE 19 Feb 2024**"
   ]
  },
  {
   "cell_type": "markdown",
   "metadata": {
    "nbpages": {
     "level": 1,
     "link": "[B.8 Homework 8](https://docNathanM.github.io/chemeng316_fluids/B.08-Homework-08.html#B.8-Homework-8)",
     "section": "B.8 Homework 8"
    }
   },
   "source": [
    "**Getting Started**: See prior homework templates fFor sample code to import the `pint`, `CoolProp`, `numpy`, `sympy`, and `matplotlib` modules."
   ]
  },
  {
   "cell_type": "markdown",
   "metadata": {
    "nbpages": {
     "level": 1,
     "link": "[B.8 Homework 8](https://docNathanM.github.io/chemeng316_fluids/B.08-Homework-08.html#B.8-Homework-8)",
     "section": "B.8 Homework 8"
    }
   },
   "source": [
    "<hr>"
   ]
  },
  {
   "cell_type": "markdown",
   "metadata": {
    "nbpages": {
     "level": 1,
     "link": "[B.8 Homework 8](https://docNathanM.github.io/chemeng316_fluids/B.08-Homework-08.html#B.8-Homework-8)",
     "section": "B.8 Homework 8"
    }
   },
   "source": [
    "**Problem 1**. Water at 20 $^\\circ$C is pumped at a constant rate of 9 m$^3$/hour from a large reservoir resting on the floor to the open top of an experimental absorption tower. The point of discharge is 5 m above the floor, and friction losses in the 50-mm diameter pipe from the reservoir to the tower amount to 2.5 J/kg. At what height in the reservoir must the water level be kept if the pump can deliver only 0.1 kW? (Hint: Find $H$.)\n",
    "\n",
    "<div style=\"text-align:center;\">\n",
    "    <img src=\"figures/hw08_nm24_fig01.jpg\" alt=\"Velocity Profile Data\" width=\"650\" />\n",
    "</div>"
   ]
  },
  {
   "cell_type": "code",
   "execution_count": null,
   "metadata": {
    "nbpages": {
     "level": 1,
     "link": "[B.8 Homework 8](https://docNathanM.github.io/chemeng316_fluids/B.08-Homework-08.html#B.8-Homework-8)",
     "section": "B.8 Homework 8"
    }
   },
   "outputs": [],
   "source": [
    "# YOUR SOLUTION HERE"
   ]
  },
  {
   "cell_type": "markdown",
   "metadata": {
    "nbpages": {
     "level": 1,
     "link": "[B.8 Homework 8](https://docNathanM.github.io/chemeng316_fluids/B.08-Homework-08.html#B.8-Homework-8)",
     "section": "B.8 Homework 8"
    }
   },
   "source": [
    "**Problem 2**. Water enters a 100-mm-ID 90$^\\circ$ elbow at a velocity of 6 m/s and a gauge pressure of 70 N/m$^2$. Neglecting friction, what are the magnitude and the direction of the force vector that must be applied to the elbow to keep in in position without allowing it to move?\n",
    "\n",
    "<div style=\"text-align:center;\">\n",
    "    <img src=\"figures/hw08_nm24_fig02.jpg\" alt=\"Velocity Profile Data\" width=\"650\" />\n",
    "</div>\n"
   ]
  },
  {
   "cell_type": "code",
   "execution_count": null,
   "metadata": {
    "nbpages": {
     "level": 1,
     "link": "[B.8 Homework 8](https://docNathanM.github.io/chemeng316_fluids/B.08-Homework-08.html#B.8-Homework-8)",
     "section": "B.8 Homework 8"
    }
   },
   "outputs": [],
   "source": [
    "# YOUR SOLUTION HERE"
   ]
  },
  {
   "cell_type": "markdown",
   "id": "e7d37cae",
   "metadata": {},
   "source": [
    "<!--NAVIGATION-->\n",
    "< [B.7 Homework 7](https://docNathanM.github.io/chemeng316_fluids/B.07-Homework-07.html) | [Contents](toc.html) |<p><a href=\"https://colab.research.google.com/github/docNathanM/chemeng316_fluids/blob/master/docs/B.08-Homework-08.ipynb\"> <img align=\"left\" src=\"https://colab.research.google.com/assets/colab-badge.svg\" alt=\"Open in Colab\" title=\"Open in Google Colaboratory\"></a>"
   ]
  }
 ],
 "metadata": {
  "kernelspec": {
   "display_name": "Python 3 (ipykernel)",
   "language": "python",
   "name": "python3"
  },
  "language_info": {
   "codemirror_mode": {
    "name": "ipython",
    "version": 3
   },
   "file_extension": ".py",
   "mimetype": "text/x-python",
   "name": "python",
   "nbconvert_exporter": "python",
   "pygments_lexer": "ipython3",
   "version": "3.9.12"
  }
 },
 "nbformat": 4,
 "nbformat_minor": 4
}
