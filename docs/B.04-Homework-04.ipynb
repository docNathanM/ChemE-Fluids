{
 "cells": [
  {
   "cell_type": "markdown",
   "id": "daf87f96",
   "metadata": {},
   "source": [
    "<!--NOTEBOOK_HEADER-->\n",
    "*This notebook contains material from [chemeng316_fluids](https://docNathanM.github.io/chemeng316_fluids);\n",
    "content is available [on Github](https://github.com/docNathanM/chemeng316_fluids).*\n"
   ]
  },
  {
   "cell_type": "markdown",
   "id": "b39db2fc",
   "metadata": {},
   "source": [
    "<!--NAVIGATION-->\n",
    "< [B.3 Homework 3](https://docNathanM.github.io/chemeng316_fluids/B.03-Homework-03.html) | [Contents](toc.html) | [B.5 Homework 5](https://docNathanM.github.io/chemeng316_fluids/B.05-Homework-05.html) ><p><a href=\"https://colab.research.google.com/github/docNathanM/chemeng316_fluids/blob/master/docs/B.04-Homework-04.ipynb\"> <img align=\"left\" src=\"https://colab.research.google.com/assets/colab-badge.svg\" alt=\"Open in Colab\" title=\"Open in Google Colaboratory\"></a>"
   ]
  },
  {
   "cell_type": "markdown",
   "metadata": {
    "nbpages": {
     "level": 1,
     "link": "[B.4 Homework 4](https://docNathanM.github.io/chemeng316_fluids/B.04-Homework-04.html#B.4-Homework-4)",
     "section": "B.4 Homework 4"
    }
   },
   "source": [
    "# B.4 Homework 4\n",
    "\n",
    "*ChE 316 – Chem Eng. Fluid Mechanics – Spring 2024*\n",
    "\n",
    "**DUE 5 Feb 2024**"
   ]
  },
  {
   "cell_type": "markdown",
   "metadata": {
    "nbpages": {
     "level": 1,
     "link": "[B.4 Homework 4](https://docNathanM.github.io/chemeng316_fluids/B.04-Homework-04.html#B.4-Homework-4)",
     "section": "B.4 Homework 4"
    }
   },
   "source": [
    "**Getting Started**: Here is the code to import the `pint`, `CoolProp`, `numpy`, `sympy`, and `matplotlib` modules to get you started."
   ]
  },
  {
   "cell_type": "code",
   "execution_count": null,
   "metadata": {
    "nbpages": {
     "level": 1,
     "link": "[B.4 Homework 4](https://docNathanM.github.io/chemeng316_fluids/B.04-Homework-04.html#B.4-Homework-4)",
     "section": "B.4 Homework 4"
    }
   },
   "outputs": [],
   "source": [
    "try:\n",
    "    import pint\n",
    "except:\n",
    "    !pip install pint\n",
    "    import pint\n",
    "finally:\n",
    "    ur = pint.UnitRegistry()"
   ]
  },
  {
   "cell_type": "code",
   "execution_count": null,
   "metadata": {
    "nbpages": {
     "level": 1,
     "link": "[B.4 Homework 4](https://docNathanM.github.io/chemeng316_fluids/B.04-Homework-04.html#B.4-Homework-4)",
     "section": "B.4 Homework 4"
    }
   },
   "outputs": [],
   "source": [
    "try:\n",
    "    import CoolProp.CoolProp as CP\n",
    "except:\n",
    "    !pip install CoolProp\n",
    "    import CoolProp.CoolProp as CP"
   ]
  },
  {
   "cell_type": "code",
   "execution_count": null,
   "metadata": {
    "nbpages": {
     "level": 1,
     "link": "[B.4 Homework 4](https://docNathanM.github.io/chemeng316_fluids/B.04-Homework-04.html#B.4-Homework-4)",
     "section": "B.4 Homework 4"
    }
   },
   "outputs": [],
   "source": [
    "# we need numpy for constants like pi\n",
    "# https://numpy.org/doc/stable/reference/constants.html\n",
    "import numpy as np\n",
    "\n",
    "# we often use sympy to solve equations\n",
    "import sympy as sp\n",
    "\n",
    "# for plotting we need\n",
    "import matplotlib.pyplot as plt\n",
    "\n",
    "# For nice plotting I include ...\n",
    "plt.rcParams['mathtext.default'] = 'rm'\n",
    "plt.rcParams['mathtext.fontset'] = 'stix'\n",
    "plt.rcParams['font.family'] = 'Times New Roman'"
   ]
  },
  {
   "cell_type": "markdown",
   "metadata": {
    "nbpages": {
     "level": 1,
     "link": "[B.4 Homework 4](https://docNathanM.github.io/chemeng316_fluids/B.04-Homework-04.html#B.4-Homework-4)",
     "section": "B.4 Homework 4"
    }
   },
   "source": [
    "<hr>"
   ]
  },
  {
   "cell_type": "markdown",
   "metadata": {
    "nbpages": {
     "level": 1,
     "link": "[B.4 Homework 4](https://docNathanM.github.io/chemeng316_fluids/B.04-Homework-04.html#B.4-Homework-4)",
     "section": "B.4 Homework 4"
    }
   },
   "source": [
    "**Problem 1**. Air flows at 4.0 ft^3/min through a 1/2-inch Schedule 40 pipe at 30 deg. C and 5 bar. (a) Determine the Reynolds number. (b) Is the flow laminar or turbulent? "
   ]
  },
  {
   "cell_type": "code",
   "execution_count": null,
   "metadata": {
    "nbpages": {
     "level": 1,
     "link": "[B.4 Homework 4](https://docNathanM.github.io/chemeng316_fluids/B.04-Homework-04.html#B.4-Homework-4)",
     "section": "B.4 Homework 4"
    }
   },
   "outputs": [],
   "source": [
    "# YOUR SOLUTION HERE"
   ]
  },
  {
   "cell_type": "markdown",
   "id": "c0566dba",
   "metadata": {},
   "source": [
    "<!--NAVIGATION-->\n",
    "< [B.3 Homework 3](https://docNathanM.github.io/chemeng316_fluids/B.03-Homework-03.html) | [Contents](toc.html) | [B.5 Homework 5](https://docNathanM.github.io/chemeng316_fluids/B.05-Homework-05.html) ><p><a href=\"https://colab.research.google.com/github/docNathanM/chemeng316_fluids/blob/master/docs/B.04-Homework-04.ipynb\"> <img align=\"left\" src=\"https://colab.research.google.com/assets/colab-badge.svg\" alt=\"Open in Colab\" title=\"Open in Google Colaboratory\"></a>"
   ]
  }
 ],
 "metadata": {
  "kernelspec": {
   "display_name": "Python 3 (ipykernel)",
   "language": "python",
   "name": "python3"
  },
  "language_info": {
   "codemirror_mode": {
    "name": "ipython",
    "version": 3
   },
   "file_extension": ".py",
   "mimetype": "text/x-python",
   "name": "python",
   "nbconvert_exporter": "python",
   "pygments_lexer": "ipython3",
   "version": "3.9.12"
  }
 },
 "nbformat": 4,
 "nbformat_minor": 4
}
