{
 "cells": [
  {
   "cell_type": "markdown",
   "id": "d12ee555",
   "metadata": {},
   "source": [
    "<!--NOTEBOOK_HEADER-->\n",
    "*This notebook contains material from [chemeng316_fluids](https://docNathanM.github.io/chemeng316_fluids);\n",
    "content is available [on Github](https://github.com/docNathanM/chemeng316_fluids).*\n"
   ]
  },
  {
   "cell_type": "markdown",
   "id": "8ab1a2c3",
   "metadata": {},
   "source": [
    "<!--NAVIGATION-->\n",
    "< [B.1 Homework 1](https://docNathanM.github.io/chemeng316_fluids/B.01-Homework-01.html) | [Contents](toc.html) | [B.3 Homework 3](https://docNathanM.github.io/chemeng316_fluids/B.03-Homework-03.html) ><p><a href=\"https://colab.research.google.com/github/docNathanM/chemeng316_fluids/blob/master/docs/B.02-Homework-02.ipynb\"> <img align=\"left\" src=\"https://colab.research.google.com/assets/colab-badge.svg\" alt=\"Open in Colab\" title=\"Open in Google Colaboratory\"></a>"
   ]
  },
  {
   "cell_type": "markdown",
   "metadata": {
    "nbpages": {
     "level": 1,
     "link": "[B.2 Homework 2](https://docNathanM.github.io/chemeng316_fluids/B.02-Homework-02.html#B.2-Homework-2)",
     "section": "B.2 Homework 2"
    }
   },
   "source": [
    "# B.2 Homework 2\n",
    "\n",
    "*ChE 316 – Chem Eng. Fluid Mechanics – Spring 2024*\n",
    "\n",
    "**DUE 31 Jan 2024**\n",
    "\n",
    "I created the illustrations shown below using [TinkerCAD](https://www.tinkercad.com/). I have created a specific \"class\" link for TinkerCAD so you can see my designs and create your own to share with the class:\n",
    "https://www.tinkercad.com/joinclass/JR4TQ5ASP"
   ]
  },
  {
   "cell_type": "markdown",
   "metadata": {
    "nbpages": {
     "level": 1,
     "link": "[B.2 Homework 2](https://docNathanM.github.io/chemeng316_fluids/B.02-Homework-02.html#B.2-Homework-2)",
     "section": "B.2 Homework 2"
    }
   },
   "source": [
    "**Getting Started**: Here is some code to at least get the UnitRegistry and CoolProp modules loaded for you to get started."
   ]
  },
  {
   "cell_type": "code",
   "execution_count": null,
   "metadata": {
    "nbpages": {
     "level": 1,
     "link": "[B.2 Homework 2](https://docNathanM.github.io/chemeng316_fluids/B.02-Homework-02.html#B.2-Homework-2)",
     "section": "B.2 Homework 2"
    }
   },
   "outputs": [],
   "source": [
    "try:\n",
    "    import pint\n",
    "except:\n",
    "    !pip install pint\n",
    "    import pint\n",
    "finally:\n",
    "    ur = pint.UnitRegistry()"
   ]
  },
  {
   "cell_type": "code",
   "execution_count": null,
   "metadata": {
    "nbpages": {
     "level": 1,
     "link": "[B.2 Homework 2](https://docNathanM.github.io/chemeng316_fluids/B.02-Homework-02.html#B.2-Homework-2)",
     "section": "B.2 Homework 2"
    }
   },
   "outputs": [],
   "source": [
    "try:\n",
    "    import CoolProp.CoolProp as CP\n",
    "except:\n",
    "    !pip install CoolProp\n",
    "    import CoolProp.CoolProp as CP"
   ]
  },
  {
   "cell_type": "code",
   "execution_count": null,
   "metadata": {
    "nbpages": {
     "level": 1,
     "link": "[B.2 Homework 2](https://docNathanM.github.io/chemeng316_fluids/B.02-Homework-02.html#B.2-Homework-2)",
     "section": "B.2 Homework 2"
    }
   },
   "outputs": [],
   "source": [
    "# we need numpy for constants like pi\n",
    "# https://numpy.org/doc/stable/reference/constants.html\n",
    "import numpy as np\n",
    "\n",
    "# we often use sympy to solve equations\n",
    "import sympy as sp"
   ]
  },
  {
   "cell_type": "markdown",
   "metadata": {
    "nbpages": {
     "level": 1,
     "link": "[B.2 Homework 2](https://docNathanM.github.io/chemeng316_fluids/B.02-Homework-02.html#B.2-Homework-2)",
     "section": "B.2 Homework 2"
    }
   },
   "source": [
    "**Problem 1**. A research submarine is design to operate 3 km below the ocean surface. If the interior pressure of the submarine is 1 atm, calculate the total pressure on a 15 cm diameter window? Assume the average density of the ocean water is 1,028 kg/m$^3$."
   ]
  },
  {
   "cell_type": "code",
   "execution_count": null,
   "metadata": {
    "nbpages": {
     "level": 1,
     "link": "[B.2 Homework 2](https://docNathanM.github.io/chemeng316_fluids/B.02-Homework-02.html#B.2-Homework-2)",
     "section": "B.2 Homework 2"
    }
   },
   "outputs": [],
   "source": [
    "# YOUR SOLUTION HERE"
   ]
  },
  {
   "cell_type": "markdown",
   "metadata": {
    "nbpages": {
     "level": 1,
     "link": "[B.2 Homework 2](https://docNathanM.github.io/chemeng316_fluids/B.02-Homework-02.html#B.2-Homework-2)",
     "section": "B.2 Homework 2"
    }
   },
   "source": [
    "**Problem 2**. A layer of an unknown liquid A (immiscible with water) floats on top of a layer of water in a beaker. A completely submerged block of specific gravity 0.9 adjusts itself so that its axis is vertical, one-third of its height projects above the unknown/water interface, and two-thirds remain below. What is the specific gravity of A?\n",
    "\n",
    "<div style=\"text-align:center;\">\n",
    "    <img src=\"figures/hw02.02_findingDensityOfFluidA.png\" alt=\"Block Floating on Interface\" width=\"350\" />\n",
    "</div>"
   ]
  },
  {
   "cell_type": "code",
   "execution_count": null,
   "metadata": {
    "nbpages": {
     "level": 1,
     "link": "[B.2 Homework 2](https://docNathanM.github.io/chemeng316_fluids/B.02-Homework-02.html#B.2-Homework-2)",
     "section": "B.2 Homework 2"
    }
   },
   "outputs": [],
   "source": [
    "# YOUR SOLUTION HERE"
   ]
  },
  {
   "cell_type": "markdown",
   "metadata": {
    "nbpages": {
     "level": 1,
     "link": "[B.2 Homework 2](https://docNathanM.github.io/chemeng316_fluids/B.02-Homework-02.html#B.2-Homework-2)",
     "section": "B.2 Homework 2"
    }
   },
   "source": [
    "**Problem 3**. Determine the fraction of a 3 inch diameter baseball's volume that is submerged in water if the baseball weighs 5 oz. Assume $\\rho_{H20} = 62.4$ lbm/ft$^3$.\n",
    "\n",
    "<div style=\"text-align:center;\">\n",
    "    <img src=\"figures/hw02.03_baseballFloatingInWaterTank.png\" alt=\"Baseball Floating in Water\" width=\"350\" />\n",
    "</div>"
   ]
  },
  {
   "cell_type": "code",
   "execution_count": null,
   "metadata": {
    "nbpages": {
     "level": 1,
     "link": "[B.2 Homework 2](https://docNathanM.github.io/chemeng316_fluids/B.02-Homework-02.html#B.2-Homework-2)",
     "section": "B.2 Homework 2"
    }
   },
   "outputs": [],
   "source": [
    "# YOUR SOLUTION HERE"
   ]
  },
  {
   "cell_type": "markdown",
   "id": "5558237e",
   "metadata": {},
   "source": [
    "<!--NAVIGATION-->\n",
    "< [B.1 Homework 1](https://docNathanM.github.io/chemeng316_fluids/B.01-Homework-01.html) | [Contents](toc.html) | [B.3 Homework 3](https://docNathanM.github.io/chemeng316_fluids/B.03-Homework-03.html) ><p><a href=\"https://colab.research.google.com/github/docNathanM/chemeng316_fluids/blob/master/docs/B.02-Homework-02.ipynb\"> <img align=\"left\" src=\"https://colab.research.google.com/assets/colab-badge.svg\" alt=\"Open in Colab\" title=\"Open in Google Colaboratory\"></a>"
   ]
  }
 ],
 "metadata": {
  "kernelspec": {
   "display_name": "Python 3 (ipykernel)",
   "language": "python",
   "name": "python3"
  },
  "language_info": {
   "codemirror_mode": {
    "name": "ipython",
    "version": 3
   },
   "file_extension": ".py",
   "mimetype": "text/x-python",
   "name": "python",
   "nbconvert_exporter": "python",
   "pygments_lexer": "ipython3",
   "version": "3.9.12"
  }
 },
 "nbformat": 4,
 "nbformat_minor": 4
}
