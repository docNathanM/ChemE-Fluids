{
 "cells": [
  {
   "cell_type": "markdown",
   "id": "7c384b56",
   "metadata": {},
   "source": [
    "<!--NOTEBOOK_HEADER-->\n",
    "*This notebook contains material from [chemeng316_fluids](https://docNathanM.github.io/chemeng316_fluids);\n",
    "content is available [on Github](https://github.com/docNathanM/chemeng316_fluids).*\n"
   ]
  },
  {
   "cell_type": "markdown",
   "id": "c621cbb7",
   "metadata": {},
   "source": [
    "<!--NAVIGATION-->\n",
    "< [3.0 Drawings and Diagrams](https://docNathanM.github.io/chemeng316_fluids/03.00-Drawings-and-Diagrams.html) | [Contents](toc.html) | [3.2 Tools for 3D Design and Illustration](https://docNathanM.github.io/chemeng316_fluids/03.02-Tools-for-3D-Design.html) ><p><a href=\"https://colab.research.google.com/github/docNathanM/chemeng316_fluids/blob/master/docs/03.01-Tools-for-2D-Diagrams.ipynb\"> <img align=\"left\" src=\"https://colab.research.google.com/assets/colab-badge.svg\" alt=\"Open in Colab\" title=\"Open in Google Colaboratory\"></a>"
   ]
  },
  {
   "cell_type": "markdown",
   "metadata": {
    "nbpages": {
     "level": 1,
     "link": "[3.1 Tools for 2-D Diagrams](https://docNathanM.github.io/chemeng316_fluids/03.01-Tools-for-2D-Diagrams.html#3.1-Tools-for-2-D-Diagrams)",
     "section": "3.1 Tools for 2-D Diagrams"
    }
   },
   "source": [
    "# 3.1 Tools for 2-D Diagrams"
   ]
  },
  {
   "cell_type": "markdown",
   "metadata": {
    "nbpages": {
     "level": 1,
     "link": "[3.1 Tools for 2-D Diagrams](https://docNathanM.github.io/chemeng316_fluids/03.01-Tools-for-2D-Diagrams.html#3.1-Tools-for-2-D-Diagrams)",
     "section": "3.1 Tools for 2-D Diagrams"
    }
   },
   "source": [
    "I suggest using https://www.drawio.com/ as a free and secure way to very quickly create process flow diagrams and other illustrations of engineering scenarios.\n",
    "\n",
    "You can either work directly online and save to Google Drive or GitHub, or you can download a desktop version and save your work directly on your local machine. Either way, the `.drawio` file can be saved anywhere and reopened at any time. And, you can export high-quality images for reports and presentations.\n",
    "\n",
    "Within the app, there are catalogs of shapes that can be used to put together diagrams and flow charts. There is an entire set of process engineering shapes that can be added to the workspace.\n",
    "\n",
    "![Process Flow Shapes](figures/03.01_fig01_addProcFlowShapes.jpg)\n"
   ]
  },
  {
   "cell_type": "markdown",
   "metadata": {
    "nbpages": {
     "level": 2,
     "link": "[3.1.1 Example](https://docNathanM.github.io/chemeng316_fluids/03.01-Tools-for-2D-Diagrams.html#3.1.1-Example)",
     "section": "3.1.1 Example"
    }
   },
   "source": [
    "## 3.1.1 Example"
   ]
  },
  {
   "cell_type": "markdown",
   "metadata": {
    "nbpages": {
     "level": 2,
     "link": "[3.1.1 Example](https://docNathanM.github.io/chemeng316_fluids/03.01-Tools-for-2D-Diagrams.html#3.1.1-Example)",
     "section": "3.1.1 Example"
    }
   },
   "source": [
    "This is an example diagram for one of the first homework assignments. It follows the labeling practices that you learned in your earlier coursework.\n",
    "\n",
    "![Example Process Flow Diagram](figures/fig_03_01_fig02_example_fishMealProduction.jpg)"
   ]
  },
  {
   "cell_type": "markdown",
   "metadata": {
    "nbpages": {
     "level": 3,
     "link": "[3.1.1.1 How To: Math Notation](https://docNathanM.github.io/chemeng316_fluids/03.01-Tools-for-2D-Diagrams.html#3.1.1.1-How-To:-Math-Notation)",
     "section": "3.1.1.1 How To: Math Notation"
    }
   },
   "source": [
    "### 3.1.1.1 How To: Math Notation\n",
    "\n",
    "You might notice in the above example that the mathematical notation looks very professional. This is a type-setting method for scientific documents that follows $\\LaTeX$-style commands. See https://www.drawio.com/doc/faq/math-typesetting for details on how this works. You can enable this in `draw.io` by going to `Extras` $\\rightarrow$ `Mathematical Typesetting`. If I highlight the content for Stream $\\boxed{3}$ in the example you can see the text that I actually entered to make this work.\n",
    "\n",
    "![Show How the LaTeX Typesetting is Written in the Example](figures/03.01_fig03_example_fishMealProduction.jpg)"
   ]
  },
  {
   "cell_type": "markdown",
   "id": "e8fffd0b",
   "metadata": {},
   "source": [
    "<!--NAVIGATION-->\n",
    "< [3.0 Drawings and Diagrams](https://docNathanM.github.io/chemeng316_fluids/03.00-Drawings-and-Diagrams.html) | [Contents](toc.html) | [3.2 Tools for 3D Design and Illustration](https://docNathanM.github.io/chemeng316_fluids/03.02-Tools-for-3D-Design.html) ><p><a href=\"https://colab.research.google.com/github/docNathanM/chemeng316_fluids/blob/master/docs/03.01-Tools-for-2D-Diagrams.ipynb\"> <img align=\"left\" src=\"https://colab.research.google.com/assets/colab-badge.svg\" alt=\"Open in Colab\" title=\"Open in Google Colaboratory\"></a>"
   ]
  }
 ],
 "metadata": {
  "kernelspec": {
   "display_name": "Python 3 (ipykernel)",
   "language": "python",
   "name": "python3"
  },
  "language_info": {
   "codemirror_mode": {
    "name": "ipython",
    "version": 3
   },
   "file_extension": ".py",
   "mimetype": "text/x-python",
   "name": "python",
   "nbconvert_exporter": "python",
   "pygments_lexer": "ipython3",
   "version": "3.9.12"
  }
 },
 "nbformat": 4,
 "nbformat_minor": 4
}
