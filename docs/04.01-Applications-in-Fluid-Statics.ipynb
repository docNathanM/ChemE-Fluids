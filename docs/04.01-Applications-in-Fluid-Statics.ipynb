{
 "cells": [
  {
   "cell_type": "markdown",
   "id": "4c5e2176",
   "metadata": {},
   "source": [
    "<!--NOTEBOOK_HEADER-->\n",
    "*This notebook contains material from [chemeng316_fluids](https://docNathanM.github.io/chemeng316_fluids);\n",
    "content is available [on Github](https://github.com/docNathanM/chemeng316_fluids).*\n"
   ]
  },
  {
   "cell_type": "markdown",
   "id": "2dfbe0c2",
   "metadata": {},
   "source": [
    "<!--NAVIGATION-->\n",
    "< [4.0 Unit 1: Fluid Statics and Mechanics](https://docNathanM.github.io/chemeng316_fluids/04.00-Unit-1-Fluid-Statics-and-Mechanics.html) | [Contents](toc.html) | [A.0 Simulating Fluid Mechanics](https://docNathanM.github.io/chemeng316_fluids/A.00-Simulating-Fluid-Mechanics.html) ><p><a href=\"https://colab.research.google.com/github/docNathanM/chemeng316_fluids/blob/master/docs/04.01-Applications-in-Fluid-Statics.ipynb\"> <img align=\"left\" src=\"https://colab.research.google.com/assets/colab-badge.svg\" alt=\"Open in Colab\" title=\"Open in Google Colaboratory\"></a>"
   ]
  },
  {
   "cell_type": "markdown",
   "metadata": {
    "nbpages": {
     "level": 1,
     "link": "[4.1 Applications in Fluid Statics](https://docNathanM.github.io/chemeng316_fluids/04.01-Applications-in-Fluid-Statics.html#4.1-Applications-in-Fluid-Statics)",
     "section": "4.1 Applications in Fluid Statics"
    }
   },
   "source": [
    "# 4.1 Applications in Fluid Statics"
   ]
  },
  {
   "cell_type": "markdown",
   "metadata": {
    "nbpages": {
     "level": 1,
     "link": "[4.1 Applications in Fluid Statics](https://docNathanM.github.io/chemeng316_fluids/04.01-Applications-in-Fluid-Statics.html#4.1-Applications-in-Fluid-Statics)",
     "section": "4.1 Applications in Fluid Statics"
    }
   },
   "source": [
    "These are just some interesting current industrial applications of fluid statics applied to separations.\n",
    "\n",
    "ANDRITZ decanter centrifuge ACZ Censor for efficient plastics recycling:\n",
    "\n",
    "https://www.andritz.com/products-en/group/recycling/plastic-waste\n",
    "\n",
    "The Gravity Separator - Oliver Manufacturing:\n",
    "\n",
    "https://youtu.be/FQkK7hdK270?si=Mm61jhSACkWwHOk8"
   ]
  },
  {
   "cell_type": "markdown",
   "id": "c874adee",
   "metadata": {},
   "source": [
    "<!--NAVIGATION-->\n",
    "< [4.0 Unit 1: Fluid Statics and Mechanics](https://docNathanM.github.io/chemeng316_fluids/04.00-Unit-1-Fluid-Statics-and-Mechanics.html) | [Contents](toc.html) | [A.0 Simulating Fluid Mechanics](https://docNathanM.github.io/chemeng316_fluids/A.00-Simulating-Fluid-Mechanics.html) ><p><a href=\"https://colab.research.google.com/github/docNathanM/chemeng316_fluids/blob/master/docs/04.01-Applications-in-Fluid-Statics.ipynb\"> <img align=\"left\" src=\"https://colab.research.google.com/assets/colab-badge.svg\" alt=\"Open in Colab\" title=\"Open in Google Colaboratory\"></a>"
   ]
  }
 ],
 "metadata": {
  "kernelspec": {
   "display_name": "Python 3 (ipykernel)",
   "language": "python",
   "name": "python3"
  },
  "language_info": {
   "codemirror_mode": {
    "name": "ipython",
    "version": 3
   },
   "file_extension": ".py",
   "mimetype": "text/x-python",
   "name": "python",
   "nbconvert_exporter": "python",
   "pygments_lexer": "ipython3",
   "version": "3.9.12"
  }
 },
 "nbformat": 4,
 "nbformat_minor": 4
}
