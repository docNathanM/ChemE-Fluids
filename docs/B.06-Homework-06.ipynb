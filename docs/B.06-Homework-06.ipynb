{
 "cells": [
  {
   "cell_type": "markdown",
   "id": "69173a2e",
   "metadata": {},
   "source": [
    "<!--NOTEBOOK_HEADER-->\n",
    "*This notebook contains material from [chemeng316_fluids](https://docNathanM.github.io/chemeng316_fluids);\n",
    "content is available [on Github](https://github.com/docNathanM/chemeng316_fluids).*\n"
   ]
  },
  {
   "cell_type": "markdown",
   "id": "08fb0caa",
   "metadata": {},
   "source": [
    "<!--NAVIGATION-->\n",
    "< [B.5 Homework 5](https://docNathanM.github.io/chemeng316_fluids/B.05-Homework-05.html) | [Contents](toc.html) | [B.7 Homework 7](https://docNathanM.github.io/chemeng316_fluids/B.07-Homework-07.html) ><p><a href=\"https://colab.research.google.com/github/docNathanM/chemeng316_fluids/blob/master/docs/B.06-Homework-06.ipynb\"> <img align=\"left\" src=\"https://colab.research.google.com/assets/colab-badge.svg\" alt=\"Open in Colab\" title=\"Open in Google Colaboratory\"></a>"
   ]
  },
  {
   "cell_type": "markdown",
   "metadata": {
    "nbpages": {
     "level": 1,
     "link": "[B.6 Homework 6](https://docNathanM.github.io/chemeng316_fluids/B.06-Homework-06.html#B.6-Homework-6)",
     "section": "B.6 Homework 6"
    }
   },
   "source": [
    "# B.6 Homework 6\n",
    "\n",
    "*ChE 316 – Chem Eng. Fluid Mechanics – Spring 2024*\n",
    "\n",
    "**DUE 9 Feb 2024**"
   ]
  },
  {
   "cell_type": "markdown",
   "metadata": {
    "nbpages": {
     "level": 1,
     "link": "[B.6 Homework 6](https://docNathanM.github.io/chemeng316_fluids/B.06-Homework-06.html#B.6-Homework-6)",
     "section": "B.6 Homework 6"
    }
   },
   "source": [
    "**Getting Started**: Here is the code to import the `pint`, `CoolProp`, `numpy`, `sympy`, and `matplotlib` modules to get you started."
   ]
  },
  {
   "cell_type": "code",
   "execution_count": null,
   "metadata": {
    "nbpages": {
     "level": 1,
     "link": "[B.6 Homework 6](https://docNathanM.github.io/chemeng316_fluids/B.06-Homework-06.html#B.6-Homework-6)",
     "section": "B.6 Homework 6"
    }
   },
   "outputs": [],
   "source": [
    "try:\n",
    "    import pint\n",
    "except:\n",
    "    !pip install pint\n",
    "    import pint\n",
    "finally:\n",
    "    ur = pint.UnitRegistry()"
   ]
  },
  {
   "cell_type": "code",
   "execution_count": null,
   "metadata": {
    "nbpages": {
     "level": 1,
     "link": "[B.6 Homework 6](https://docNathanM.github.io/chemeng316_fluids/B.06-Homework-06.html#B.6-Homework-6)",
     "section": "B.6 Homework 6"
    }
   },
   "outputs": [],
   "source": [
    "try:\n",
    "    import CoolProp.CoolProp as CP\n",
    "except:\n",
    "    !pip install CoolProp\n",
    "    import CoolProp.CoolProp as CP"
   ]
  },
  {
   "cell_type": "code",
   "execution_count": null,
   "metadata": {
    "nbpages": {
     "level": 1,
     "link": "[B.6 Homework 6](https://docNathanM.github.io/chemeng316_fluids/B.06-Homework-06.html#B.6-Homework-6)",
     "section": "B.6 Homework 6"
    }
   },
   "outputs": [],
   "source": [
    "# we need numpy for constants like pi\n",
    "# https://numpy.org/doc/stable/reference/constants.html\n",
    "import numpy as np\n",
    "\n",
    "# we often use sympy to solve equations\n",
    "import sympy as sp\n",
    "\n",
    "# for plotting we need\n",
    "import matplotlib.pyplot as plt\n",
    "\n",
    "# For nice plotting I include ...\n",
    "plt.rcParams['mathtext.default'] = 'rm'\n",
    "plt.rcParams['mathtext.fontset'] = 'stix'\n",
    "plt.rcParams['font.family'] = 'Times New Roman'"
   ]
  },
  {
   "cell_type": "markdown",
   "metadata": {
    "nbpages": {
     "level": 1,
     "link": "[B.6 Homework 6](https://docNathanM.github.io/chemeng316_fluids/B.06-Homework-06.html#B.6-Homework-6)",
     "section": "B.6 Homework 6"
    }
   },
   "source": [
    "<hr>"
   ]
  },
  {
   "cell_type": "markdown",
   "metadata": {
    "nbpages": {
     "level": 1,
     "link": "[B.6 Homework 6](https://docNathanM.github.io/chemeng316_fluids/B.06-Homework-06.html#B.6-Homework-6)",
     "section": "B.6 Homework 6"
    }
   },
   "source": [
    "**Problem 1**. Fluid is trapped between two parallel vertical plate that are separated by a distance $L=1$ mm. The plate located at $x=L$ moves vertically with constant velocity $V_0$ (see example 4.3 in the textbook). The fluid is an oil with a density of $\\rho=900$ kg/m$^3$ and a viscosity of $\\mu=50$ mPa$\\cdot$s. The pressure drop, $dP/dy$, is negligible compared with the gravity term, $\\rho g$.\n",
    "\n",
    "- (a) What is the minimum upward velocity, $V_{0,min}$, of the moving plate so that all the fluid moves upward?\n",
    "- (b) Plot the velocity, $v(x)$ for $V_0 = V_{0,min} \\pm $10%. This should be three curves, one for each value of $V_0$.\n",
    "- (c) What is the velocity midway between the plates when $V_0$ is set at the minumum value from Part (a).\n",
    "- (d) What is the shear rate, $\\tau$ in the fluid at $x=0$, $x=L/2$, and $x=L$."
   ]
  },
  {
   "cell_type": "code",
   "execution_count": null,
   "metadata": {
    "nbpages": {
     "level": 1,
     "link": "[B.6 Homework 6](https://docNathanM.github.io/chemeng316_fluids/B.06-Homework-06.html#B.6-Homework-6)",
     "section": "B.6 Homework 6"
    }
   },
   "outputs": [],
   "source": [
    "# YOUR SOLUTION HERE"
   ]
  },
  {
   "cell_type": "markdown",
   "id": "fd01e64e",
   "metadata": {},
   "source": [
    "<!--NAVIGATION-->\n",
    "< [B.5 Homework 5](https://docNathanM.github.io/chemeng316_fluids/B.05-Homework-05.html) | [Contents](toc.html) | [B.7 Homework 7](https://docNathanM.github.io/chemeng316_fluids/B.07-Homework-07.html) ><p><a href=\"https://colab.research.google.com/github/docNathanM/chemeng316_fluids/blob/master/docs/B.06-Homework-06.ipynb\"> <img align=\"left\" src=\"https://colab.research.google.com/assets/colab-badge.svg\" alt=\"Open in Colab\" title=\"Open in Google Colaboratory\"></a>"
   ]
  }
 ],
 "metadata": {
  "kernelspec": {
   "display_name": "Python 3 (ipykernel)",
   "language": "python",
   "name": "python3"
  },
  "language_info": {
   "codemirror_mode": {
    "name": "ipython",
    "version": 3
   },
   "file_extension": ".py",
   "mimetype": "text/x-python",
   "name": "python",
   "nbconvert_exporter": "python",
   "pygments_lexer": "ipython3",
   "version": "3.9.12"
  }
 },
 "nbformat": 4,
 "nbformat_minor": 4
}
