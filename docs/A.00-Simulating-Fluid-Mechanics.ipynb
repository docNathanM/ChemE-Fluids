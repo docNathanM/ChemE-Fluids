{
 "cells": [
  {
   "cell_type": "markdown",
   "id": "5eda086c",
   "metadata": {},
   "source": [
    "<!--NOTEBOOK_HEADER-->\n",
    "*This notebook contains material from [chemeng316_fluids](https://docNathanM.github.io/chemeng316_fluids);\n",
    "content is available [on Github](https://github.com/docNathanM/chemeng316_fluids).*\n"
   ]
  },
  {
   "cell_type": "markdown",
   "id": "4c6af61c",
   "metadata": {},
   "source": [
    "<!--NAVIGATION-->\n",
    "< [3.2 Tools for 3D Design and Illustration](https://docNathanM.github.io/chemeng316_fluids/03.02-Tools-for-3D-Design.html) | [Contents](toc.html) | [A.1 Fluid Simulation with $\\phi_{Flow}$](https://docNathanM.github.io/chemeng316_fluids/A.01-Fluid-Simulation-with-PhiFlow.html) ><p><a href=\"https://colab.research.google.com/github/docNathanM/chemeng316_fluids/blob/master/docs/A.00-Simulating-Fluid-Mechanics.ipynb\"> <img align=\"left\" src=\"https://colab.research.google.com/assets/colab-badge.svg\" alt=\"Open in Colab\" title=\"Open in Google Colaboratory\"></a>"
   ]
  },
  {
   "cell_type": "markdown",
   "id": "4e8450d1",
   "metadata": {
    "nbpages": {
     "level": 1,
     "link": "[A.0 Simulating Fluid Mechanics](https://docNathanM.github.io/chemeng316_fluids/A.00-Simulating-Fluid-Mechanics.html#A.0-Simulating-Fluid-Mechanics)",
     "section": "A.0 Simulating Fluid Mechanics"
    }
   },
   "source": [
    "# A.0 Simulating Fluid Mechanics"
   ]
  },
  {
   "cell_type": "markdown",
   "id": "d4aec504",
   "metadata": {},
   "source": [
    "<!--NAVIGATION-->\n",
    "< [3.2 Tools for 3D Design and Illustration](https://docNathanM.github.io/chemeng316_fluids/03.02-Tools-for-3D-Design.html) | [Contents](toc.html) | [A.1 Fluid Simulation with $\\phi_{Flow}$](https://docNathanM.github.io/chemeng316_fluids/A.01-Fluid-Simulation-with-PhiFlow.html) ><p><a href=\"https://colab.research.google.com/github/docNathanM/chemeng316_fluids/blob/master/docs/A.00-Simulating-Fluid-Mechanics.ipynb\"> <img align=\"left\" src=\"https://colab.research.google.com/assets/colab-badge.svg\" alt=\"Open in Colab\" title=\"Open in Google Colaboratory\"></a>"
   ]
  }
 ],
 "metadata": {
  "kernelspec": {
   "display_name": "Python 3 (ipykernel)",
   "language": "python",
   "name": "python3"
  },
  "language_info": {
   "codemirror_mode": {
    "name": "ipython",
    "version": 3
   },
   "file_extension": ".py",
   "mimetype": "text/x-python",
   "name": "python",
   "nbconvert_exporter": "python",
   "pygments_lexer": "ipython3",
   "version": "3.9.12"
  }
 },
 "nbformat": 4,
 "nbformat_minor": 5
}
