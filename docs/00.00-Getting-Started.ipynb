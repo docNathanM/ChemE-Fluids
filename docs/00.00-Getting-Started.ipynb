{
 "cells": [
  {
   "cell_type": "markdown",
   "metadata": {
    "nbpages": {
     "level": 0,
     "link": "[](https://docNathanM.github.io/chemeng316_fluids/00.00-Getting-Started.html)",
     "section": ""
    }
   },
   "source": [
    "<!--NOTEBOOK_HEADER-->\n",
    "*This notebook contains material from [chemeng316_fluids](https://docNathanM.github.io/chemeng316_fluids);\n",
    "content is available [on Github](https://github.com/docNathanM/chemeng316_fluids).*\n"
   ]
  },
  {
   "cell_type": "markdown",
   "metadata": {
    "nbpages": {
     "level": 0,
     "link": "[](https://docNathanM.github.io/chemeng316_fluids/00.00-Getting-Started.html)",
     "section": ""
    }
   },
   "source": [
    "<!--NAVIGATION-->\n",
    "| [Contents](toc.html) | [0.1 What Chemical Engineers Do](https://docNathanM.github.io/chemeng316_fluids/00.01-What-Chemical-Engineers-Do.html) ><p><a href=\"https://colab.research.google.com/github/docNathanM/chemeng316_fluids/blob/master/docs/00.00-Getting-Started.ipynb\"> <img align=\"left\" src=\"https://colab.research.google.com/assets/colab-badge.svg\" alt=\"Open in Colab\" title=\"Open in Google Colaboratory\"></a><p><a href=\"https://docNathanM.github.io/chemeng316_fluids/00.00-Getting-Started.ipynb\"> <img align=\"left\" src=\"https://img.shields.io/badge/Github-Download-blue.svg\" alt=\"Download\" title=\"Download Notebook\"></a>"
   ]
  },
  {
   "cell_type": "markdown",
   "metadata": {
    "nbpages": {
     "level": 1,
     "link": "[0.0 Getting Started](https://docNathanM.github.io/chemeng316_fluids/00.00-Getting-Started.html#0.0-Getting-Started)",
     "section": "0.0 Getting Started"
    }
   },
   "source": [
    "# 0.0 Getting Started"
   ]
  },
  {
   "cell_type": "markdown",
   "metadata": {
    "nbpages": {
     "level": 1,
     "link": "[0.0 Getting Started](https://docNathanM.github.io/chemeng316_fluids/00.00-Getting-Started.html#0.0-Getting-Started)",
     "section": "0.0 Getting Started"
    }
   },
   "source": [
    "<!--NAVIGATION-->\n",
    "| [Contents](toc.html) | [0.1 What Chemical Engineers Do](https://docNathanM.github.io/chemeng316_fluids/00.01-What-Chemical-Engineers-Do.html) ><p><a href=\"https://colab.research.google.com/github/docNathanM/chemeng316_fluids/blob/master/docs/00.00-Getting-Started.ipynb\"> <img align=\"left\" src=\"https://colab.research.google.com/assets/colab-badge.svg\" alt=\"Open in Colab\" title=\"Open in Google Colaboratory\"></a><p><a href=\"https://docNathanM.github.io/chemeng316_fluids/00.00-Getting-Started.ipynb\"> <img align=\"left\" src=\"https://img.shields.io/badge/Github-Download-blue.svg\" alt=\"Download\" title=\"Download Notebook\"></a>"
   ]
  }
 ],
 "metadata": {
  "kernelspec": {
   "display_name": "Python 3",
   "language": "python",
   "name": "python3"
  },
  "language_info": {
   "codemirror_mode": {
    "name": "ipython",
    "version": 3
   },
   "file_extension": ".py",
   "mimetype": "text/x-python",
   "name": "python",
   "nbconvert_exporter": "python",
   "pygments_lexer": "ipython3",
   "version": "3.7.3"
  }
 },
 "nbformat": 4,
 "nbformat_minor": 2
}
