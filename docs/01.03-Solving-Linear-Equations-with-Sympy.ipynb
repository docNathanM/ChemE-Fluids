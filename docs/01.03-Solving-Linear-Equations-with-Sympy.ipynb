{
 "cells": [
  {
   "cell_type": "markdown",
   "id": "068bb671",
   "metadata": {},
   "source": [
    "<!--NOTEBOOK_HEADER-->\n",
    "*This notebook contains material from [chemeng316_fluids](https://docNathanM.github.io/chemeng316_fluids);\n",
    "content is available [on Github](https://github.com/docNathanM/chemeng316_fluids).*\n"
   ]
  },
  {
   "cell_type": "markdown",
   "id": "6d731135",
   "metadata": {},
   "source": [
    "<!--NAVIGATION-->\n",
    "< [1.2 Jupyter Notebooks, Python, and Google Colaboratory](https://docNathanM.github.io/chemeng316_fluids/01.02-Getting-Started-with-Jupyter-Notebooks-and-Python.html) | [Contents](toc.html) | [2.0 Units, Quantities, and Engineering Calculations](https://docNathanM.github.io/chemeng316_fluids/02.00-Units-Quantities-and-Engineering-Calculations.html) ><p><a href=\"https://colab.research.google.com/github/docNathanM/chemeng316_fluids/blob/master/docs/01.03-Solving-Linear-Equations-with-Sympy.ipynb\"> <img align=\"left\" src=\"https://colab.research.google.com/assets/colab-badge.svg\" alt=\"Open in Colab\" title=\"Open in Google Colaboratory\"></a>"
   ]
  },
  {
   "cell_type": "markdown",
   "metadata": {
    "colab_type": "text",
    "id": "_2f41lKN8h-2",
    "nbpages": {
     "level": 1,
     "link": "[1.3 Solving Linear Equations with Simpy](https://docNathanM.github.io/chemeng316_fluids/01.03-Solving-Linear-Equations-with-Sympy.html#1.3-Solving-Linear-Equations-with-Simpy)",
     "section": "1.3 Solving Linear Equations with Simpy"
    }
   },
   "source": [
    "# 1.3 Solving Linear Equations with Simpy"
   ]
  },
  {
   "cell_type": "markdown",
   "metadata": {
    "nbpages": {
     "level": 2,
     "link": "[1.3.1 Summary](https://docNathanM.github.io/chemeng316_fluids/01.03-Solving-Linear-Equations-with-Sympy.html#1.3.1-Summary)",
     "section": "1.3.1 Summary"
    }
   },
   "source": [
    "## 1.3.1 Summary\n",
    "\n",
    "This notebook shows how to solve linear equations corresponding to material balances on chemical processes using the {ython symbolic algebra library [Sympy](http://sympy.org/en/index.html). The example is adapted with permission from [learnCheme.com](http://learncheme.ning.com/), a project at the University of Colorado funded by the National Science Foundation and the Shell Corporation."
   ]
  },
  {
   "cell_type": "markdown",
   "metadata": {
    "colab_type": "text",
    "id": "-Sh63cOr8h-4",
    "nbpages": {
     "level": 2,
     "link": "[1.3.2 Problem Statement](https://docNathanM.github.io/chemeng316_fluids/01.03-Solving-Linear-Equations-with-Sympy.html#1.3.2-Problem-Statement)",
     "section": "1.3.2 Problem Statement"
    }
   },
   "source": [
    "## 1.3.2 Problem Statement"
   ]
  },
  {
   "cell_type": "code",
   "execution_count": 1,
   "metadata": {
    "colab": {
     "base_uri": "https://localhost:8080/",
     "height": 336
    },
    "colab_type": "code",
    "id": "NxcCYNjd8h-5",
    "nbpages": {
     "level": 2,
     "link": "[1.3.2 Problem Statement](https://docNathanM.github.io/chemeng316_fluids/01.03-Solving-Linear-Equations-with-Sympy.html#1.3.2-Problem-Statement)",
     "section": "1.3.2 Problem Statement"
    },
    "outputId": "f55ae53a-c7db-482e-e8a5-93e25a4b4dd8"
   },
   "outputs": [
    {
     "data": {
      "image/jpeg": "[encoded data removed]",
      "text/html": [
       "\n",
       "        <iframe\n",
       "            width=\"560\"\n",
       "            height=\"315\"\n",
       "            src=\"https://www.youtube.com/embed/KrrZB5LvXF4?start=0&end=144&rel=0\"\n",
       "            frameborder=\"0\"\n",
       "            allowfullscreen\n",
       "            \n",
       "        ></iframe>\n",
       "        "
      ],
      "text/plain": [
       "<IPython.lib.display.YouTubeVideo at 0x7fc37a125880>"
      ]
     },
     "execution_count": 1,
     "metadata": {},
     "output_type": "execute_result"
    }
   ],
   "source": [
    "from IPython.display import YouTubeVideo\n",
    "YouTubeVideo(\"KrrZB5LvXF4\",560,315,start=0,end=144,rel=0)"
   ]
  },
  {
   "cell_type": "markdown",
   "metadata": {
    "colab_type": "text",
    "id": "QIvjEFKI8h-_",
    "nbpages": {
     "level": 2,
     "link": "[1.3.2 Problem Statement](https://docNathanM.github.io/chemeng316_fluids/01.03-Solving-Linear-Equations-with-Sympy.html#1.3.2-Problem-Statement)",
     "section": "1.3.2 Problem Statement"
    }
   },
   "source": [
    "Before going further, be sure you can solve a system of two (or three) linear equations in two (or three) unknowns with paper and pencil. Most of you will have seen these problems before in your math classes."
   ]
  },
  {
   "cell_type": "markdown",
   "metadata": {
    "colab_type": "text",
    "id": "vuqzla188h_A",
    "nbpages": {
     "level": 2,
     "link": "[1.3.3 Solving linear equations using Sympy](https://docNathanM.github.io/chemeng316_fluids/01.03-Solving-Linear-Equations-with-Sympy.html#1.3.3-Solving-linear-equations-using-Sympy)",
     "section": "1.3.3 Solving linear equations using Sympy"
    }
   },
   "source": [
    "## 1.3.3 Solving linear equations using Sympy\n",
    "\n",
    "Assuming you have mastered the solution of linear equations with paper and pencil, let's see how to find solutions using the python symbolic algebra library [Sympy](http://sympy.org/en/index.html).\n",
    "\n",
    "Sympy is an example of a Python 'library'. The first step in using the library is to import it into the current workspace. It is customary to import into the workspace with the namespace `sym` to avoid name clashes with variables and functions."
   ]
  },
  {
   "cell_type": "code",
   "execution_count": 2,
   "metadata": {
    "colab": {},
    "colab_type": "code",
    "id": "RA8_VOok8h_G",
    "nbpages": {
     "level": 2,
     "link": "[1.3.3 Solving linear equations using Sympy](https://docNathanM.github.io/chemeng316_fluids/01.03-Solving-Linear-Equations-with-Sympy.html#1.3.3-Solving-linear-equations-using-Sympy)",
     "section": "1.3.3 Solving linear equations using Sympy"
    }
   },
   "outputs": [],
   "source": [
    "import sympy as sym"
   ]
  },
  {
   "cell_type": "markdown",
   "metadata": {
    "colab_type": "text",
    "id": "78x_O90H8h_J",
    "nbpages": {
     "level": 2,
     "link": "[1.3.3 Solving linear equations using Sympy](https://docNathanM.github.io/chemeng316_fluids/01.03-Solving-Linear-Equations-with-Sympy.html#1.3.3-Solving-linear-equations-using-Sympy)",
     "section": "1.3.3 Solving linear equations using Sympy"
    }
   },
   "source": [
    "The system of equations to be solved is given by\n",
    "\n",
    "\\begin{align*}\n",
    "n_1 + n_1 & = 100 \\\\\n",
    "0.7 n_1 + 0.2 n_2 & = 30\n",
    "\\end{align*}\n",
    "\n",
    "The next step is to introduces names for the unknown variables appearing in our problem. The Sympy function `sym.var()` constructs symbolic variables given a list of variable names."
   ]
  },
  {
   "cell_type": "code",
   "execution_count": 3,
   "metadata": {
    "colab": {
     "base_uri": "https://localhost:8080/",
     "height": 34
    },
    "colab_type": "code",
    "id": "DsyWx80p8h_K",
    "nbpages": {
     "level": 2,
     "link": "[1.3.3 Solving linear equations using Sympy](https://docNathanM.github.io/chemeng316_fluids/01.03-Solving-Linear-Equations-with-Sympy.html#1.3.3-Solving-linear-equations-using-Sympy)",
     "section": "1.3.3 Solving linear equations using Sympy"
    },
    "outputId": "078b3094-721e-48ac-b9c9-5d88ccbf4edd"
   },
   "outputs": [
    {
     "data": {
      "text/plain": [
       "[n1, n2]"
      ]
     },
     "execution_count": 3,
     "metadata": {},
     "output_type": "execute_result"
    }
   ],
   "source": [
    "sym.var(['n1','n2'])"
   ]
  },
  {
   "cell_type": "markdown",
   "metadata": {
    "colab_type": "text",
    "id": "HBib10ed8h_N",
    "nbpages": {
     "level": 2,
     "link": "[1.3.3 Solving linear equations using Sympy](https://docNathanM.github.io/chemeng316_fluids/01.03-Solving-Linear-Equations-with-Sympy.html#1.3.3-Solving-linear-equations-using-Sympy)",
     "section": "1.3.3 Solving linear equations using Sympy"
    }
   },
   "source": [
    "The newly constructed symbolic variable are used to create symbolic equations. The sympy function `sym.Eq()` accepts two arguments, each a symbolic expression expressing the left and right hand sides of an equation. For this problem there are two equations to be solved simultaneously, so we construct both and store them in a python list."
   ]
  },
  {
   "cell_type": "code",
   "execution_count": 4,
   "metadata": {
    "colab": {
     "base_uri": "https://localhost:8080/",
     "height": 34
    },
    "colab_type": "code",
    "id": "MF9QdHaq8h_P",
    "nbpages": {
     "level": 2,
     "link": "[1.3.3 Solving linear equations using Sympy](https://docNathanM.github.io/chemeng316_fluids/01.03-Solving-Linear-Equations-with-Sympy.html#1.3.3-Solving-linear-equations-using-Sympy)",
     "section": "1.3.3 Solving linear equations using Sympy"
    },
    "outputId": "3f3e0d8e-9956-4f76-8fe3-f15e2f0534cb"
   },
   "outputs": [
    {
     "name": "stdout",
     "output_type": "stream",
     "text": [
      "[Eq(n1 + n2, 100), Eq(0.7*n1 + 0.2*n2, 30)]\n"
     ]
    }
   ],
   "source": [
    "eqns = [\n",
    "    sym.Eq(n1 + n2, 100),\n",
    "    sym.Eq(0.7*n1 + 0.2*n2, 30)\n",
    "]\n",
    "print(eqns)"
   ]
  },
  {
   "cell_type": "markdown",
   "metadata": {
    "colab_type": "text",
    "id": "YgPYzeby8h_R",
    "nbpages": {
     "level": 2,
     "link": "[1.3.3 Solving linear equations using Sympy](https://docNathanM.github.io/chemeng316_fluids/01.03-Solving-Linear-Equations-with-Sympy.html#1.3.3-Solving-linear-equations-using-Sympy)",
     "section": "1.3.3 Solving linear equations using Sympy"
    }
   },
   "source": [
    "The last step is solve the equations using `sym.solve()`."
   ]
  },
  {
   "cell_type": "code",
   "execution_count": 5,
   "metadata": {
    "colab": {
     "base_uri": "https://localhost:8080/",
     "height": 34
    },
    "colab_type": "code",
    "id": "RTgF8g-88h_X",
    "nbpages": {
     "level": 2,
     "link": "[1.3.3 Solving linear equations using Sympy](https://docNathanM.github.io/chemeng316_fluids/01.03-Solving-Linear-Equations-with-Sympy.html#1.3.3-Solving-linear-equations-using-Sympy)",
     "section": "1.3.3 Solving linear equations using Sympy"
    },
    "outputId": "6bfdf592-1f15-4e32-c302-68a2c88f68e6"
   },
   "outputs": [
    {
     "name": "stdout",
     "output_type": "stream",
     "text": [
      "{n1: 20.0000000000000, n2: 80.0000000000000}\n"
     ]
    }
   ],
   "source": [
    "soln = sym.solve(eqns)\n",
    "print(soln)"
   ]
  },
  {
   "cell_type": "markdown",
   "metadata": {
    "colab_type": "text",
    "id": "upVWXBbf8h_b",
    "nbpages": {
     "level": 2,
     "link": "[1.3.3 Solving linear equations using Sympy](https://docNathanM.github.io/chemeng316_fluids/01.03-Solving-Linear-Equations-with-Sympy.html#1.3.3-Solving-linear-equations-using-Sympy)",
     "section": "1.3.3 Solving linear equations using Sympy"
    }
   },
   "source": [
    "Putting these steps together, we have a three-step procedure for solving systems of linear equations using Sympy."
   ]
  },
  {
   "cell_type": "code",
   "execution_count": 2,
   "metadata": {
    "colab": {
     "base_uri": "https://localhost:8080/",
     "height": 34
    },
    "colab_type": "code",
    "id": "4aoKcUcj8h_c",
    "nbpages": {
     "level": 2,
     "link": "[1.3.3 Solving linear equations using Sympy](https://docNathanM.github.io/chemeng316_fluids/01.03-Solving-Linear-Equations-with-Sympy.html#1.3.3-Solving-linear-equations-using-Sympy)",
     "section": "1.3.3 Solving linear equations using Sympy"
    },
    "outputId": "3f7cd897-a13b-4470-aff5-491549d520ad"
   },
   "outputs": [
    {
     "name": "stdout",
     "output_type": "stream",
     "text": [
      "{n1: 20.0000000000000, n2: 80.0000000000000}\n"
     ]
    }
   ],
   "source": [
    "# import sympy\n",
    "import sympy as sym\n",
    "\n",
    "# Step 1. Create symbolic variables.\n",
    "sym.var(['n1','n2'])\n",
    "\n",
    "# Step 2. Create a list of equations using the symbolic variables\n",
    "eqns = [\n",
    "    sym.Eq(n1 + n2, 100),\n",
    "    sym.Eq(0.7*n1 + 0.2*n2, 30)\n",
    "]\n",
    "\n",
    "# Step 3. Solve and display solution\n",
    "soln = sym.solve(eqns)\n",
    "print(soln)"
   ]
  },
  {
   "cell_type": "markdown",
   "metadata": {
    "colab_type": "text",
    "id": "2hh-CaNg8h_f",
    "nbpages": {
     "level": 2,
     "link": "[1.3.4 Exercise](https://docNathanM.github.io/chemeng316_fluids/01.03-Solving-Linear-Equations-with-Sympy.html#1.3.4-Exercise)",
     "section": "1.3.4 Exercise"
    }
   },
   "source": [
    "## 1.3.4 Exercise\n",
    "\n",
    "In the cell below, prepare an IPython solution to the second problem described in the screencast involving three linear equations. The problem description starts at the 2:22 mark in the screencast. You can use the example above as a template for your solution."
   ]
  },
  {
   "cell_type": "code",
   "execution_count": 7,
   "metadata": {
    "colab": {
     "base_uri": "https://localhost:8080/",
     "height": 336
    },
    "colab_type": "code",
    "id": "RQsrgjE28h_g",
    "nbpages": {
     "level": 2,
     "link": "[1.3.4 Exercise](https://docNathanM.github.io/chemeng316_fluids/01.03-Solving-Linear-Equations-with-Sympy.html#1.3.4-Exercise)",
     "section": "1.3.4 Exercise"
    },
    "outputId": "a7b62442-60e6-47a7-a3c5-2b1a32d39e86"
   },
   "outputs": [
    {
     "data": {
      "image/jpeg": "[encoded data removed]",
      "text/html": [
       "\n",
       "        <iframe\n",
       "            width=\"560\"\n",
       "            height=\"315\"\n",
       "            src=\"https://www.youtube.com/embed/KrrZB5LvXF4?start=144&end=166&rel=0\"\n",
       "            frameborder=\"0\"\n",
       "            allowfullscreen\n",
       "            \n",
       "        ></iframe>\n",
       "        "
      ],
      "text/plain": [
       "<IPython.lib.display.YouTubeVideo at 0x7fc37a120370>"
      ]
     },
     "execution_count": 7,
     "metadata": {},
     "output_type": "execute_result"
    }
   ],
   "source": [
    "from IPython.display import YouTubeVideo\n",
    "YouTubeVideo(\"KrrZB5LvXF4\",560,315,start=144,end=166,rel=0)"
   ]
  },
  {
   "cell_type": "markdown",
   "id": "5f8e62e0",
   "metadata": {},
   "source": [
    "<!--NAVIGATION-->\n",
    "< [1.2 Jupyter Notebooks, Python, and Google Colaboratory](https://docNathanM.github.io/chemeng316_fluids/01.02-Getting-Started-with-Jupyter-Notebooks-and-Python.html) | [Contents](toc.html) | [2.0 Units, Quantities, and Engineering Calculations](https://docNathanM.github.io/chemeng316_fluids/02.00-Units-Quantities-and-Engineering-Calculations.html) ><p><a href=\"https://colab.research.google.com/github/docNathanM/chemeng316_fluids/blob/master/docs/01.03-Solving-Linear-Equations-with-Sympy.ipynb\"> <img align=\"left\" src=\"https://colab.research.google.com/assets/colab-badge.svg\" alt=\"Open in Colab\" title=\"Open in Google Colaboratory\"></a>"
   ]
  }
 ],
 "metadata": {
  "colab": {
   "name": "Solving_Linear_Equations_with_Sympy.ipynb",
   "provenance": [],
   "version": "0.3.2"
  },
  "kernelspec": {
   "display_name": "Python 3 (ipykernel)",
   "language": "python",
   "name": "python3"
  },
  "language_info": {
   "codemirror_mode": {
    "name": "ipython",
    "version": 3
   },
   "file_extension": ".py",
   "mimetype": "text/x-python",
   "name": "python",
   "nbconvert_exporter": "python",
   "pygments_lexer": "ipython3",
   "version": "3.9.12"
  }
 },
 "nbformat": 4,
 "nbformat_minor": 4
}
