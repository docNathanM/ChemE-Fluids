{
 "cells": [
  {
   "cell_type": "markdown",
   "id": "c42152ac",
   "metadata": {},
   "source": [
    "<!--NOTEBOOK_HEADER-->\n",
    "*This notebook contains material from [chemeng316_fluids](https://docNathanM.github.io/chemeng316_fluids);\n",
    "content is available [on Github](https://github.com/docNathanM/chemeng316_fluids).*\n"
   ]
  },
  {
   "cell_type": "markdown",
   "id": "17276827",
   "metadata": {},
   "source": [
    "<!--NAVIGATION-->\n",
    "< [1.3 Solving Linear Equations with Simpy](https://docNathanM.github.io/chemeng316_fluids/01.03-Solving-Linear-Equations-with-Sympy.html) | [Contents](toc.html) | [2.1 Units and Engineering Calculations](https://docNathanM.github.io/chemeng316_fluids/02.01-Units-and-Engineering-Calculations.html) ><p><a href=\"https://colab.research.google.com/github/docNathanM/chemeng316_fluids/blob/master/docs/02.00-Units-Quantities-and-Engineering-Calculations.ipynb\"> <img align=\"left\" src=\"https://colab.research.google.com/assets/colab-badge.svg\" alt=\"Open in Colab\" title=\"Open in Google Colaboratory\"></a>"
   ]
  },
  {
   "cell_type": "markdown",
   "metadata": {
    "nbpages": {
     "level": 1,
     "link": "[2.0 Units, Quantities, and Engineering Calculations](https://docNathanM.github.io/chemeng316_fluids/02.00-Units-Quantities-and-Engineering-Calculations.html#2.0-Units,-Quantities,-and-Engineering-Calculations)",
     "section": "2.0 Units, Quantities, and Engineering Calculations"
    }
   },
   "source": [
    "# 2.0 Units, Quantities, and Engineering Calculations"
   ]
  },
  {
   "cell_type": "markdown",
   "id": "74a1df27",
   "metadata": {},
   "source": [
    "<!--NAVIGATION-->\n",
    "< [1.3 Solving Linear Equations with Simpy](https://docNathanM.github.io/chemeng316_fluids/01.03-Solving-Linear-Equations-with-Sympy.html) | [Contents](toc.html) | [2.1 Units and Engineering Calculations](https://docNathanM.github.io/chemeng316_fluids/02.01-Units-and-Engineering-Calculations.html) ><p><a href=\"https://colab.research.google.com/github/docNathanM/chemeng316_fluids/blob/master/docs/02.00-Units-Quantities-and-Engineering-Calculations.ipynb\"> <img align=\"left\" src=\"https://colab.research.google.com/assets/colab-badge.svg\" alt=\"Open in Colab\" title=\"Open in Google Colaboratory\"></a>"
   ]
  }
 ],
 "metadata": {
  "kernelspec": {
   "display_name": "Python 3 (ipykernel)",
   "language": "python",
   "name": "python3"
  },
  "language_info": {
   "codemirror_mode": {
    "name": "ipython",
    "version": 3
   },
   "file_extension": ".py",
   "mimetype": "text/x-python",
   "name": "python",
   "nbconvert_exporter": "python",
   "pygments_lexer": "ipython3",
   "version": "3.9.12"
  }
 },
 "nbformat": 4,
 "nbformat_minor": 2
}
