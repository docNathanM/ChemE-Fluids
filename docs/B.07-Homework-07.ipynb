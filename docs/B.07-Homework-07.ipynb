{
 "cells": [
  {
   "cell_type": "markdown",
   "id": "2d03c84b",
   "metadata": {},
   "source": [
    "<!--NOTEBOOK_HEADER-->\n",
    "*This notebook contains material from [chemeng316_fluids](https://docNathanM.github.io/chemeng316_fluids);\n",
    "content is available [on Github](https://github.com/docNathanM/chemeng316_fluids).*\n"
   ]
  },
  {
   "cell_type": "markdown",
   "id": "237a9bf6",
   "metadata": {},
   "source": [
    "<!--NAVIGATION-->\n",
    "< [B.6 Homework 6](https://docNathanM.github.io/chemeng316_fluids/B.06-Homework-06.html) | [Contents](toc.html) | [B.8 Homework 8](https://docNathanM.github.io/chemeng316_fluids/B.08-Homework-08.html) ><p><a href=\"https://colab.research.google.com/github/docNathanM/chemeng316_fluids/blob/master/docs/B.07-Homework-07.ipynb\"> <img align=\"left\" src=\"https://colab.research.google.com/assets/colab-badge.svg\" alt=\"Open in Colab\" title=\"Open in Google Colaboratory\"></a>"
   ]
  },
  {
   "cell_type": "markdown",
   "metadata": {
    "nbpages": {
     "level": 1,
     "link": "[B.7 Homework 7](https://docNathanM.github.io/chemeng316_fluids/B.07-Homework-07.html#B.7-Homework-7)",
     "section": "B.7 Homework 7"
    },
    "tags": []
   },
   "source": [
    "# B.7 Homework 7\n",
    "\n",
    "*ChE 316 – Chem Eng. Fluid Mechanics – Spring 2024*\n",
    "\n",
    "**DUE 15 Feb 2024**"
   ]
  },
  {
   "cell_type": "markdown",
   "metadata": {
    "nbpages": {
     "level": 1,
     "link": "[B.7 Homework 7](https://docNathanM.github.io/chemeng316_fluids/B.07-Homework-07.html#B.7-Homework-7)",
     "section": "B.7 Homework 7"
    }
   },
   "source": [
    "**Getting Started**: See prior homework templates fFor sample code to import the `pint`, `CoolProp`, `numpy`, `sympy`, and `matplotlib` modules."
   ]
  },
  {
   "cell_type": "markdown",
   "metadata": {
    "nbpages": {
     "level": 1,
     "link": "[B.7 Homework 7](https://docNathanM.github.io/chemeng316_fluids/B.07-Homework-07.html#B.7-Homework-7)",
     "section": "B.7 Homework 7"
    }
   },
   "source": [
    "<hr>"
   ]
  },
  {
   "cell_type": "markdown",
   "metadata": {
    "nbpages": {
     "level": 1,
     "link": "[B.7 Homework 7](https://docNathanM.github.io/chemeng316_fluids/B.07-Homework-07.html#B.7-Homework-7)",
     "section": "B.7 Homework 7"
    }
   },
   "source": [
    "**Problem 1**. A liquid is flowing steadily through a 75 mm pipe. The local velocity varies with distance from the pipe axis as shown in the table below. Calculate (a) the average velocity $\\overline{V}$, (b) the kinetic-energy correction factor, $\\alpha$, and (c) the momentum correction factor, $\\beta$. YES, this problem does say the flow is in a PIPE, so you have to integrate the velocity over the cylindrical area of the pipe. The area for a single $dA$ ring is $dA = 2\\pi\\,r\\,dr$. Remember, integration is just summing up area, so the numerical integration for the average velocity looks like this:\n",
    "\n",
    "$$\n",
    "\\overline{V} = \\sum_{i-1}^{N}u_i\\, 2\\pi\\,r_i\\,\\Delta_r\n",
    "$$\n",
    "\n",
    "<div style=\"text-align:center;\">\n",
    "    <img src=\"figures/hw07_nm24_fig01.jpg\" alt=\"Velocity Profile Data\" width=\"350\" />\n",
    "</div>"
   ]
  },
  {
   "cell_type": "code",
   "execution_count": null,
   "metadata": {
    "nbpages": {
     "level": 1,
     "link": "[B.7 Homework 7](https://docNathanM.github.io/chemeng316_fluids/B.07-Homework-07.html#B.7-Homework-7)",
     "section": "B.7 Homework 7"
    }
   },
   "outputs": [],
   "source": [
    "# YOUR SOLUTION HERE"
   ]
  },
  {
   "cell_type": "markdown",
   "metadata": {
    "nbpages": {
     "level": 1,
     "link": "[B.7 Homework 7](https://docNathanM.github.io/chemeng316_fluids/B.07-Homework-07.html#B.7-Homework-7)",
     "section": "B.7 Homework 7"
    }
   },
   "source": [
    "**Problem 2**. A water tank is 30 feet in diameter and is filled to a depth of 25 feet. The outlet is a 4 inch diameter opening. (a) What is the initial volumetric flow rate from the tank? (b) How long will it take for the tank to be empty? (c) Calculate the average flow rate (you have to integrate using results from part (b)) and compare it to the initial flow rate."
   ]
  },
  {
   "cell_type": "code",
   "execution_count": null,
   "metadata": {
    "nbpages": {
     "level": 1,
     "link": "[B.7 Homework 7](https://docNathanM.github.io/chemeng316_fluids/B.07-Homework-07.html#B.7-Homework-7)",
     "section": "B.7 Homework 7"
    }
   },
   "outputs": [],
   "source": [
    "# YOUR SOLUTION HERE"
   ]
  },
  {
   "cell_type": "markdown",
   "id": "38d59777",
   "metadata": {},
   "source": [
    "<!--NAVIGATION-->\n",
    "< [B.6 Homework 6](https://docNathanM.github.io/chemeng316_fluids/B.06-Homework-06.html) | [Contents](toc.html) | [B.8 Homework 8](https://docNathanM.github.io/chemeng316_fluids/B.08-Homework-08.html) ><p><a href=\"https://colab.research.google.com/github/docNathanM/chemeng316_fluids/blob/master/docs/B.07-Homework-07.ipynb\"> <img align=\"left\" src=\"https://colab.research.google.com/assets/colab-badge.svg\" alt=\"Open in Colab\" title=\"Open in Google Colaboratory\"></a>"
   ]
  }
 ],
 "metadata": {
  "kernelspec": {
   "display_name": "Python 3 (ipykernel)",
   "language": "python",
   "name": "python3"
  },
  "language_info": {
   "codemirror_mode": {
    "name": "ipython",
    "version": 3
   },
   "file_extension": ".py",
   "mimetype": "text/x-python",
   "name": "python",
   "nbconvert_exporter": "python",
   "pygments_lexer": "ipython3",
   "version": "3.9.12"
  }
 },
 "nbformat": 4,
 "nbformat_minor": 4
}
