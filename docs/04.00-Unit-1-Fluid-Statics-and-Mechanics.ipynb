{
 "cells": [
  {
   "cell_type": "markdown",
   "id": "38ffd6e2",
   "metadata": {},
   "source": [
    "<!--NOTEBOOK_HEADER-->\n",
    "*This notebook contains material from [chemeng316_fluids](https://docNathanM.github.io/chemeng316_fluids);\n",
    "content is available [on Github](https://github.com/docNathanM/chemeng316_fluids).*\n"
   ]
  },
  {
   "cell_type": "markdown",
   "id": "c7f09b30",
   "metadata": {},
   "source": [
    "<!--NAVIGATION-->\n",
    "< [3.2 Tools for 3D Design and Illustration](https://docNathanM.github.io/chemeng316_fluids/03.02-Tools-for-3D-Design.html) | [Contents](toc.html) | [4.1 Applications in Fluid Statics](https://docNathanM.github.io/chemeng316_fluids/04.01-Applications-in-Fluid-Statics.html) ><p><a href=\"https://colab.research.google.com/github/docNathanM/chemeng316_fluids/blob/master/docs/04.00-Unit-1-Fluid-Statics-and-Mechanics.ipynb\"> <img align=\"left\" src=\"https://colab.research.google.com/assets/colab-badge.svg\" alt=\"Open in Colab\" title=\"Open in Google Colaboratory\"></a>"
   ]
  },
  {
   "cell_type": "markdown",
   "metadata": {
    "nbpages": {
     "level": 1,
     "link": "[4.0 Unit 1: Fluid Statics and Mechanics](https://docNathanM.github.io/chemeng316_fluids/04.00-Unit-1-Fluid-Statics-and-Mechanics.html#4.0-Unit-1:-Fluid-Statics-and-Mechanics)",
     "section": "4.0 Unit 1: Fluid Statics and Mechanics"
    }
   },
   "source": [
    "# 4.0 Unit 1: Fluid Statics and Mechanics"
   ]
  },
  {
   "cell_type": "markdown",
   "id": "06a08581",
   "metadata": {},
   "source": [
    "<!--NAVIGATION-->\n",
    "< [3.2 Tools for 3D Design and Illustration](https://docNathanM.github.io/chemeng316_fluids/03.02-Tools-for-3D-Design.html) | [Contents](toc.html) | [4.1 Applications in Fluid Statics](https://docNathanM.github.io/chemeng316_fluids/04.01-Applications-in-Fluid-Statics.html) ><p><a href=\"https://colab.research.google.com/github/docNathanM/chemeng316_fluids/blob/master/docs/04.00-Unit-1-Fluid-Statics-and-Mechanics.ipynb\"> <img align=\"left\" src=\"https://colab.research.google.com/assets/colab-badge.svg\" alt=\"Open in Colab\" title=\"Open in Google Colaboratory\"></a>"
   ]
  }
 ],
 "metadata": {
  "kernelspec": {
   "display_name": "Python 3 (ipykernel)",
   "language": "python",
   "name": "python3"
  },
  "language_info": {
   "codemirror_mode": {
    "name": "ipython",
    "version": 3
   },
   "file_extension": ".py",
   "mimetype": "text/x-python",
   "name": "python",
   "nbconvert_exporter": "python",
   "pygments_lexer": "ipython3",
   "version": "3.9.12"
  }
 },
 "nbformat": 4,
 "nbformat_minor": 4
}
