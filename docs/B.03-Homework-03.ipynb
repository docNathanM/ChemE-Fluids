{
 "cells": [
  {
   "cell_type": "markdown",
   "id": "32271b4a",
   "metadata": {},
   "source": [
    "<!--NOTEBOOK_HEADER-->\n",
    "*This notebook contains material from [chemeng316_fluids](https://docNathanM.github.io/chemeng316_fluids);\n",
    "content is available [on Github](https://github.com/docNathanM/chemeng316_fluids).*\n"
   ]
  },
  {
   "cell_type": "markdown",
   "id": "777682f3",
   "metadata": {},
   "source": [
    "<!--NAVIGATION-->\n",
    "< [B.2 Homework 2](https://docNathanM.github.io/chemeng316_fluids/B.02-Homework-02.html) | [Contents](toc.html) | [B.4 Homework 4](https://docNathanM.github.io/chemeng316_fluids/B.04-Homework-04.html) ><p><a href=\"https://colab.research.google.com/github/docNathanM/chemeng316_fluids/blob/master/docs/B.03-Homework-03.ipynb\"> <img align=\"left\" src=\"https://colab.research.google.com/assets/colab-badge.svg\" alt=\"Open in Colab\" title=\"Open in Google Colaboratory\"></a>"
   ]
  },
  {
   "cell_type": "markdown",
   "metadata": {
    "nbpages": {
     "level": 1,
     "link": "[B.3 Homework 3](https://docNathanM.github.io/chemeng316_fluids/B.03-Homework-03.html#B.3-Homework-3)",
     "section": "B.3 Homework 3"
    }
   },
   "source": [
    "# B.3 Homework 3\n",
    "\n",
    "*ChE 316 – Chem Eng. Fluid Mechanics – Spring 2024*\n",
    "\n",
    "**DUE 2 Feb 2024**"
   ]
  },
  {
   "cell_type": "markdown",
   "metadata": {
    "nbpages": {
     "level": 1,
     "link": "[B.3 Homework 3](https://docNathanM.github.io/chemeng316_fluids/B.03-Homework-03.html#B.3-Homework-3)",
     "section": "B.3 Homework 3"
    }
   },
   "source": [
    "**Getting Started**: Here is some code to at least get the UnitRegistry and CoolProp modules loaded for you to get started."
   ]
  },
  {
   "cell_type": "code",
   "execution_count": null,
   "metadata": {
    "nbpages": {
     "level": 1,
     "link": "[B.3 Homework 3](https://docNathanM.github.io/chemeng316_fluids/B.03-Homework-03.html#B.3-Homework-3)",
     "section": "B.3 Homework 3"
    }
   },
   "outputs": [],
   "source": [
    "try:\n",
    "    import pint\n",
    "except:\n",
    "    !pip install pint\n",
    "    import pint\n",
    "finally:\n",
    "    ur = pint.UnitRegistry()"
   ]
  },
  {
   "cell_type": "code",
   "execution_count": null,
   "metadata": {
    "nbpages": {
     "level": 1,
     "link": "[B.3 Homework 3](https://docNathanM.github.io/chemeng316_fluids/B.03-Homework-03.html#B.3-Homework-3)",
     "section": "B.3 Homework 3"
    }
   },
   "outputs": [],
   "source": [
    "try:\n",
    "    import CoolProp.CoolProp as CP\n",
    "except:\n",
    "    !pip install CoolProp\n",
    "    import CoolProp.CoolProp as CP"
   ]
  },
  {
   "cell_type": "code",
   "execution_count": null,
   "metadata": {
    "nbpages": {
     "level": 1,
     "link": "[B.3 Homework 3](https://docNathanM.github.io/chemeng316_fluids/B.03-Homework-03.html#B.3-Homework-3)",
     "section": "B.3 Homework 3"
    }
   },
   "outputs": [],
   "source": [
    "# we need numpy for constants like pi\n",
    "# https://numpy.org/doc/stable/reference/constants.html\n",
    "import numpy as np\n",
    "\n",
    "# we often use sympy to solve equations\n",
    "import sympy as sp\n",
    "\n",
    "# for plotting we need\n",
    "import matplotlib.pyplot as plt\n",
    "\n",
    "# For nice plotting I include ...\n",
    "# plt.rcParams['mathtext.default'] = 'rm'\n",
    "# plt.rcParams['mathtext.fontset'] = 'stix'\n",
    "# plt.rcParams['font.family'] = 'Times New Roman'"
   ]
  },
  {
   "cell_type": "markdown",
   "metadata": {
    "nbpages": {
     "level": 1,
     "link": "[B.3 Homework 3](https://docNathanM.github.io/chemeng316_fluids/B.03-Homework-03.html#B.3-Homework-3)",
     "section": "B.3 Homework 3"
    }
   },
   "source": [
    "<hr>"
   ]
  },
  {
   "cell_type": "markdown",
   "metadata": {
    "nbpages": {
     "level": 1,
     "link": "[B.3 Homework 3](https://docNathanM.github.io/chemeng316_fluids/B.03-Homework-03.html#B.3-Homework-3)",
     "section": "B.3 Homework 3"
    }
   },
   "source": [
    "**Problem 1**. Plot viscosity of Helium and CO$_2$ in the range from 0 to 600 $^\\circ$C."
   ]
  },
  {
   "cell_type": "code",
   "execution_count": null,
   "metadata": {
    "nbpages": {
     "level": 1,
     "link": "[B.3 Homework 3](https://docNathanM.github.io/chemeng316_fluids/B.03-Homework-03.html#B.3-Homework-3)",
     "section": "B.3 Homework 3"
    }
   },
   "outputs": [],
   "source": [
    "# YOUR SOLUTION HERE"
   ]
  },
  {
   "cell_type": "markdown",
   "metadata": {
    "nbpages": {
     "level": 1,
     "link": "[B.3 Homework 3](https://docNathanM.github.io/chemeng316_fluids/B.03-Homework-03.html#B.3-Homework-3)",
     "section": "B.3 Homework 3"
    }
   },
   "source": [
    "<hr>"
   ]
  },
  {
   "cell_type": "markdown",
   "metadata": {
    "nbpages": {
     "level": 1,
     "link": "[B.3 Homework 3](https://docNathanM.github.io/chemeng316_fluids/B.03-Homework-03.html#B.3-Homework-3)",
     "section": "B.3 Homework 3"
    }
   },
   "source": [
    "**Problem 2**. Plot viscosity versus molecular weight for ... Methane, Ethane, n-Propane, n-Butane, n-Pentane, n-Hexane, n-Octane ... at 20 $^\\circ$C and 1 atm. Describe the trend that you observe."
   ]
  },
  {
   "cell_type": "code",
   "execution_count": null,
   "metadata": {
    "nbpages": {
     "level": 1,
     "link": "[B.3 Homework 3](https://docNathanM.github.io/chemeng316_fluids/B.03-Homework-03.html#B.3-Homework-3)",
     "section": "B.3 Homework 3"
    }
   },
   "outputs": [],
   "source": [
    "# YOUR SOLUTION HERE"
   ]
  },
  {
   "cell_type": "markdown",
   "metadata": {
    "nbpages": {
     "level": 1,
     "link": "[B.3 Homework 3](https://docNathanM.github.io/chemeng316_fluids/B.03-Homework-03.html#B.3-Homework-3)",
     "section": "B.3 Homework 3"
    }
   },
   "source": [
    "<hr>"
   ]
  },
  {
   "cell_type": "markdown",
   "metadata": {
    "nbpages": {
     "level": 1,
     "link": "[B.3 Homework 3](https://docNathanM.github.io/chemeng316_fluids/B.03-Homework-03.html#B.3-Homework-3)",
     "section": "B.3 Homework 3"
    }
   },
   "source": [
    "**Problem 3**. A continuous gravity decanter (separator) is to separate chlorobenzene, with a density of 1109 kg/m$^3$, from an aqueous wash liquid having a density of 1020 kg/m$^3$. If the total depth in the separator is 1 m and the interface is to be 0.6 m from the vessel floor, (a) what should the height of the heavy-liquid overflow leg be, (b) find the minimum height of the heavy-liquid overflow leg, and (c) plot the interface height (plot $Z_{A_1}$) as a function of the height of the overflow leg between the minimum value and the total depth (for $Z_{A_2,min}<Z_{A_2}<1$)."
   ]
  },
  {
   "cell_type": "code",
   "execution_count": null,
   "metadata": {
    "nbpages": {
     "level": 1,
     "link": "[B.3 Homework 3](https://docNathanM.github.io/chemeng316_fluids/B.03-Homework-03.html#B.3-Homework-3)",
     "section": "B.3 Homework 3"
    }
   },
   "outputs": [],
   "source": [
    "# YOUR SOLUTION HERE"
   ]
  },
  {
   "cell_type": "markdown",
   "id": "73787f4d",
   "metadata": {},
   "source": [
    "<!--NAVIGATION-->\n",
    "< [B.2 Homework 2](https://docNathanM.github.io/chemeng316_fluids/B.02-Homework-02.html) | [Contents](toc.html) | [B.4 Homework 4](https://docNathanM.github.io/chemeng316_fluids/B.04-Homework-04.html) ><p><a href=\"https://colab.research.google.com/github/docNathanM/chemeng316_fluids/blob/master/docs/B.03-Homework-03.ipynb\"> <img align=\"left\" src=\"https://colab.research.google.com/assets/colab-badge.svg\" alt=\"Open in Colab\" title=\"Open in Google Colaboratory\"></a>"
   ]
  }
 ],
 "metadata": {
  "kernelspec": {
   "display_name": "Python 3 (ipykernel)",
   "language": "python",
   "name": "python3"
  },
  "language_info": {
   "codemirror_mode": {
    "name": "ipython",
    "version": 3
   },
   "file_extension": ".py",
   "mimetype": "text/x-python",
   "name": "python",
   "nbconvert_exporter": "python",
   "pygments_lexer": "ipython3",
   "version": "3.9.12"
  }
 },
 "nbformat": 4,
 "nbformat_minor": 4
}
